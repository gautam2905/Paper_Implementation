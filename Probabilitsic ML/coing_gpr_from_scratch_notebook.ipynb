{
 "cells": [
  {
   "cell_type": "markdown",
   "id": "117d3726",
   "metadata": {},
   "source": [
    "# Gaussian process regression - hands on implementation"
   ]
  },
  {
   "cell_type": "markdown",
   "id": "87a6f995",
   "metadata": {},
   "source": [
    "## Overview"
   ]
  },
  {
   "cell_type": "markdown",
   "id": "dcb462c6",
   "metadata": {},
   "source": [
    "This notebook contains a complete implementation of a Gaussian Process Regressor (GPR) with a squared exponential kernel using Numpy for matrix operations and Plotly for visualisation. \n",
    "\n",
    "The purpose of this notebook is to understand the main components of a GPR and to visualise the effects of certain parameters on the output. \n",
    "It is _not_ intended as a theoretical introduction to GPRs.\n",
    "A good introduction can be found [here](http://www.gaussianprocess.org/gpml/chapters/RW.pdf). \n",
    "\n",
    "Stable and effective implementations of GPR's are available, for example, in the [gpytorch](https://gpytorch.ai) package."
   ]
  },
  {
   "cell_type": "markdown",
   "id": "bfc98796",
   "metadata": {},
   "source": [
    "## Packages"
   ]
  },
  {
   "cell_type": "code",
   "execution_count": 2,
   "id": "b48ebe22",
   "metadata": {},
   "outputs": [],
   "source": [
    "import numpy as np\n",
    "import plotly.graph_objects as go\n",
    "from ipywidgets import interact, widgets"
   ]
  },
  {
   "cell_type": "markdown",
   "id": "4575ccbd",
   "metadata": {},
   "source": [
    "## Plotting helper functions"
   ]
  },
  {
   "cell_type": "markdown",
   "id": "caa8c0bf",
   "metadata": {},
   "source": [
    "To have nice visualizations of the later GPR, we use Plotly and to have structured and lean code, we define a few commonly used 'helpers' here. "
   ]
  },
  {
   "cell_type": "code",
   "execution_count": 3,
   "id": "ad8a0219",
   "metadata": {
    "code_folding": [
     0
    ]
   },
   "outputs": [],
   "source": [
    "def update_layout_of_graph(fig: go.Figure,title: str = 'Plot')->go.Figure:\n",
    "    fig.update_layout(\n",
    "        width=800,\n",
    "        height=600,\n",
    "        autosize=False,\n",
    "        plot_bgcolor='rgba(0,0,0,0)',\n",
    "        title=title,\n",
    "        \n",
    "    )\n",
    "    fig.update_layout(plot_bgcolor='rgba(0,0,0,0)',\n",
    "                      xaxis_title = 'input values',\n",
    "                      yaxis_title = 'output values',\n",
    "                      legend=dict(yanchor=\"top\",\n",
    "                                  y=0.9,\n",
    "                                  xanchor=\"right\",\n",
    "                                  x=0.95),\n",
    "                      title={\n",
    "                          'x': 0.5,\n",
    "                          'xanchor': 'center'\n",
    "                      })\n",
    "    fig.update_xaxes(showline=True, linewidth=1, linecolor='black')\n",
    "    fig.update_yaxes(showline=True, linewidth=1, linecolor='black')\n",
    "    return fig"
   ]
  },
  {
   "cell_type": "code",
   "execution_count": 4,
   "id": "66e5a661",
   "metadata": {
    "code_folding": [
     0,
     6
    ]
   },
   "outputs": [],
   "source": [
    "def line_scatter(\n",
    "    visible: bool = True,\n",
    "    x_lines: np.array = np.array([]),\n",
    "    y_lines: np.array = np.array([]),\n",
    "    name_line: str = 'Predicted function',\n",
    "    showlegend: bool = True,\n",
    ") -> go.Scatter:\n",
    "    # Adding the lines\n",
    "    return go.Scatter(\n",
    "        visible=visible,\n",
    "        line=dict(color=\"blue\", width=2),\n",
    "        x=x_lines,\n",
    "        y=y_lines,\n",
    "        name=name_line,\n",
    "        showlegend= showlegend\n",
    "    )"
   ]
  },
  {
   "cell_type": "code",
   "execution_count": 5,
   "id": "f0b4e5ac",
   "metadata": {
    "code_folding": [
     0,
     6
    ]
   },
   "outputs": [],
   "source": [
    "def dot_scatter(\n",
    "    visible: bool = True,\n",
    "    x_dots: np.array = np.array([]),\n",
    "    y_dots: np.array = np.array([]),\n",
    "    name_dots: str = 'Observed points',\n",
    "    showlegend: bool = True\n",
    ") -> go.Scatter:\n",
    "    # Adding the dots\n",
    "    return go.Scatter(\n",
    "        x=x_dots,\n",
    "        visible=visible,\n",
    "        y=y_dots,\n",
    "        mode=\"markers\",\n",
    "        name=name_dots,\n",
    "        marker=dict(color='red', size=8),\n",
    "        showlegend=showlegend\n",
    "    )"
   ]
  },
  {
   "cell_type": "code",
   "execution_count": 6,
   "id": "8dda25c4",
   "metadata": {
    "code_folding": [
     0,
     6
    ]
   },
   "outputs": [],
   "source": [
    "def uncertainty_area_scatter(\n",
    "        visible: bool = True,\n",
    "        x_lines: np.array = np.array([]),\n",
    "        y_upper: np.array = np.array([]),\n",
    "        y_lower: np.array = np.array([]),\n",
    "        name: str = \"mean plus/minus standard deviation\",\n",
    ") -> go.Scatter:\n",
    "\n",
    "    return go.Scatter(\n",
    "        visible=visible,\n",
    "        x=np.concatenate((x_lines, x_lines[::-1])),  # x, then x reversed\n",
    "        # upper, then lower reversed\n",
    "        y=np.concatenate((y_upper, y_lower[::-1])),\n",
    "        fill='toself',\n",
    "        fillcolor='rgba(189,195,199,0.5)',\n",
    "        line=dict(color='rgba(200,200,200,0)'),\n",
    "        hoverinfo=\"skip\",\n",
    "        showlegend=True,\n",
    "        name= name,\n",
    "    )"
   ]
  },
  {
   "cell_type": "code",
   "execution_count": 7,
   "id": "6a0be169",
   "metadata": {
    "code_folding": [
     0
    ]
   },
   "outputs": [],
   "source": [
    "def add_slider_GPR(figure: go.Figure, parameters):\n",
    "    figure.data[0].visible = True\n",
    "    figure.data[1].visible = True\n",
    "\n",
    "    # Create and add slider\n",
    "    steps = []\n",
    "    for i in range(int((len(figure.data) - 1) / 2)):\n",
    "        step = dict(\n",
    "            method=\"update\",\n",
    "            label=f'{parameters[i]: .2f}',\n",
    "            args=[{\n",
    "                \"visible\": [False] * (len(figure.data) - 1) + [True]\n",
    "            }],\n",
    "        )\n",
    "        step[\"args\"][0][\"visible\"][2 *\n",
    "                                   i] = True  # Toggle i'th trace to \"visible\"\n",
    "        step[\"args\"][0][\"visible\"][2 * i + 1] = True\n",
    "        steps.append(step)\n",
    "\n",
    "    sliders = [dict(\n",
    "        active=0,\n",
    "        pad={\"t\": 50},\n",
    "        steps=steps,\n",
    "    )]\n",
    "    figure.update_layout(sliders=sliders, )\n",
    "    return figure"
   ]
  },
  {
   "cell_type": "code",
   "execution_count": 8,
   "id": "cf44e383",
   "metadata": {
    "code_folding": [
     0
    ]
   },
   "outputs": [],
   "source": [
    "def add_slider_to_function(figure:go.Figure, parameters):\n",
    "    figure.data[0].visible = True\n",
    "\n",
    "    # Create and add slider\n",
    "    steps = []\n",
    "    for i in range(len(figure.data)):\n",
    "        step = dict(\n",
    "            method=\"update\",\n",
    "            label=f'{parameters[i]: .2f}',\n",
    "            args=[{\n",
    "                \"visible\": [False] *len(figure.data) \n",
    "            }],\n",
    "        )\n",
    "        step[\"args\"][0][\"visible\"][i] = True  # Toggle i'th trace to \"visible\"\n",
    "        steps.append(step)\n",
    "\n",
    "    sliders = [dict(\n",
    "        active=0,\n",
    "        pad={\"t\": 50},\n",
    "        steps=steps,\n",
    "    )]\n",
    "    figure.update_layout(sliders=sliders, )\n",
    "    return figure"
   ]
  },
  {
   "cell_type": "markdown",
   "id": "9058664e",
   "metadata": {},
   "source": [
    "## Implementation of GPR with squared exponential kernel"
   ]
  },
  {
   "cell_type": "markdown",
   "id": "fa792ab3",
   "metadata": {},
   "source": [
    "In order to define a gaussian process regressor (GPR) we need a covariance function (also called kernel). The choice of this function will determine the 'shape' of the later GPR. \n",
    "\n",
    "In this notebook we choose the popular _squared exponential_ kernel:\n",
    "$$ k(x_1,x_2):= \\sigma^2*\\exp(-\\|x_1-x_2\\|^2_2)/(2*l^2))$$\n",
    "with $$l>0$$ the lengthscale and $$\\sigma^2>0$$ the signal variance. \n",
    "You are encouraged to implement a different kernel and see the difference in the resulting GPR!\n",
    "\n"
   ]
  },
  {
   "cell_type": "markdown",
   "id": "de1e9a31",
   "metadata": {},
   "source": [
    "### Implementing the ReLU Kernel\n",
    "\n",
    "$$\n",
    "k(x, x') = \\frac{\\sigma_f^2}{\\pi} \\|x\\| \\|x'\\| \\left( \\sin \\theta + (\\pi - \\theta) \\cos \\theta \\right)\n",
    "$$\n",
    "\n",
    "where $\\theta$ is the angle between vectors $x$ and $x'$, computed as:\n",
    "\n",
    "$$\n",
    "\\theta = \\cos^{-1} \\left( \\frac{x \\cdot x'}{\\|x\\| \\|x'\\|} \\right)\n",
    "$$\n",
    "\n",
    "\n",
    "### Implementing the Sigmoid (Erf) Kernel\n",
    "\n",
    "The sigmoid activation function corresponds to the error function (erf) kernel in the context of Gaussian Processes. The kernel is defined as:([arXiv][4])\n",
    "\n",
    "$$\n",
    "k(x, x') = \\sigma_f^2 \\cdot \\frac{2}{\\pi} \\sin^{-1} \\left( \\frac{2 x \\cdot x'}{\\sqrt{(1 + 2 \\|x\\|^2)(1 + 2 \\|x'\\|^2)}} \\right)\n",
    "$$"
   ]
  },
  {
   "cell_type": "markdown",
   "id": "5aada585",
   "metadata": {},
   "source": [
    "# Quadratic Kernel \n",
    "\n",
    "$$ k(x_1,x_2):= \\sigma^2*(1  + |x_1-x_2|^2/(2*l^2 * {\\alpha})))$$\n"
   ]
  },
  {
   "cell_type": "code",
   "execution_count": 9,
   "id": "cbc55090",
   "metadata": {},
   "outputs": [],
   "source": [
    "class SquaredExponentialKernel:\n",
    "    def __init__(self, sigma_f: float = 1, length: float = 1):\n",
    "        self.sigma_f = sigma_f\n",
    "        self.length = length\n",
    "\n",
    "    def __call__(self, argument_1: np.array, argument_2: np.array) -> float:\n",
    "        return float(self.sigma_f *\n",
    "                     np.exp(-(np.linalg.norm(argument_1 - argument_2)**2) /\n",
    "                            (2 * self.length**2)))\n",
    "\n",
    "class ReLUKernel:\n",
    "    def __init__(self, sigma_f: float = 1.0):\n",
    "        self.sigma_f = sigma_f\n",
    "\n",
    "    def __call__(self, x: np.array, x_prime: np.array) -> float:\n",
    "        norm_x = np.linalg.norm(x)\n",
    "        norm_x_prime = np.linalg.norm(x_prime)\n",
    "        dot_product = np.dot(x, x_prime)\n",
    "        cos_theta = dot_product / (norm_x * norm_x_prime + 1e-10)  # Add epsilon to avoid division by zero\n",
    "        theta = np.arccos(np.clip(cos_theta, -1.0, 1.0))\n",
    "        return self.sigma_f ** 2 * norm_x * norm_x_prime * (np.sin(theta) + (np.pi - theta) * np.cos(theta)) / np.pi\n",
    "\n",
    "class SigmoidKernel:\n",
    "    def __init__(self, sigma_f: float = 1.0):\n",
    "        self.sigma_f = sigma_f\n",
    "\n",
    "    def __call__(self, x: np.array, x_prime: np.array) -> float:\n",
    "        dot_product = np.dot(x, x_prime)\n",
    "        norm_x_squared = np.dot(x, x)\n",
    "        norm_x_prime_squared = np.dot(x_prime, x_prime)\n",
    "        denominator = np.sqrt((1 + 2 * norm_x_squared) * (1 + 2 * norm_x_prime_squared))\n",
    "        argument = (2 * dot_product) / (denominator + 1e-10)  # Add epsilon to avoid division by zero\n",
    "        return self.sigma_f ** 2 * (2 / np.pi) * np.arcsin(np.clip(argument, -1.0, 1.0))\n"
   ]
  },
  {
   "cell_type": "markdown",
   "id": "b23258da",
   "metadata": {},
   "source": [
    "Let us visualize this kernel."
   ]
  },
  {
   "cell_type": "code",
   "execution_count": 10,
   "id": "dabbde9e",
   "metadata": {},
   "outputs": [],
   "source": [
    "# !pip install anywidget "
   ]
  },
  {
   "cell_type": "code",
   "execution_count": 11,
   "id": "e1cd79c0",
   "metadata": {},
   "outputs": [
    {
     "data": {
      "application/vnd.jupyter.widget-view+json": {
       "model_id": "6ac97133a6c24b09b2928c4b835ae7df",
       "version_major": 2,
       "version_minor": 0
      },
      "text/plain": [
       "interactive(children=(FloatSlider(value=1.0, description='length', max=3.0, min=0.1), FloatSlider(value=0.0, d…"
      ]
     },
     "metadata": {},
     "output_type": "display_data"
    },
    {
     "data": {
      "application/vnd.jupyter.widget-view+json": {
       "model_id": "6fc6170334ce4001899b29a8494a9d6e",
       "version_major": 2,
       "version_minor": 0
      },
      "text/plain": [
       "FigureWidget({\n",
       "    'data': [{'line': {'color': 'blue', 'width': 2},\n",
       "              'name': 'Predicted function',\n",
       "              'showlegend': True,\n",
       "              'type': 'scatter',\n",
       "              'uid': '061fdbcc-cf7e-4f3e-a037-73fbadc7080a',\n",
       "              'visible': True,\n",
       "              'x': {'bdata': ('AAAAAAAAJMDNzMzMzMwjwJqZmZmZmS' ... 'ZmZiNAcpmZmZmZI0CkzMzMzMwjQA=='),\n",
       "                    'dtype': 'f8'},\n",
       "              'y': {'bdata': ('Pwh+VH0lbTsp5QpwUbWDO4v/ANc0Y5' ... 'FLfbE7vxMB1zRjmju29ApwUbWDOw=='),\n",
       "                    'dtype': 'f8'}}],\n",
       "    'layout': {'autosize': False,\n",
       "               'height': 600,\n",
       "               'legend': {'x': 0.95, 'xanchor': 'right', 'y': 0.9, 'yanchor': 'top'},\n",
       "               'plot_bgcolor': 'rgba(0,0,0,0)',\n",
       "               'template': '...',\n",
       "               'title': {'text': 'Squared exponential kernel', 'x': 0.5, 'xanchor': 'center'},\n",
       "               'width': 800,\n",
       "               'xaxis': {'linecolor': 'black', 'linewidth': 1, 'showline': True, 'title': {'text': 'input values'}},\n",
       "               'yaxis': {'linecolor': 'black', 'linewidth': 1, 'showline': True, 'title': {'text': 'output values'}}}\n",
       "})"
      ]
     },
     "execution_count": 11,
     "metadata": {},
     "output_type": "execute_result"
    }
   ],
   "source": [
    "x_lines = np.arange(-10, 10, 0.1)\n",
    "kernel = SquaredExponentialKernel(length=1)\n",
    "# Kernel = ReLUKernel(sigma_f=1)\n",
    "# kernel = SigmoidKernel(sigma_f=1)\n",
    "\n",
    "fig0 = go.FigureWidget(data=[\n",
    "    line_scatter(\n",
    "        x_lines=x_lines,\n",
    "        y_lines=np.array([kernel(x, 0) for x in x_lines]),\n",
    "    )\n",
    "])\n",
    "\n",
    "fig0 = update_layout_of_graph(fig0, title='Squared exponential kernel')\n",
    "\n",
    "\n",
    "@interact(length=(0.1, 3, 0.1), argument_2=(-10, 10, 0.1))\n",
    "def update(length=1, argument_2=0):\n",
    "    with fig0.batch_update():\n",
    "        kernel = SquaredExponentialKernel(length=length)\n",
    "        # kernel = ReLUKernel(sigma_f=length)\n",
    "        # kernel = SigmoidKernel(sigma_f=length)\n",
    "        fig0.data[0].y = np.array([kernel(x, argument_2) for x in x_lines])\n",
    "\n",
    "\n",
    "fig0"
   ]
  },
  {
   "cell_type": "markdown",
   "id": "613a3946",
   "metadata": {},
   "source": [
    "In the practical implementation of the GPR you will face a couple of stability problems. Among others, numeric approximations in dealing with matrix (operations) may lead to non-invertible/non-positive-semi-definite covariance matrices which result in errors when calculating the GPR. \n",
    "\n",
    "In order to prevent this error we add the _machine epsilon_ to the diagonal of the later covariance matrix:"
   ]
  },
  {
   "cell_type": "code",
   "execution_count": 12,
   "id": "517a082d",
   "metadata": {},
   "outputs": [
    {
     "name": "stdout",
     "output_type": "stream",
     "text": [
      "2.220446049250313e-16\n",
      "1.1920929e-07\n"
     ]
    }
   ],
   "source": [
    "print(np.finfo(float).eps)\n",
    "# 2.22044604925e-16\n",
    "\n",
    "print(np.finfo(np.float32).eps)\n",
    "# 1.19209e-07"
   ]
  },
  {
   "cell_type": "markdown",
   "id": "18f81bfc",
   "metadata": {},
   "source": [
    "Let us shortly recall the formula:\n",
    "Given training points $x_1,...,x_n\\in \\mathbb{R}^m$ with values $y_1,...,y_n\\in \\mathbb{R}$, $y = (y_i)\\in \\mathbb{R}^n$ with noise in each point $\\mathcal{N}_{0,\\sigma}$  and points $x_{n+1},...,x_k\\in \\mathbb{R}^m$ for which we want to predict the output, adapting our probability distribution leads to:\n",
    "\n",
    "$$\\mathcal{N}(K_*K^{-1}y,K_{**}-K_*K^{-1}K_*^T)$$\n",
    "with \n",
    "$$K= (k(x_i,x_j))_{i,j\\leq n}+\\sigma^2*\\mathbb{1}_n$$\n",
    "$$K_*= (k(x_i,x_j))_{n+1\\leq i, j\\leq n}$$\n",
    "$$K_{**}= (k(x_i,x_j))_{n+1\\leq i,j}$$"
   ]
  },
  {
   "cell_type": "code",
   "execution_count": 13,
   "id": "06c65a7a",
   "metadata": {},
   "outputs": [],
   "source": [
    "# Helper function to calculate the respective covariance matrices\n",
    "def cov_matrix(x1, x2, cov_function) -> np.array:\n",
    "    return np.array([[cov_function(a, b) for a in x1] for b in x2])"
   ]
  },
  {
   "cell_type": "code",
   "execution_count": 14,
   "id": "d9bdfc5b",
   "metadata": {},
   "outputs": [],
   "source": [
    "class GPR:\n",
    "    def __init__(self,\n",
    "                 data_x: np.array,\n",
    "                 data_y: np.array,\n",
    "                 covariance_function=SquaredExponentialKernel(),\n",
    "                # covariance_function=ReLUKernel(),\n",
    "                #  covariance_function=SigmoidKernel(),\n",
    "                 white_noise_sigma: float = 0):\n",
    "        self.noise = white_noise_sigma\n",
    "        self.data_x = data_x\n",
    "        self.data_y = data_y\n",
    "        self.covariance_function = covariance_function\n",
    "\n",
    "        # Store the inverse of covariance matrix of input (+ machine epsilon on diagonal) since it is needed for every prediction\n",
    "        self._inverse_of_covariance_matrix_of_input = np.linalg.inv(\n",
    "            cov_matrix(data_x, data_x, covariance_function) +\n",
    "            (3e-7 + self.noise) * np.identity(len(self.data_x)))\n",
    "\n",
    "        self._memory = None\n",
    "\n",
    "    # function to predict output at new input values. Store the mean and covariance matrix in memory.\n",
    "\n",
    "    def predict(self, at_values: np.array) -> np.array:\n",
    "        k_lower_left = cov_matrix(self.data_x, at_values,\n",
    "                                  self.covariance_function)\n",
    "        k_lower_right = cov_matrix(at_values, at_values,\n",
    "                                   self.covariance_function)\n",
    "\n",
    "        # Mean.\n",
    "        mean_at_values = np.dot(\n",
    "            k_lower_left,\n",
    "            np.dot(self.data_y,\n",
    "                   self._inverse_of_covariance_matrix_of_input.T).T).flatten()\n",
    "\n",
    "        # Covariance.\n",
    "        cov_at_values = k_lower_right - \\\n",
    "            np.dot(k_lower_left, np.dot(\n",
    "                self._inverse_of_covariance_matrix_of_input, k_lower_left.T))\n",
    "\n",
    "        # Adding value larger than machine epsilon to ensure positive semi definite\n",
    "        cov_at_values = cov_at_values + 3e-7 * np.ones(\n",
    "            np.shape(cov_at_values)[0])\n",
    "\n",
    "        var_at_values = np.diag(cov_at_values)\n",
    "\n",
    "        self._memory = {\n",
    "            'mean': mean_at_values,\n",
    "            'covariance_matrix': cov_at_values,\n",
    "            'variance': var_at_values\n",
    "        }\n",
    "        return mean_at_values"
   ]
  },
  {
   "cell_type": "markdown",
   "id": "9e6b586e",
   "metadata": {},
   "source": [
    "That's it. The GPR is ready to be used! "
   ]
  },
  {
   "cell_type": "markdown",
   "id": "a5e2f744",
   "metadata": {},
   "source": [
    "## Testing"
   ]
  },
  {
   "cell_type": "markdown",
   "id": "decbe1a4",
   "metadata": {},
   "source": [
    "Let us initialize our GPR on a random training set and visualize the GPR. "
   ]
  },
  {
   "cell_type": "markdown",
   "id": "4a9aa377",
   "metadata": {},
   "source": [
    "### Initializing training data"
   ]
  },
  {
   "cell_type": "code",
   "execution_count": 15,
   "id": "12f59452",
   "metadata": {},
   "outputs": [],
   "source": [
    "x_values = np.array([0, 0.3, 1, 3.1, 4.7])\n",
    "x_values = np.random.rand(10) * 10 - 5\n",
    "\n",
    "# y_values = np.array([1, 0, 1.4, 0, -0.9])\n",
    "y_values = np.random.rand(10) * 10 - 5"
   ]
  },
  {
   "cell_type": "code",
   "execution_count": 16,
   "id": "baf9cac1",
   "metadata": {},
   "outputs": [],
   "source": [
    "# x = np.arange(-1,7,0.1)\n",
    "x = np.arange(-10, 10, 0.1)"
   ]
  },
  {
   "cell_type": "markdown",
   "id": "8410f233",
   "metadata": {},
   "source": [
    "### Plot the output"
   ]
  },
  {
   "cell_type": "code",
   "execution_count": 17,
   "id": "551cde2c",
   "metadata": {},
   "outputs": [
    {
     "data": {
      "text/plain": [
       "array([-2.03670403,  2.76167583, -4.5262673 , -0.75566034, -3.99018975,\n",
       "       -3.88182913, -1.7308811 ,  4.32842884,  3.43567067,  4.4324761 ])"
      ]
     },
     "execution_count": 17,
     "metadata": {},
     "output_type": "execute_result"
    }
   ],
   "source": [
    "x_values"
   ]
  },
  {
   "cell_type": "markdown",
   "id": "fe426230",
   "metadata": {},
   "source": [
    "Let us define a helper function which returns a list of all plots of data points, mean, etc. needed to plot a GPR."
   ]
  },
  {
   "cell_type": "code",
   "execution_count": 18,
   "id": "b99b06c2",
   "metadata": {},
   "outputs": [],
   "source": [
    "def plot_GPR(data_x, data_y, model, x, visible=True) -> list:\n",
    "    mean = model.predict(x)\n",
    "\n",
    "    std = np.sqrt(model._memory['variance'])\n",
    "    data = []\n",
    "\n",
    "    for i in range(1, 4):\n",
    "        data.append(\n",
    "            uncertainty_area_scatter(\n",
    "                x_lines=x,\n",
    "                y_lower=mean - i * std,\n",
    "                y_upper=mean + i * std,\n",
    "                name=f\"mean plus/minus {i}*standard deviation\",\n",
    "                visible=visible))\n",
    "\n",
    "    data.append(line_scatter(x_lines=x, y_lines=mean, visible=visible))\n",
    "    data.append(dot_scatter(x_dots=data_x, y_dots=data_y, visible=visible))\n",
    "    return data"
   ]
  },
  {
   "cell_type": "markdown",
   "id": "51cd9df1",
   "metadata": {},
   "source": [
    "Now, we can visualize our first GPR."
   ]
  },
  {
   "cell_type": "code",
   "execution_count": 19,
   "id": "8ca9e641",
   "metadata": {},
   "outputs": [],
   "source": [
    "# !pip install ipykernel"
   ]
  },
  {
   "cell_type": "code",
   "execution_count": 20,
   "id": "9a82c61f",
   "metadata": {},
   "outputs": [
    {
     "data": {
      "application/vnd.plotly.v1+json": {
       "config": {
        "plotlyServerURL": "https://plot.ly"
       },
       "data": [
        {
         "fill": "toself",
         "fillcolor": "rgba(189,195,199,0.5)",
         "hoverinfo": "skip",
         "line": {
          "color": "rgba(200,200,200,0)"
         },
         "name": "mean plus/minus 1*standard deviation",
         "showlegend": true,
         "type": "scatter",
         "visible": true,
         "x": {
          "bdata": "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",
          "dtype": "f8"
         },
         "y": {
          "bdata": "8j+gMBsB8D+fDt2o4gHwP8ngpCcuA/A/vQRoFk8F8D9px4IgxQjwP23aVAhWDvA/LV16VjAX8D+XzaYNHSXwP47wDcLFOvA/CyubzxVc8D/necLZvo7wP/epGh3q2vA/EBc3KyFM8T/S8mcXefLxP2fve3UK5PI/gB6dRL4+9D/wIvhTcyr2P7wC8S942/g/3DI9lUqV/D87H3cov9YAQEIZlR9NRwRAfL1Om1HdCEAoObWmeeYOQPRfrom4XhNAicPhA6tkGEBGmkh4/b0eQNRrNAKpUyNAIngdNz0vKEBUludDdQ8uQOK+z5FGhzJAqxAq5zigNkB4WYzTwVc7QKXzpyhFVkBAziEhondKQ0C8whFdsH5GQIcfi92K40lAVDs7OKVjTUAqTx3Kz3FQQMdpU2BKIVJA5NcrNY+tU0ATgrTgdgJVQIQkDCR6C1ZAl6NncQS1VkCRzMM08u1WQDI2JlwgqVZAuFnB1OveVUBHufJWe45UQDsNp+isvlJAjzvNqoN+UEA1xQNA9MlLQMJfuc5RIEZAqYEnNIJHQEBHnsDzqhs1QBccXvxJDSVAK85Udvh99j/y93BE/uwWwEOWSGQl+iTAp1InceNHKcBdSbEZKT0owIZiLwQxFyLAxgmRl8q/DcAht6L64jALQG3mwje+cCdAET5CKDOVNEDQZ8uL+0s9QG1JqXcPmkJA4I0tNizdRUD0tCWoEzZIQFRX42EYgElAWLLEn2qtSUBB7ZetT8dIQJ7AEuJN7EZAxQoBTIhMRECSwgIEsSRBQKTwbQkycDtAw1AH1OqUNEB1fl8Vy2csQFcIBaiBaCFAF++uFwyBEUBEwYGTjQ32P21w3GxajdC/tiitqA1+5L/5g7oCTTCFP67zEgGMjfY/jdd9KrPcCUDDdXZnpHoUQA4HbEgL9BpAbr16ilA3H0AM1NUjLTQgQI2jHFkqAB5APHnZNxjSF0AnPtx+XBEMQM17R3rWtNE/WdQfbo4pDMA3b8jT1qIewDsCWwDS3ifAHPeu7WQdMMDZCuIjYPszwNiRO8U9WjfABf/r9YgVOsAnwG4KzRQ8wM8+gfnWSz3APr1K2gO6PcAZXHtz0Gg9wArfkZvmaTzALgcGuebUOsCnSPoYJ8U4wEShe5KZVzbAw4tDu/uoM8CtFW6JaNQwwCWu5Eeq5CvA2uSBIe4vJsAHAjhtEa4gwB9Q09xq9xbAtVCHaOi8CsDvPFAHnszyv1gR701XjOc/E+JBxL/7AkBSYyIygssNQOplHAq0IRNAuxQzDUkuFkD4UVY7CQwYQIqUG9vRvxhAPkfIWH9TGEAuerH+wNYWQHsQswzqXxRAoOXOj5QMEUD/zNqp3gMKQJEdLfgs/QBAd+gpfcmX7T+apfi7Dp3UvwBkfNEV4/i/+n8PSr2xBcARVVZJRdQNwHfnbVLnMBLAkVLbrKhqFMARyGkuQHgVwORXjYDZSBXASNiXWTPRE8D0vcPBEBURwKr4uPqeTgrAKAQPjTFSAMDW2lewsEHiv4fq7k3/DfE/nxtDVit3BkCrxco3YFkSQBZmEE95XRlABRSm8zgDIEDoJRJIOQ0jQFJR8MtWtCVAuE+JQanlJ0C6smTFY5QpQKm9E4YMuipAOOFHoFJWK0BTxHmEjG4rQEbAyvDuDCtAlkJ1X5A/KkAIQOqjThcpQLNemFSspidAVuykw7kAJkDDcEoKGjgkQPJoN34wXiJAtH1ATH6CIEBbwrXAZmQdQDrj5jzj7xlAOvloDHy3FkB7Fha1McYTQKYiGbhoIhFAqRIbIgSdDUB+Rb8OGpMJQGb5hYkEIAZAm4Y5avU4A0AW1meVr9AAQGy6CglYsf0/wJgXgBaE+j+CGjVzofz3Pxju1cDT//U/dITZAQx19D/anTIDjEbzP+S/+/SXYfI/bJEJXWW28T+goHik6DfxPySd6hCO2/A/IggMjuiY8D/HTjsvXmnwPzvqzP/XR/A/WFM8t3gw8D9s6O5GXCDwP5vYi/tgFfA/4evSDPoN8D+SkfbmCgnwP3VA+ifKBfA/XIuRKqsD8D/R+Q/4TALwP57QEpBtAfA/sdc3leAA8D+YL4OTiADwPy/xWDpSAPA/UgZEBjEA8D/uCan0HADwP5DUvLfG/++/I2uFlJ7/779OmVcsXP/vvzdR+Hnv/u+/DmJydj/+778sKHKAJf3vv9Mlu69m+++/j+/iSKr47786XJxJbPTvv/kkB8Hq7e+/jeiWXAzk77+v0NFGPtXvv7o2ezJHv++/JjkSQA2f77910/tmTHDvv3wOKEY7Le+/N2CN1BzO7r8tV+l1vkjuv7kfvZjjj+2/vfiGT6KS7L9QnmBetzvrv6x1APTbcOm/mIpAnisS57/x1wTFrfnjv5iIGGs19t+/WmnMEfHH1b/gRb4ovfDBv4gX/qNYxrs/SjtGGSB02j+XWsuNlQbpPwNX0IjNjPM/HlmaBBvT+z+siLdNhLQCQPFZ7uPiKwhAbE3W699NDkDOemxNY4gSQE3jEE7IMBZAaGWcBGURGkBcmYAH9BUeQHVs5IpOEiFAQkD0QyYPI0D9VKsvu+8kQGisnmeloCZAqiEhn6wNKEBqp3lMyiIpQJ1FuJdQzSlAKOf7KCX9KUCXhrDI+qUpQKaqhAZywChAiBZJPwhLJ0BusF+vvUolQDihp+FeyyJA9UlOJMe+H0CqJLbzuD4ZQJXklqjdURJA4Wr6hl9zBkB5wPRHwAPxPyr1Grw8p+K/2M8duD+HAMDWlM4QHp4KwAzybxYHRhHAuPy1kuoEFMDcy2XlkHcVwO82l6w2mhXAT4U97G55FMDpPqr2mjkSwO/SBdojFQ7AhvM2XFwbBsCARW6L3uj5v2blqdu7v9i/iepeV0D96z8PhMrB+dgAQDGf90IBvQlAYFOvGQifEEDdeS0KN5QTQO6kTzTCmhVAqnFGvPOXFkB4nNKmJXkWQBAop5nZMhVAHRxVU56/EkAbcIFS6z0OQIhKiBbZqARApoVz+EGc8T8ANpgJ5fTkv5aRs9dAXAXADBPBGfOzE8Dt29rd7ZUdwD8FiYqyGCTAJPhWTpWsKcCJH66g4mkvwLMIYGGNljLA76Rm8uhlNcAoqi2Pkwo4wE2fVyB/aTrALJQUxwhmPMBCO1yJbuM9wB9v9NCmxj7ADBbYiYH4PsClcJVT7Wc+wC2FXj8vDD3AT3U+qdLmOsDcVOmMEgU4wNXWvrp/gDTAXi2uhLB+MMBzQExOrl8owE8XDRTPMB/AMUGxoZ+DDMBx0dPbZobPP6V4e+GkZgtA1jfgKtpbF0DdP4p0wHwdQBW4Weaf6B9ABhkMQ07IHkB6WAjFTJ4aQKMgoiHsQRRAaVtiO3OjCUBiy7F2bnb2PwgBEOcod1Y/enks6UTn5L9dK7kP6enQv2buFlJE2fU/MeAloilYEUCFC9tU1UIhQKP1JP5RLyxAEbsD5nJvNEAI6fozmEI7QFaukbHHCkFAnWFffsQwREB+b3h9HNBGQBO9rA0irEhA3kLAU5CUSUDqSoxunWpJQAJnKRWnJEhAvmQevRHQRUCbON/qHZFCQOwphqlUQT1AnU5C/RyQNEDxMGPCp20nQG8M9+3CLQtAetTxUynDDcAYto/ybBoiwE1Muz31QyjA1ZUvsilRKcDNa8DwuAIlwO75Bxx/8hbAdU72Sbwr9j+5d48cy+0kQK9xmnWz/DRA1SBaZwwuQEC8xSZUmvpFQMuG11PulUtAMVZmHYBcUEAFmj0uCJRSQDkqWOHUWlRAqKiPlSWiVUBuO4qoXGNWQC8+WqiNn1ZASRRRrYxeVkAMHkt0oq1VQG1oDuELnlRANDAqgmpDU0CxHTQ9R7JRQOz/gd+C/U9ANPr1TPl2TECpY8k6rfFIQExxq9/OiEVAItdXu45RQkBVNl/sQrY+QIzs6ZBGXjlAuW+2PH+kNEDSsf9TBIowQLhe7U3lEipA3knLwFgxJEArQcXg2KkeQFqZ/KB4vxZA/S+pVYRlEEDTmX2tZL4GQO/Fmk/+zf0/MLigRzK78T9aNJlTyh3hP6gJV+tJ2ro/RCaCrhJVy78ea95g+pHcvxJju80Qq+O/+YDuxn+C579q2xK56Tfqv/DqtowNG+y/n5FP5b1n7b+W8RE7LEruvz70BNuC4u6/uUwt+tRH77/ERtcZdYrvv87EhYTGte+/rfSf85/R7796IzeQVOPvv3+o+F927u+/PUQ5dGL1778apcNRpPnvv+/EVE87/O+/uOjOP8r9778=",
          "dtype": "f8"
         }
        },
        {
         "fill": "toself",
         "fillcolor": "rgba(189,195,199,0.5)",
         "hoverinfo": "skip",
         "line": {
          "color": "rgba(200,200,200,0)"
         },
         "name": "mean plus/minus 2*standard deviation",
         "showlegend": true,
         "type": "scatter",
         "visible": true,
         "x": {
          "bdata": "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",
          "dtype": "f8"
         },
         "y": {
          "bdata": "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",
          "dtype": "f8"
         }
        },
        {
         "fill": "toself",
         "fillcolor": "rgba(189,195,199,0.5)",
         "hoverinfo": "skip",
         "line": {
          "color": "rgba(200,200,200,0)"
         },
         "name": "mean plus/minus 3*standard deviation",
         "showlegend": true,
         "type": "scatter",
         "visible": true,
         "x": {
          "bdata": "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",
          "dtype": "f8"
         },
         "y": {
          "bdata": "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",
          "dtype": "f8"
         }
        },
        {
         "line": {
          "color": "blue",
          "width": 2
         },
         "name": "Predicted function",
         "showlegend": true,
         "type": "scatter",
         "visible": true,
         "x": {
          "bdata": "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",
          "dtype": "f8"
         },
         "y": {
          "bdata": "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",
          "dtype": "f8"
         }
        },
        {
         "marker": {
          "color": "red",
          "size": 8
         },
         "mode": "markers",
         "name": "Observed points",
         "showlegend": true,
         "type": "scatter",
         "visible": true,
         "x": {
          "bdata": "LvnYeitLAMCcJEp/6RcGQGhIiNDlGhLA4Ltmll4u6L9+LOma6OsPwG6Tk278DQ/AvCZ1YbCx+78G15CmT1ARQAjIDehAfAtAggELBNu6EUA=",
          "dtype": "f8"
         },
         "y": {
          "bdata": "wLZA3nSpxz/QNrV6+HYEQCnJazdXThDAGMP8+5rQ9b8CI26J5L8IwAzzeoQkXRNAeOYlokNB7T907zQJgtf4P5a42rAHIRPACJawnwkSC0A=",
          "dtype": "f8"
         }
        }
       ],
       "layout": {
        "autosize": false,
        "height": 600,
        "legend": {
         "x": 0.95,
         "xanchor": "right",
         "y": 0.9,
         "yanchor": "top"
        },
        "plot_bgcolor": "rgba(0,0,0,0)",
        "template": {
         "data": {
          "bar": [
           {
            "error_x": {
             "color": "#2a3f5f"
            },
            "error_y": {
             "color": "#2a3f5f"
            },
            "marker": {
             "line": {
              "color": "#E5ECF6",
              "width": 0.5
             },
             "pattern": {
              "fillmode": "overlay",
              "size": 10,
              "solidity": 0.2
             }
            },
            "type": "bar"
           }
          ],
          "barpolar": [
           {
            "marker": {
             "line": {
              "color": "#E5ECF6",
              "width": 0.5
             },
             "pattern": {
              "fillmode": "overlay",
              "size": 10,
              "solidity": 0.2
             }
            },
            "type": "barpolar"
           }
          ],
          "carpet": [
           {
            "aaxis": {
             "endlinecolor": "#2a3f5f",
             "gridcolor": "white",
             "linecolor": "white",
             "minorgridcolor": "white",
             "startlinecolor": "#2a3f5f"
            },
            "baxis": {
             "endlinecolor": "#2a3f5f",
             "gridcolor": "white",
             "linecolor": "white",
             "minorgridcolor": "white",
             "startlinecolor": "#2a3f5f"
            },
            "type": "carpet"
           }
          ],
          "choropleth": [
           {
            "colorbar": {
             "outlinewidth": 0,
             "ticks": ""
            },
            "type": "choropleth"
           }
          ],
          "contour": [
           {
            "colorbar": {
             "outlinewidth": 0,
             "ticks": ""
            },
            "colorscale": [
             [
              0,
              "#0d0887"
             ],
             [
              0.1111111111111111,
              "#46039f"
             ],
             [
              0.2222222222222222,
              "#7201a8"
             ],
             [
              0.3333333333333333,
              "#9c179e"
             ],
             [
              0.4444444444444444,
              "#bd3786"
             ],
             [
              0.5555555555555556,
              "#d8576b"
             ],
             [
              0.6666666666666666,
              "#ed7953"
             ],
             [
              0.7777777777777778,
              "#fb9f3a"
             ],
             [
              0.8888888888888888,
              "#fdca26"
             ],
             [
              1,
              "#f0f921"
             ]
            ],
            "type": "contour"
           }
          ],
          "contourcarpet": [
           {
            "colorbar": {
             "outlinewidth": 0,
             "ticks": ""
            },
            "type": "contourcarpet"
           }
          ],
          "heatmap": [
           {
            "colorbar": {
             "outlinewidth": 0,
             "ticks": ""
            },
            "colorscale": [
             [
              0,
              "#0d0887"
             ],
             [
              0.1111111111111111,
              "#46039f"
             ],
             [
              0.2222222222222222,
              "#7201a8"
             ],
             [
              0.3333333333333333,
              "#9c179e"
             ],
             [
              0.4444444444444444,
              "#bd3786"
             ],
             [
              0.5555555555555556,
              "#d8576b"
             ],
             [
              0.6666666666666666,
              "#ed7953"
             ],
             [
              0.7777777777777778,
              "#fb9f3a"
             ],
             [
              0.8888888888888888,
              "#fdca26"
             ],
             [
              1,
              "#f0f921"
             ]
            ],
            "type": "heatmap"
           }
          ],
          "histogram": [
           {
            "marker": {
             "pattern": {
              "fillmode": "overlay",
              "size": 10,
              "solidity": 0.2
             }
            },
            "type": "histogram"
           }
          ],
          "histogram2d": [
           {
            "colorbar": {
             "outlinewidth": 0,
             "ticks": ""
            },
            "colorscale": [
             [
              0,
              "#0d0887"
             ],
             [
              0.1111111111111111,
              "#46039f"
             ],
             [
              0.2222222222222222,
              "#7201a8"
             ],
             [
              0.3333333333333333,
              "#9c179e"
             ],
             [
              0.4444444444444444,
              "#bd3786"
             ],
             [
              0.5555555555555556,
              "#d8576b"
             ],
             [
              0.6666666666666666,
              "#ed7953"
             ],
             [
              0.7777777777777778,
              "#fb9f3a"
             ],
             [
              0.8888888888888888,
              "#fdca26"
             ],
             [
              1,
              "#f0f921"
             ]
            ],
            "type": "histogram2d"
           }
          ],
          "histogram2dcontour": [
           {
            "colorbar": {
             "outlinewidth": 0,
             "ticks": ""
            },
            "colorscale": [
             [
              0,
              "#0d0887"
             ],
             [
              0.1111111111111111,
              "#46039f"
             ],
             [
              0.2222222222222222,
              "#7201a8"
             ],
             [
              0.3333333333333333,
              "#9c179e"
             ],
             [
              0.4444444444444444,
              "#bd3786"
             ],
             [
              0.5555555555555556,
              "#d8576b"
             ],
             [
              0.6666666666666666,
              "#ed7953"
             ],
             [
              0.7777777777777778,
              "#fb9f3a"
             ],
             [
              0.8888888888888888,
              "#fdca26"
             ],
             [
              1,
              "#f0f921"
             ]
            ],
            "type": "histogram2dcontour"
           }
          ],
          "mesh3d": [
           {
            "colorbar": {
             "outlinewidth": 0,
             "ticks": ""
            },
            "type": "mesh3d"
           }
          ],
          "parcoords": [
           {
            "line": {
             "colorbar": {
              "outlinewidth": 0,
              "ticks": ""
             }
            },
            "type": "parcoords"
           }
          ],
          "pie": [
           {
            "automargin": true,
            "type": "pie"
           }
          ],
          "scatter": [
           {
            "fillpattern": {
             "fillmode": "overlay",
             "size": 10,
             "solidity": 0.2
            },
            "type": "scatter"
           }
          ],
          "scatter3d": [
           {
            "line": {
             "colorbar": {
              "outlinewidth": 0,
              "ticks": ""
             }
            },
            "marker": {
             "colorbar": {
              "outlinewidth": 0,
              "ticks": ""
             }
            },
            "type": "scatter3d"
           }
          ],
          "scattercarpet": [
           {
            "marker": {
             "colorbar": {
              "outlinewidth": 0,
              "ticks": ""
             }
            },
            "type": "scattercarpet"
           }
          ],
          "scattergeo": [
           {
            "marker": {
             "colorbar": {
              "outlinewidth": 0,
              "ticks": ""
             }
            },
            "type": "scattergeo"
           }
          ],
          "scattergl": [
           {
            "marker": {
             "colorbar": {
              "outlinewidth": 0,
              "ticks": ""
             }
            },
            "type": "scattergl"
           }
          ],
          "scattermap": [
           {
            "marker": {
             "colorbar": {
              "outlinewidth": 0,
              "ticks": ""
             }
            },
            "type": "scattermap"
           }
          ],
          "scattermapbox": [
           {
            "marker": {
             "colorbar": {
              "outlinewidth": 0,
              "ticks": ""
             }
            },
            "type": "scattermapbox"
           }
          ],
          "scatterpolar": [
           {
            "marker": {
             "colorbar": {
              "outlinewidth": 0,
              "ticks": ""
             }
            },
            "type": "scatterpolar"
           }
          ],
          "scatterpolargl": [
           {
            "marker": {
             "colorbar": {
              "outlinewidth": 0,
              "ticks": ""
             }
            },
            "type": "scatterpolargl"
           }
          ],
          "scatterternary": [
           {
            "marker": {
             "colorbar": {
              "outlinewidth": 0,
              "ticks": ""
             }
            },
            "type": "scatterternary"
           }
          ],
          "surface": [
           {
            "colorbar": {
             "outlinewidth": 0,
             "ticks": ""
            },
            "colorscale": [
             [
              0,
              "#0d0887"
             ],
             [
              0.1111111111111111,
              "#46039f"
             ],
             [
              0.2222222222222222,
              "#7201a8"
             ],
             [
              0.3333333333333333,
              "#9c179e"
             ],
             [
              0.4444444444444444,
              "#bd3786"
             ],
             [
              0.5555555555555556,
              "#d8576b"
             ],
             [
              0.6666666666666666,
              "#ed7953"
             ],
             [
              0.7777777777777778,
              "#fb9f3a"
             ],
             [
              0.8888888888888888,
              "#fdca26"
             ],
             [
              1,
              "#f0f921"
             ]
            ],
            "type": "surface"
           }
          ],
          "table": [
           {
            "cells": {
             "fill": {
              "color": "#EBF0F8"
             },
             "line": {
              "color": "white"
             }
            },
            "header": {
             "fill": {
              "color": "#C8D4E3"
             },
             "line": {
              "color": "white"
             }
            },
            "type": "table"
           }
          ]
         },
         "layout": {
          "annotationdefaults": {
           "arrowcolor": "#2a3f5f",
           "arrowhead": 0,
           "arrowwidth": 1
          },
          "autotypenumbers": "strict",
          "coloraxis": {
           "colorbar": {
            "outlinewidth": 0,
            "ticks": ""
           }
          },
          "colorscale": {
           "diverging": [
            [
             0,
             "#8e0152"
            ],
            [
             0.1,
             "#c51b7d"
            ],
            [
             0.2,
             "#de77ae"
            ],
            [
             0.3,
             "#f1b6da"
            ],
            [
             0.4,
             "#fde0ef"
            ],
            [
             0.5,
             "#f7f7f7"
            ],
            [
             0.6,
             "#e6f5d0"
            ],
            [
             0.7,
             "#b8e186"
            ],
            [
             0.8,
             "#7fbc41"
            ],
            [
             0.9,
             "#4d9221"
            ],
            [
             1,
             "#276419"
            ]
           ],
           "sequential": [
            [
             0,
             "#0d0887"
            ],
            [
             0.1111111111111111,
             "#46039f"
            ],
            [
             0.2222222222222222,
             "#7201a8"
            ],
            [
             0.3333333333333333,
             "#9c179e"
            ],
            [
             0.4444444444444444,
             "#bd3786"
            ],
            [
             0.5555555555555556,
             "#d8576b"
            ],
            [
             0.6666666666666666,
             "#ed7953"
            ],
            [
             0.7777777777777778,
             "#fb9f3a"
            ],
            [
             0.8888888888888888,
             "#fdca26"
            ],
            [
             1,
             "#f0f921"
            ]
           ],
           "sequentialminus": [
            [
             0,
             "#0d0887"
            ],
            [
             0.1111111111111111,
             "#46039f"
            ],
            [
             0.2222222222222222,
             "#7201a8"
            ],
            [
             0.3333333333333333,
             "#9c179e"
            ],
            [
             0.4444444444444444,
             "#bd3786"
            ],
            [
             0.5555555555555556,
             "#d8576b"
            ],
            [
             0.6666666666666666,
             "#ed7953"
            ],
            [
             0.7777777777777778,
             "#fb9f3a"
            ],
            [
             0.8888888888888888,
             "#fdca26"
            ],
            [
             1,
             "#f0f921"
            ]
           ]
          },
          "colorway": [
           "#636efa",
           "#EF553B",
           "#00cc96",
           "#ab63fa",
           "#FFA15A",
           "#19d3f3",
           "#FF6692",
           "#B6E880",
           "#FF97FF",
           "#FECB52"
          ],
          "font": {
           "color": "#2a3f5f"
          },
          "geo": {
           "bgcolor": "white",
           "lakecolor": "white",
           "landcolor": "#E5ECF6",
           "showlakes": true,
           "showland": true,
           "subunitcolor": "white"
          },
          "hoverlabel": {
           "align": "left"
          },
          "hovermode": "closest",
          "mapbox": {
           "style": "light"
          },
          "paper_bgcolor": "white",
          "plot_bgcolor": "#E5ECF6",
          "polar": {
           "angularaxis": {
            "gridcolor": "white",
            "linecolor": "white",
            "ticks": ""
           },
           "bgcolor": "#E5ECF6",
           "radialaxis": {
            "gridcolor": "white",
            "linecolor": "white",
            "ticks": ""
           }
          },
          "scene": {
           "xaxis": {
            "backgroundcolor": "#E5ECF6",
            "gridcolor": "white",
            "gridwidth": 2,
            "linecolor": "white",
            "showbackground": true,
            "ticks": "",
            "zerolinecolor": "white"
           },
           "yaxis": {
            "backgroundcolor": "#E5ECF6",
            "gridcolor": "white",
            "gridwidth": 2,
            "linecolor": "white",
            "showbackground": true,
            "ticks": "",
            "zerolinecolor": "white"
           },
           "zaxis": {
            "backgroundcolor": "#E5ECF6",
            "gridcolor": "white",
            "gridwidth": 2,
            "linecolor": "white",
            "showbackground": true,
            "ticks": "",
            "zerolinecolor": "white"
           }
          },
          "shapedefaults": {
           "line": {
            "color": "#2a3f5f"
           }
          },
          "ternary": {
           "aaxis": {
            "gridcolor": "white",
            "linecolor": "white",
            "ticks": ""
           },
           "baxis": {
            "gridcolor": "white",
            "linecolor": "white",
            "ticks": ""
           },
           "bgcolor": "#E5ECF6",
           "caxis": {
            "gridcolor": "white",
            "linecolor": "white",
            "ticks": ""
           }
          },
          "title": {
           "x": 0.05
          },
          "xaxis": {
           "automargin": true,
           "gridcolor": "white",
           "linecolor": "white",
           "ticks": "",
           "title": {
            "standoff": 15
           },
           "zerolinecolor": "white",
           "zerolinewidth": 2
          },
          "yaxis": {
           "automargin": true,
           "gridcolor": "white",
           "linecolor": "white",
           "ticks": "",
           "title": {
            "standoff": 15
           },
           "zerolinecolor": "white",
           "zerolinewidth": 2
          }
         }
        },
        "title": {
         "text": "GPR with length 1, sigma 0 and noise 0",
         "x": 0.5,
         "xanchor": "center"
        },
        "width": 800,
        "xaxis": {
         "linecolor": "black",
         "linewidth": 1,
         "showline": true,
         "title": {
          "text": "input values"
         }
        },
        "yaxis": {
         "linecolor": "black",
         "linewidth": 1,
         "showline": true,
         "title": {
          "text": "output values"
         }
        }
       }
      }
     },
     "metadata": {},
     "output_type": "display_data"
    }
   ],
   "source": [
    "model = GPR(x_values, y_values)\n",
    "data = plot_GPR(data_x=x_values, data_y=y_values, x=x, model=model)\n",
    "fig4 = go.Figure(data=data)\n",
    "fig4 = update_layout_of_graph(fig=fig4,\n",
    "                              title='GPR with length 1, sigma 0 and noise 0')\n",
    "\n",
    "fig4.show()"
   ]
  },
  {
   "cell_type": "markdown",
   "id": "b409d823",
   "metadata": {},
   "source": [
    "A cool feature of the GPR is that it is sort of a probability distribution over function - so we can literally 'draw' random functions!"
   ]
  },
  {
   "cell_type": "code",
   "execution_count": 21,
   "id": "045e7091",
   "metadata": {},
   "outputs": [
    {
     "data": {
      "application/vnd.jupyter.widget-view+json": {
       "model_id": "99b1e95cfb8440398401435d915336d0",
       "version_major": 2,
       "version_minor": 0
      },
      "text/plain": [
       "VBox(children=(FigureWidget({\n",
       "    'data': [{'marker': {'color': 'red', 'size': 8},\n",
       "              'mode': 'mark…"
      ]
     },
     "execution_count": 21,
     "metadata": {},
     "output_type": "execute_result"
    }
   ],
   "source": [
    "model = GPR(x_values, y_values)\n",
    "\n",
    "mean = model.predict(x)\n",
    "covariance_matrix = model._memory['covariance_matrix']\n",
    "\n",
    "fig1 = go.FigureWidget(data=[dot_scatter(x_dots=x_values, y_dots=y_values)])\n",
    "fig1 = update_layout_of_graph(\n",
    "    fig1,\n",
    "    title='Random drawings (i.e. random functions) of the Gaussian process')\n",
    "\n",
    "button = widgets.Button(description='Add random drawing')\n",
    "\n",
    "\n",
    "def update(_):\n",
    "    with fig1.batch_update():\n",
    "        fig1.add_trace(\n",
    "            line_scatter(x_lines=x,\n",
    "                         y_lines=np.random.multivariate_normal(\n",
    "                             mean, covariance_matrix),\n",
    "                         name_line='random function',\n",
    "                         showlegend=False))\n",
    "        fig1.add_trace(\n",
    "            dot_scatter(x_dots=x_values, y_dots=y_values, showlegend=False))\n",
    "\n",
    "\n",
    "button.on_click(update)\n",
    "widgets.VBox([fig1, button])"
   ]
  },
  {
   "cell_type": "markdown",
   "id": "876ee73f",
   "metadata": {},
   "source": [
    "Doing predictions with a GPR is usually done by taking the mean function as our best guess. Since GPR's are a probabilistic model, we get in addition some sort of certainty of our prediction. (But be careful how to interpret this uncertainty area! Believing that every 'new' point must be in the uncertainty area is simply wrong!)"
   ]
  },
  {
   "cell_type": "code",
   "execution_count": 22,
   "id": "36354bda",
   "metadata": {},
   "outputs": [
    {
     "data": {
      "application/vnd.jupyter.widget-view+json": {
       "model_id": "687be71462c34ab6b1795227f7c07584",
       "version_major": 2,
       "version_minor": 0
      },
      "text/plain": [
       "VBox(children=(FigureWidget({\n",
       "    'data': [{'fill': 'toself',\n",
       "              'fillcolor': 'rgba(189,195,199,0.5…"
      ]
     },
     "execution_count": 22,
     "metadata": {},
     "output_type": "execute_result"
    }
   ],
   "source": [
    "model = GPR(x_values[:1], y_values[:1])\n",
    "\n",
    "data = plot_GPR(data_x=x_values[:1], data_y=y_values[:1], x=x, model=model)\n",
    "\n",
    "fig2 = go.FigureWidget(data=data)\n",
    "fig2 = update_layout_of_graph(fig2, title='Prediction (i.e. mean) of GPR')\n",
    "\n",
    "button = widgets.Button(description='Add data point')\n",
    "\n",
    "number_of_points = 1\n",
    "\n",
    "# we update the y values of our 4 scatter plots \n",
    "def update(_):\n",
    "    with fig2.batch_update():\n",
    "        global number_of_points\n",
    "        if number_of_points < len(x_values):\n",
    "            number_of_points += 1\n",
    "            model = GPR(x_values[:number_of_points],\n",
    "                        y_values[:number_of_points])\n",
    "            mean = model.predict(x)\n",
    "            fig2.data[3].y = mean\n",
    "            for i in range(1, 4):\n",
    "                y_upper = mean + i * np.sqrt(model._memory['variance'])\n",
    "                y_lower = mean - i * np.sqrt(model._memory['variance'])\n",
    "                fig2.data[i - 1].y = np.concatenate((y_upper, y_lower[::-1]))\n",
    "\n",
    "            fig2.data[4].x = x_values[:number_of_points]\n",
    "            fig2.data[4].y = y_values[:number_of_points]\n",
    "\n",
    "\n",
    "button.on_click(update)\n",
    "widgets.VBox([fig2, button])"
   ]
  },
  {
   "cell_type": "markdown",
   "id": "ce23fd04",
   "metadata": {},
   "source": [
    "You can test the GPR with different data. Try using multi-dimensional input!"
   ]
  },
  {
   "cell_type": "markdown",
   "id": "1d17146a",
   "metadata": {},
   "source": [
    "### Visualization of effect of free parameters"
   ]
  },
  {
   "cell_type": "markdown",
   "id": "e7e03650",
   "metadata": {},
   "source": [
    "Awesome! Now that we can make predictions with our GPR, lets visualize how the GPR changes if we change the free parameters, i.e. length-scale, variance and white noise."
   ]
  },
  {
   "cell_type": "code",
   "execution_count": 23,
   "id": "cd6e6019",
   "metadata": {},
   "outputs": [
    {
     "data": {
      "application/vnd.jupyter.widget-view+json": {
       "model_id": "97e7af80cc7a47f189e0f935a3075ecd",
       "version_major": 2,
       "version_minor": 0
      },
      "text/plain": [
       "interactive(children=(FloatSlider(value=1.0, description='sigma', max=3.0, min=0.01, step=0.01), FloatSlider(v…"
      ]
     },
     "metadata": {},
     "output_type": "display_data"
    },
    {
     "data": {
      "application/vnd.jupyter.widget-view+json": {
       "model_id": "a6170e1adfc44df4b19fa1a905c15e71",
       "version_major": 2,
       "version_minor": 0
      },
      "text/plain": [
       "FigureWidget({\n",
       "    'data': [{'fill': 'toself',\n",
       "              'fillcolor': 'rgba(189,195,199,0.5)',\n",
       "              'hoverinfo': 'skip',\n",
       "              'line': {'color': 'rgba(200,200,200,0)'},\n",
       "              'name': 'mean plus/minus 1*standard deviation',\n",
       "              'showlegend': True,\n",
       "              'type': 'scatter',\n",
       "              'uid': '131f9697-815f-4eee-b763-7f03dc174676',\n",
       "              'visible': True,\n",
       "              'x': {'bdata': ('AAAAAAAAJMDNzMzMzMwjwJqZmZmZmS' ... 'mZmZkjwM3MzMzMzCPAAAAAAAAAJMA='),\n",
       "                    'dtype': 'f8'},\n",
       "              'y': {'bdata': ('tetDKAAA8D+160MoAADwP7XrQygAAP' ... 'MoAADwv7XrQygAAPC/tetDKAAA8L8='),\n",
       "                    'dtype': 'f8'}},\n",
       "             {'fill': 'toself',\n",
       "              'fillcolor': 'rgba(189,195,199,0.5)',\n",
       "              'hoverinfo': 'skip',\n",
       "              'line': {'color': 'rgba(200,200,200,0)'},\n",
       "              'name': 'mean plus/minus 2*standard deviation',\n",
       "              'showlegend': True,\n",
       "              'type': 'scatter',\n",
       "              'uid': '147b67f3-6e75-4316-8e1b-e5d3c11d2a59',\n",
       "              'visible': True,\n",
       "              'x': {'bdata': ('AAAAAAAAJMDNzMzMzMwjwJqZmZmZmS' ... 'mZmZkjwM3MzMzMzCPAAAAAAAAAJMA='),\n",
       "                    'dtype': 'f8'},\n",
       "              'y': {'bdata': ('tetDKAAAAEC160MoAAAAQLXrQygAAA' ... 'MoAAAAwLXrQygAAADAtetDKAAAAMA='),\n",
       "                    'dtype': 'f8'}},\n",
       "             {'fill': 'toself',\n",
       "              'fillcolor': 'rgba(189,195,199,0.5)',\n",
       "              'hoverinfo': 'skip',\n",
       "              'line': {'color': 'rgba(200,200,200,0)'},\n",
       "              'name': 'mean plus/minus 3*standard deviation',\n",
       "              'showlegend': True,\n",
       "              'type': 'scatter',\n",
       "              'uid': '990d811a-4e75-43a2-ae65-499dd6da4db9',\n",
       "              'visible': True,\n",
       "              'x': {'bdata': ('AAAAAAAAJMDNzMzMzMwjwJqZmZmZmS' ... 'mZmZkjwM3MzMzMzCPAAAAAAAAAJMA='),\n",
       "                    'dtype': 'f8'},\n",
       "              'y': {'bdata': ('kOFlPAAACECQ4WU8AAAIQJDhZTwAAA' ... 'U8AAAIwJDhZTwAAAjAkOFlPAAACMA='),\n",
       "                    'dtype': 'f8'}},\n",
       "             {'line': {'color': 'blue', 'width': 2},\n",
       "              'name': 'Predicted function',\n",
       "              'showlegend': True,\n",
       "              'type': 'scatter',\n",
       "              'uid': '9c854e7c-1970-47f9-9668-f494e46e16d3',\n",
       "              'visible': True,\n",
       "              'x': {'bdata': ('AAAAAAAAJMDNzMzMzMwjwJqZmZmZmS' ... 'ZmZiNAcpmZmZmZI0CkzMzMzMwjQA=='),\n",
       "                    'dtype': 'f8'},\n",
       "              'y': {'bdata': ('iMukTKDnd7rVCypLryiqupMCZlbqgN' ... '6GZhs7fN4pBV0y6jr3tT2moA+4Og=='),\n",
       "                    'dtype': 'f8'}},\n",
       "             {'marker': {'color': 'red', 'size': 8},\n",
       "              'mode': 'markers',\n",
       "              'name': 'Observed points',\n",
       "              'showlegend': True,\n",
       "              'type': 'scatter',\n",
       "              'uid': 'bcc1e232-d940-4438-8333-74f75f63ea83',\n",
       "              'visible': True,\n",
       "              'x': {'bdata': ('LvnYeitLAMCcJEp/6RcGQGhIiNDlGh' ... 'CmT1ARQAjIDehAfAtAggELBNu6EUA='),\n",
       "                    'dtype': 'f8'},\n",
       "              'y': {'bdata': ('wLZA3nSpxz/QNrV6+HYEQCnJazdXTh' ... 'QJgtf4P5a42rAHIRPACJawnwkSC0A='),\n",
       "                    'dtype': 'f8'}}],\n",
       "    'layout': {'autosize': False,\n",
       "               'height': 600,\n",
       "               'legend': {'x': 0.95, 'xanchor': 'right', 'y': 0.9, 'yanchor': 'top'},\n",
       "               'plot_bgcolor': 'rgba(0,0,0,0)',\n",
       "               'template': '...',\n",
       "               'title': {'text': 'GPR with varying length, sigma and white noise', 'x': 0.5, 'xanchor': 'center'},\n",
       "               'width': 800,\n",
       "               'xaxis': {'linecolor': 'black', 'linewidth': 1, 'showline': True, 'title': {'text': 'input values'}},\n",
       "               'yaxis': {'linecolor': 'black', 'linewidth': 1, 'showline': True, 'title': {'text': 'output values'}}}\n",
       "})"
      ]
     },
     "execution_count": 23,
     "metadata": {},
     "output_type": "execute_result"
    }
   ],
   "source": [
    "model = GPR(x_values,\n",
    "            y_values,\n",
    "            covariance_function=SquaredExponentialKernel(length=0.5),\n",
    "            white_noise_sigma=0.1)\n",
    "\n",
    "data = plot_GPR(x_values, y_values, model=model, x=x)\n",
    "\n",
    "fig3 = go.FigureWidget(data=data)\n",
    "\n",
    "\n",
    "# we update the y values of our 4 scatter plots \n",
    "@interact(sigma=(0.01, 3, 0.01), length=(0.01, 3, 0.01), noise=(0, 3, 0.1))\n",
    "def update(sigma=1, length=0.5, noise=0.1):\n",
    "    with fig3.batch_update():\n",
    "        model = GPR(x_values,\n",
    "                    y_values,\n",
    "                    covariance_function=SquaredExponentialKernel(\n",
    "                        sigma_f=sigma, length=length),\n",
    "                    white_noise_sigma=noise)\n",
    "\n",
    "        mean = model.predict(x)\n",
    "        y_upper = mean + np.sqrt(model._memory['variance'])\n",
    "        y_lower = mean - np.sqrt(model._memory['variance'])\n",
    "\n",
    "        \n",
    "        for i in range(1, 4):\n",
    "            y_upper = mean + i * np.sqrt(model._memory['variance'])\n",
    "            y_lower = mean - i * np.sqrt(model._memory['variance'])\n",
    "            fig3.data[i-1].y = np.concatenate((y_upper, y_lower[::-1]))\n",
    "        \n",
    "        fig3.data[3].y = mean\n",
    "\n",
    "\n",
    "fig3 = update_layout_of_graph(\n",
    "    fig3, title=\"GPR with varying length, sigma and white noise\")\n",
    "fig3"
   ]
  },
  {
   "cell_type": "markdown",
   "id": "188b1f24",
   "metadata": {},
   "source": [
    "Pretty impressive how many function 'shapes' we can generate with a GPR!\n",
    "\n",
    "But now we naturally raise the question:\n",
    "\n",
    "_What are the best parameters for our GPR and problem?_"
   ]
  },
  {
   "cell_type": "markdown",
   "id": "c44e8e8a",
   "metadata": {},
   "source": [
    "## GPR Regression for long range data "
   ]
  },
  {
   "cell_type": "code",
   "execution_count": 24,
   "id": "18679cd3",
   "metadata": {},
   "outputs": [
    {
     "data": {
      "text/plain": [
       "[<matplotlib.lines.Line2D at 0x1af08464f70>]"
      ]
     },
     "execution_count": 24,
     "metadata": {},
     "output_type": "execute_result"
    },
    {
     "data": {
      "image/png": "[encoded data removed]",
      "text/plain": [
       "<Figure size 1000x500 with 1 Axes>"
      ]
     },
     "metadata": {},
     "output_type": "display_data"
    }
   ],
   "source": [
    "import pandas as pd\n",
    "import matplotlib.pyplot as plt\n",
    "\n",
    "#importing the data from csv file\n",
    "data = pd.read_csv(\"co2.csv\")\n",
    "\n",
    "#plotting the data \n",
    "plt.figure(figsize=(10, 5))\n",
    "plt.plot(data['year'], data['mean'], label='Mean CO2 Levels', color='blue', linewidth=2)"
   ]
  },
  {
   "cell_type": "code",
   "execution_count": 25,
   "id": "a739a661",
   "metadata": {},
   "outputs": [
    {
     "data": {
      "text/plain": [
       "Text(0, 0.5, 'CO2 Levels (ppm)')"
      ]
     },
     "execution_count": 25,
     "metadata": {},
     "output_type": "execute_result"
    },
    {
     "data": {
      "image/png": "[encoded data removed]",
      "text/plain": [
       "<Figure size 640x480 with 1 Axes>"
      ]
     },
     "metadata": {},
     "output_type": "display_data"
    }
   ],
   "source": [
    "import pandas as pd\n",
    "import matplotlib.pyplot as plt\n",
    "\n",
    "data_2 = pd.read_csv(\"co2-ppm-daily.csv\")\n",
    "# Plotting the daily CO2 levels\n",
    "data_2['date'] = pd.to_datetime(data_2['date'])\n",
    "plt.plot(data_2['date'], data_2['value'])\n",
    "plt.xlabel('Year')\n",
    "plt.ylabel('CO2 Levels (ppm)')\n"
   ]
  },
  {
   "cell_type": "markdown",
   "id": "d5248c38",
   "metadata": {},
   "source": [
    "## GRP for above data using multiple kernels"
   ]
  },
  {
   "cell_type": "code",
   "execution_count": null,
   "id": "77e446f9",
   "metadata": {},
   "outputs": [],
   "source": [
    "grp = GPR(data['year'].values, data['mean'].values)\n",
    "x = np.arange(1958, 2024, 0.1)\n",
    "data = plot_GPR(data_x=data['year'].values, data_y=data['mean'].values, x=x, model=grp)\n",
    "fig5 = go.FigureWidget(data=data)\n",
    "fig5 = update_layout_of_graph(figl5, title='GPR with CO2 data')\n"
   ]
  },
  {
   "cell_type": "code",
   "execution_count": 29,
   "id": "1f4760c7",
   "metadata": {},
   "outputs": [
    {
     "data": {
      "application/vnd.jupyter.widget-view+json": {
       "model_id": "bb86d702d59b41528acceb378d82cc9b",
       "version_major": 2,
       "version_minor": 0
      },
      "text/plain": [
       "FigureWidget({\n",
       "    'data': [{'fill': 'toself',\n",
       "              'fillcolor': 'rgba(189,195,199,0.5)',\n",
       "              'hoverinfo': 'skip',\n",
       "              'line': {'color': 'rgba(200,200,200,0)'},\n",
       "              'name': 'mean plus/minus 1*standard deviation',\n",
       "              'showlegend': True,\n",
       "              'type': 'scatter',\n",
       "              'uid': '40849a22-546f-4760-a8fb-e996afe1e5a9',\n",
       "              'visible': True,\n",
       "              'x': {'bdata': ('AAAAAACYnkBmZmZmZpieQMzMzMzMmJ' ... 'zMzMyYnkBmZmZmZpieQAAAAAAAmJ5A'),\n",
       "                    'dtype': 'f8'},\n",
       "              'y': {'bdata': ('o7WNwE/UZUAgLznVEBVoQFCEhAM+U2' ... 'jPHhIuakAYa22+jetnQItHv0/bpmVA'),\n",
       "                    'dtype': 'f8'}},\n",
       "             {'fill': 'toself',\n",
       "              'fillcolor': 'rgba(189,195,199,0.5)',\n",
       "              'hoverinfo': 'skip',\n",
       "              'line': {'color': 'rgba(200,200,200,0)'},\n",
       "              'name': 'mean plus/minus 2*standard deviation',\n",
       "              'showlegend': True,\n",
       "              'type': 'scatter',\n",
       "              'uid': 'd97e5249-8ef0-44a1-9293-99ed844d331c',\n",
       "              'visible': True,\n",
       "              'x': {'bdata': ('AAAAAACYnkBmZmZmZpieQMzMzMzMmJ' ... 'zMzMyYnkBmZmZmZpieQAAAAAAAmJ5A'),\n",
       "                    'dtype': 'f8'},\n",
       "              'y': {'bdata': ('r+z0+AnrZUAkEZ9g0iloQEka3/XTZW' ... 'J0LHwbakAUiQczzNZnQH8QWBchkGVA'),\n",
       "                    'dtype': 'f8'}},\n",
       "             {'fill': 'toself',\n",
       "              'fillcolor': 'rgba(189,195,199,0.5)',\n",
       "              'hoverinfo': 'skip',\n",
       "              'line': {'color': 'rgba(200,200,200,0)'},\n",
       "              'name': 'mean plus/minus 3*standard deviation',\n",
       "              'showlegend': True,\n",
       "              'type': 'scatter',\n",
       "              'uid': '5fb4a125-b150-431b-8c9f-161aac250676',\n",
       "              'visible': True,\n",
       "              'x': {'bdata': ('AAAAAACYnkBmZmZmZpieQMzMzMzMmJ' ... 'zMzMyYnkBmZmZmZpieQAAAAAAAmJ5A'),\n",
       "                    'dtype': 'f8'},\n",
       "              'y': {'bdata': ('uyNcMcQBZkAo8wTskz5oQEOwOehpeG' ... 'waOuYIakAQp6GnCsJnQHPZ8N5meWVA'),\n",
       "                    'dtype': 'f8'}},\n",
       "             {'line': {'color': 'blue', 'width': 2},\n",
       "              'name': 'Predicted function',\n",
       "              'showlegend': True,\n",
       "              'type': 'scatter',\n",
       "              'uid': 'f436e601-838e-4cd6-88c0-8bc3472dbf67',\n",
       "              'visible': True,\n",
       "              'x': {'bdata': ('AAAAAACYnkBmZmZmZpieQMzMzMzMmJ' ... 'vMzMyen0AsMjMzM5+fQJKYmZmZn59A'),\n",
       "                    'dtype': 'f8'},\n",
       "              'y': {'bdata': ('l34miJW9ZUAcTdNJTwBoQFbuKRGoQG' ... 'nV1/Voe0AnOzUcv0N7QJedefCE+npA'),\n",
       "                    'dtype': 'f8'}},\n",
       "             {'marker': {'color': 'red', 'size': 8},\n",
       "              'mode': 'markers',\n",
       "              'name': 'Observed points',\n",
       "              'showlegend': True,\n",
       "              'type': 'scatter',\n",
       "              'uid': '5a41e101-4161-4e08-8ec5-015c9db589d9',\n",
       "              'visible': True,\n",
       "              'x': {'bdata': ('pweoB6kHqgerB6wHrQeuB68HsAexB7' ... 'feB98H4AfhB+IH4wfkB+UH5gfnB+gH'),\n",
       "                    'dtype': 'i2'},\n",
       "              'y': {'bdata': ('SOF6FK6/c0DD9Shcj85zQArXo3A92n' ... '5H4XooekDhehSuR1F6QPYoXI/CiXpA'),\n",
       "                    'dtype': 'f8'}}],\n",
       "    'layout': {'autosize': False,\n",
       "               'height': 600,\n",
       "               'legend': {'x': 0.95, 'xanchor': 'right', 'y': 0.9, 'yanchor': 'top'},\n",
       "               'plot_bgcolor': 'rgba(0,0,0,0)',\n",
       "               'template': '...',\n",
       "               'title': {'text': 'GPR with CO2 data', 'x': 0.5, 'xanchor': 'center'},\n",
       "               'width': 800,\n",
       "               'xaxis': {'linecolor': 'black', 'linewidth': 1, 'showline': True, 'title': {'text': 'input values'}},\n",
       "               'yaxis': {'linecolor': 'black', 'linewidth': 1, 'showline': True, 'title': {'text': 'output values'}}}\n",
       "})"
      ]
     },
     "execution_count": 29,
     "metadata": {},
     "output_type": "execute_result"
    }
   ],
   "source": [
    "fig5"
   ]
  }
 ],
 "metadata": {
  "kernelspec": {
   "display_name": "summer",
   "language": "python",
   "name": "python3"
  },
  "language_info": {
   "codemirror_mode": {
    "name": "ipython",
    "version": 3
   },
   "file_extension": ".py",
   "mimetype": "text/x-python",
   "name": "python",
   "nbconvert_exporter": "python",
   "pygments_lexer": "ipython3",
   "version": "3.10.16"
  },
  "toc": {
   "base_numbering": 1,
   "nav_menu": {},
   "number_sections": true,
   "sideBar": true,
   "skip_h1_title": false,
   "title_cell": "Table of Contents",
   "title_sidebar": "Contents",
   "toc_cell": false,
   "toc_position": {},
   "toc_section_display": true,
   "toc_window_display": false
  },
  "varInspector": {
   "cols": {
    "lenName": 16,
    "lenType": 16,
    "lenVar": 40
   },
   "kernels_config": {
    "python": {
     "delete_cmd_postfix": "",
     "delete_cmd_prefix": "del ",
     "library": "var_list.py",
     "varRefreshCmd": "print(var_dic_list())"
    },
    "r": {
     "delete_cmd_postfix": ") ",
     "delete_cmd_prefix": "rm(",
     "library": "var_list.r",
     "varRefreshCmd": "cat(var_dic_list()) "
    }
   },
   "types_to_exclude": [
    "module",
    "function",
    "builtin_function_or_method",
    "instance",
    "_Feature"
   ],
   "window_display": false
  }
 },
 "nbformat": 4,
 "nbformat_minor": 5
}
