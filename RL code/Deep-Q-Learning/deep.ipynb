{
 "cells": [
  {
   "cell_type": "code",
   "execution_count": 1,
   "id": "a4475004",
   "metadata": {},
   "outputs": [
    {
     "name": "stderr",
     "output_type": "stream",
     "text": [
      "A.L.E: Arcade Learning Environment (version 0.11.2+ecc1138)\n",
      "[Powered by Stella]\n"
     ]
    }
   ],
   "source": [
    "import numpy as np\n",
    "import matplotlib.pyplot as plt\n",
    "import gymnasium as gym\n",
    "import torch\n",
    "import ale_py\n",
    "from ale_py import ALEInterface\n",
    "ale = ALEInterface()\n",
    "\n",
    "gym.register_envs(ale_py)"
   ]
  },
  {
   "cell_type": "code",
   "execution_count": 2,
   "id": "b864c502",
   "metadata": {},
   "outputs": [
    {
     "name": "stderr",
     "output_type": "stream",
     "text": [
      "A.L.E: Arcade Learning Environment (version 0.11.2+ecc1138)\n",
      "[Powered by Stella]\n",
      "ALSA lib .././../src/v1.2.13-3eeec0cd85.clean/src/confmisc.c:855:(parse_card) cannot find card '0'\n",
      "ALSA lib .././../src/v1.2.13-3eeec0cd85.clean/src/conf.c:5205:(_snd_config_evaluate) function snd_func_card_inum returned error: No such file or directory\n",
      "ALSA lib .././../src/v1.2.13-3eeec0cd85.clean/src/confmisc.c:422:(snd_func_concat) error evaluating strings\n",
      "ALSA lib .././../src/v1.2.13-3eeec0cd85.clean/src/conf.c:5205:(_snd_config_evaluate) function snd_func_concat returned error: No such file or directory\n",
      "ALSA lib .././../src/v1.2.13-3eeec0cd85.clean/src/confmisc.c:1342:(snd_func_refer) error evaluating name\n",
      "ALSA lib .././../src/v1.2.13-3eeec0cd85.clean/src/conf.c:5205:(_snd_config_evaluate) function snd_func_refer returned error: No such file or directory\n",
      "ALSA lib .././../src/v1.2.13-3eeec0cd85.clean/src/conf.c:5728:(snd_config_expand) Evaluate error: No such file or directory\n",
      "ALSA lib ../.././../src/v1.2.13-3eeec0cd85.clean/src/pcm/pcm.c:2722:(snd_pcm_open_noupdate) Unknown PCM default\n"
     ]
    }
   ],
   "source": [
    "env = gym.make(\"ALE/BeamRider-v5\", render_mode=\"human\", obs_type=\"grayscale\")\n"
   ]
  },
  {
   "cell_type": "code",
   "execution_count": 4,
   "metadata": {},
   "outputs": [],
   "source": [
    "env.reset()\n",
    "i=0\n",
    "while i<10:\n",
    "    action = env.action_space.sample()\n",
    "    observation, reward, terminated, truncated, info = env.step(action)\n",
    "    if terminated or truncated:\n",
    "        observation, info = env.reset()\n",
    "    i+=1\n",
    "env.close()\n"
   ]
  },
  {
   "cell_type": "code",
   "execution_count": null,
   "id": "1ba6587d",
   "metadata": {},
   "outputs": [],
   "source": []
  },
  {
   "cell_type": "code",
   "execution_count": null,
   "metadata": {},
   "outputs": [],
   "source": []
  }
 ],
 "metadata": {
  "kernelspec": {
   "display_name": "imple",
   "language": "python",
   "name": "python3"
  },
  "language_info": {
   "codemirror_mode": {
    "name": "ipython",
    "version": 3
   },
   "file_extension": ".py",
   "mimetype": "text/x-python",
   "name": "python",
   "nbconvert_exporter": "python",
   "pygments_lexer": "ipython3",
   "version": "3.11.14"
  }
 },
 "nbformat": 4,
 "nbformat_minor": 5
}
