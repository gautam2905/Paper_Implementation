{
 "cells": [
  {
   "cell_type": "code",
   "execution_count": 23,
   "id": "a4475004",
   "metadata": {},
   "outputs": [],
   "source": [
    "import numpy as np\n",
    "import matplotlib.pyplot as plt\n",
    "import gymnasium as gym\n",
    "import torch\n",
    "import ale_py\n",
    "from ale_py import ALEInterface\n",
    "from torch import nn\n",
    "ale = ALEInterface()\n",
    "from PIL import Image\n",
    "\n",
    "gym.register_envs(ale_py)"
   ]
  },
  {
   "cell_type": "code",
   "execution_count": 24,
   "id": "b864c502",
   "metadata": {},
   "outputs": [],
   "source": [
    "env = gym.make(\"ALE/BeamRider-v5\", render_mode=\"rgb_array\", obs_type=\"grayscale\")\n"
   ]
  },
  {
   "cell_type": "code",
   "execution_count": 29,
   "id": "f4fc022e",
   "metadata": {},
   "outputs": [],
   "source": [
    "def convert_rgb_to_grayscale(rgb_image):\n",
    "    grayscale_image = np.dot(rgb_image[..., :3], [0.2989, 0.5870, 0.1140])\n",
    "    grayscale_image = np.clip(grayscale_image, 0, 255)\n",
    "    grayscale_image = grayscale_image.astype(np.uint8)\n",
    "    img = Image.fromarray(grayscale_image)\n",
    "    img = img.resize((110, 84))\n",
    "    img = img.crop((0, 18, 84, 102))\n",
    "    return np.array(img)\n",
    "\n",
    "def render_rgbarray(env):\n",
    "    plt.imshow(convert_rgb_to_grayscale(env.render()))\n",
    "    plt.axis('off')\n",
    "    plt.show()\n"
   ]
  },
  {
   "cell_type": "code",
   "execution_count": 31,
   "metadata": {},
   "outputs": [
    {
     "name": "stdout",
     "output_type": "stream",
     "text": [
      "(210, 160, 3)\n"
     ]
    },
    {
     "data": {
      "image/png": "[encoded data removed]",
      "text/plain": [
       "<Figure size 640x480 with 1 Axes>"
      ]
     },
     "metadata": {},
     "output_type": "display_data"
    },
    {
     "name": "stdout",
     "output_type": "stream",
     "text": [
      "(210, 160, 3)\n"
     ]
    },
    {
     "data": {
      "image/png": "[encoded data removed]",
      "text/plain": [
       "<Figure size 640x480 with 1 Axes>"
      ]
     },
     "metadata": {},
     "output_type": "display_data"
    },
    {
     "name": "stdout",
     "output_type": "stream",
     "text": [
      "(210, 160, 3)\n"
     ]
    },
    {
     "data": {
      "image/png": "[encoded data removed]",
      "text/plain": [
       "<Figure size 640x480 with 1 Axes>"
      ]
     },
     "metadata": {},
     "output_type": "display_data"
    },
    {
     "name": "stdout",
     "output_type": "stream",
     "text": [
      "(210, 160, 3)\n"
     ]
    },
    {
     "data": {
      "image/png": "[encoded data removed]",
      "text/plain": [
       "<Figure size 640x480 with 1 Axes>"
      ]
     },
     "metadata": {},
     "output_type": "display_data"
    }
   ],
   "source": [
    "env.reset()\n",
    "for i in range(10000):\n",
    "    action = env.action_space.sample()\n",
    "    observation, reward, done, info, _ = env.step(action)\n",
    "    if i % 500 == 0:\n",
    "        print(np.shape(env.render()))\n",
    "        render_rgbarray(env)\n",
    "    if done:\n",
    "        break\n",
    "env.close()\n"
   ]
  },
  {
   "cell_type": "code",
   "execution_count": null,
   "id": "1ba6587d",
   "metadata": {},
   "outputs": [],
   "source": [
    "class DQN(nn.Module):\n",
    "    def __init__(self, input_shape, num_actions, hidden_depth, image_stack):\n",
    "        super(DQN, self).__init__()\n",
    "\n",
    "        self.input_shape = input_shape  # input image shape\n",
    "        self.num_actions = num_actions  # no. of actions\n",
    "        self.hidden_depth = hidden_depth  # no. of filters in first conv layer\n",
    "        self.image_stack = image_stack  # no. of previous frames to stack\n",
    "\n",
    "        # self.replay_memory = torch.zeros((100000, image_stack, *input_shape), dtype=torch.uint8)\n",
    "\n",
    "        self.dqn = nn.Sequential(\n",
    "            nn.Conv2d(self.image_stack, hidden_depth, kernel_size=8, stride=4),\n",
    "            nn.ReLU(),\n",
    "            nn.Conv2d(hidden_depth, hidden_depth * 2, kernel_size=4, stride=2),\n",
    "            nn.ReLU(),\n",
    "            nn.Conv2d(hidden_depth * 2, hidden_depth * 2, kernel_size=3, stride=1),\n",
    "            nn.ReLU(), \n",
    "            nn.Flatten(),\n",
    "            nn.Linear(self.feature_size(), 256),\n",
    "            nn.ReLU(),\n",
    "            nn.Linear(256, num_actions)\n",
    "        )\n",
    "\n",
    "    def forward(self, x):\n",
    "\n",
    "        return self.dqn(x)\n",
    "\n",
    "class ReplayMemory:\n",
    "    def __init__(self, capacity, image_stack, input_shape):\n",
    "        self.input_shape = input_shape\n",
    "        self.capacity = capacity\n",
    "        self.image_stack = image_stack\n",
    "        self.replay_memory = []\n",
    "\n",
    "    def add(self, state, action, reward, next_state):\n",
    "        self.replay_memory.append((state, action, reward, next_state))\n",
    "        if len(self.replay_memory) >= self.capacity:\n",
    "            self.replay_memory.pop(0)\n",
    "\n",
    "    def sample(self, batch_size):\n",
    "        indices = np.random.choice(len(self.replay_memory), batch_size, replace=False)\n",
    "        batch = [self.replay_memory[idx] for idx in indices]\n",
    "        states, actions, rewards, next_states = zip(*batch)\n",
    "        return (np.array(states), np.array(actions), np.array(rewards), np.array(next_states))\n",
    "    \n",
    "    def __len__(self):\n",
    "        return len(self.replay_memory)\n",
    "    \n",
    "\n",
    "\n",
    "    "
   ]
  },
  {
   "cell_type": "code",
   "execution_count": null,
   "metadata": {},
   "outputs": [],
   "source": []
  },
  {
   "cell_type": "code",
   "execution_count": null,
   "id": "decbb537",
   "metadata": {},
   "outputs": [],
   "source": []
  },
  {
   "cell_type": "code",
   "execution_count": null,
   "metadata": {},
   "outputs": [],
   "source": []
  },
  {
   "cell_type": "code",
   "execution_count": null,
   "id": "8110c556",
   "metadata": {},
   "outputs": [],
   "source": []
  }
 ],
 "metadata": {
  "kernelspec": {
   "display_name": "imple",
   "language": "python",
   "name": "python3"
  },
  "language_info": {
   "codemirror_mode": {
    "name": "ipython",
    "version": 3
   },
   "file_extension": ".py",
   "mimetype": "text/x-python",
   "name": "python",
   "nbconvert_exporter": "python",
   "pygments_lexer": "ipython3",
   "version": "3.11.14"
  }
 },
 "nbformat": 4,
 "nbformat_minor": 5
}
