{
 "cells": [
  {
   "cell_type": "code",
   "execution_count": 3,
   "id": "73241bf5",
   "metadata": {},
   "outputs": [],
   "source": [
    "import numpy as np\n",
    "import matplotlib.pyplot as plt\n",
    "import gymnasium as gym # Import the necessary libraries\n"
   ]
  },
  {
   "cell_type": "code",
   "execution_count": 4,
   "id": "2895b7fd",
   "metadata": {},
   "outputs": [],
   "source": [
    "# Get frozen lake environment\n",
    "env = gym.make(\"FrozenLake-v1\", render_mode=\"human\", map_name=\"4x4\", is_slippery=False)\n",
    "# Initialize the environment\n",
    "# state, info = env.reset()\n",
    "# Initialize the action space\n",
    "action_space = env.action_space.n\n",
    "# Initialize the state space\n",
    "state_space = env.observation_space.n"
   ]
  },
  {
   "cell_type": "markdown",
   "id": "1cb685eb",
   "metadata": {},
   "source": [
    "# Policy Iteration "
   ]
  },
  {
   "cell_type": "code",
   "execution_count": 39,
   "id": "51f1fcb2",
   "metadata": {},
   "outputs": [],
   "source": [
    "policy_icons = {\n",
    "    3: \"⬆️\",  # Up\n",
    "    2: \"➡️\",  # Right\n",
    "    1: \"⬇️\",  # Down\n",
    "    0: \"⬅️\"   # Left\n",
    "}"
   ]
  },
  {
   "cell_type": "code",
   "execution_count": 40,
   "id": "9096a8a8",
   "metadata": {},
   "outputs": [
    {
     "data": {
      "text/plain": [
       "array(['⬇️', '⬆️', '⬇️', '⬅️', '➡️', '➡️', '⬇️', '➡️', '⬇️', '⬆️', '⬅️',\n",
       "       '⬅️', '⬇️', '➡️', '⬅️', '➡️'], dtype=object)"
      ]
     },
     "execution_count": 40,
     "metadata": {},
     "output_type": "execute_result"
    }
   ],
   "source": [
    "policy = np.random.randint(0, action_space, size=state_space)\n",
    "policied = np.zeros(state_space, dtype=object)\n",
    "for state in range(state_space):\n",
    "    policied[state] = policy_icons[policy[state]]\n",
    "policied"
   ]
  },
  {
   "cell_type": "code",
   "execution_count": 41,
   "id": "96dcb9d8",
   "metadata": {},
   "outputs": [],
   "source": [
    "env = env.unwrapped"
   ]
  },
  {
   "cell_type": "code",
   "execution_count": 42,
   "id": "d2ac6245",
   "metadata": {},
   "outputs": [],
   "source": [
    "def calculate_value_function(policy, env, gamma=0.9, theta=1e-10):\n",
    "    value_function = np.zeros(env.observation_space.n)\n",
    "    while True:\n",
    "        delta = 0\n",
    "        for state in range(env.observation_space.n):\n",
    "            v = 0\n",
    "            for prob, next_state, reward, done in env.P[state][policy[state]]:\n",
    "                v += prob * (reward + gamma * value_function[next_state] * (not done))\n",
    "            delta = max(delta, abs(value_function[state] - v))\n",
    "            value_function[state] = v\n",
    "        if delta < theta:\n",
    "            break\n",
    "    return value_function\n"
   ]
  },
  {
   "cell_type": "code",
   "execution_count": 43,
   "id": "0cefa32c",
   "metadata": {},
   "outputs": [],
   "source": [
    "def improve_policy(value_function, env, gamma=0.9):\n",
    "    policy = np.zeros(env.observation_space.n, dtype=int)\n",
    "    for state in range(env.observation_space.n):\n",
    "        action_values = np.zeros(env.action_space.n)\n",
    "        for action in range(env.action_space.n):\n",
    "            for prob, next_state, reward, done in env.P[state][action]:\n",
    "                action_values[action] += prob * (reward + gamma * value_function[next_state] * (not done))\n",
    "        policy[state] = np.argmax(action_values)\n",
    "    return policy\n"
   ]
  },
  {
   "cell_type": "code",
   "execution_count": 44,
   "id": "a6a63a63",
   "metadata": {},
   "outputs": [],
   "source": [
    "def policy_iteration(env, gamma=0.9, theta=1e-10):\n",
    "    policy = np.random.randint(env.action_space.n, size=env.observation_space.n)\n",
    "    while True:\n",
    "        value_function = calculate_value_function(policy, env, gamma, theta)\n",
    "        new_policy = improve_policy(value_function, env, gamma)\n",
    "        if np.array_equal(policy, new_policy):\n",
    "            break\n",
    "        policy = new_policy\n",
    "    return policy, value_function\n"
   ]
  },
  {
   "cell_type": "code",
   "execution_count": 45,
   "id": "6fa73d85",
   "metadata": {},
   "outputs": [
    {
     "name": "stdout",
     "output_type": "stream",
     "text": [
      "Optimal Policy:\n",
      "[['⬇️' '➡️' '⬇️' '⬅️']\n",
      " ['⬇️' '⬅️' '⬇️' '⬅️']\n",
      " ['➡️' '⬇️' '⬇️' '⬅️']\n",
      " ['⬅️' '➡️' '➡️' '⬅️']]\n",
      "\n",
      "Value Function:\n",
      "[[0.59049 0.6561  0.729   0.6561 ]\n",
      " [0.6561  0.      0.81    0.     ]\n",
      " [0.729   0.81    0.9     0.     ]\n",
      " [0.      0.9     1.      0.     ]]\n"
     ]
    }
   ],
   "source": [
    "policy, value_function = policy_iteration(env)\n",
    "policied = np.zeros(state_space, dtype=object)\n",
    "\n",
    "for i in range(state_space):\n",
    "    policied[i] = policy_icons[policy[i]]\n",
    "\n",
    "print(\"Optimal Policy:\")\n",
    "print(policied.reshape(4, 4))\n",
    "print(\"\\nValue Function:\")\n",
    "print(value_function.reshape(4, 4))\n",
    "# Close the environment\n"
   ]
  },
  {
   "cell_type": "code",
   "execution_count": 46,
   "id": "043e83e7",
   "metadata": {},
   "outputs": [
    {
     "data": {
      "text/plain": [
       "[(1.0, 4, 0.0, False)]"
      ]
     },
     "execution_count": 46,
     "metadata": {},
     "output_type": "execute_result"
    }
   ],
   "source": [
    "env.P[0][1]"
   ]
  },
  {
   "cell_type": "code",
   "execution_count": 28,
   "id": "137b6e8e",
   "metadata": {},
   "outputs": [
    {
     "data": {
      "text/plain": [
       "array([0., 0., 0., 0., 0., 0., 0., 0., 0., 0., 0., 0., 0., 0., 0., 0.])"
      ]
     },
     "execution_count": 28,
     "metadata": {},
     "output_type": "execute_result"
    }
   ],
   "source": [
    "v = calculate_value_function(policy, env)\n",
    "v"
   ]
  },
  {
   "cell_type": "code",
   "execution_count": null,
   "id": "2049b2c0",
   "metadata": {},
   "outputs": [],
   "source": []
  },
  {
   "cell_type": "code",
   "execution_count": null,
   "id": "7e1f864c",
   "metadata": {},
   "outputs": [],
   "source": []
  }
 ],
 "metadata": {
  "kernelspec": {
   "display_name": "summer",
   "language": "python",
   "name": "python3"
  },
  "language_info": {
   "codemirror_mode": {
    "name": "ipython",
    "version": 3
   },
   "file_extension": ".py",
   "mimetype": "text/x-python",
   "name": "python",
   "nbconvert_exporter": "python",
   "pygments_lexer": "ipython3",
   "version": "3.10.16"
  }
 },
 "nbformat": 4,
 "nbformat_minor": 5
}
