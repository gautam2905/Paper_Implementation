{
 "cells": [
  {
   "cell_type": "code",
   "execution_count": 44,
   "id": "644955c2",
   "metadata": {},
   "outputs": [],
   "source": [
    "import numpy as np\n",
    "import matplotlib.pyplot as plt\n",
    "import gymnasium as gym # Import the necessary libraries\n"
   ]
  },
  {
   "cell_type": "code",
   "execution_count": 45,
   "id": "4361c481",
   "metadata": {},
   "outputs": [],
   "source": [
    "# Get frozen lake environment\n",
    "env = gym.make(\"FrozenLake-v1\", render_mode=\"human\", map_name=\"4x4\", is_slippery=False)\n",
    "# Initialize the environment\n",
    "# state, info = env.reset()\n",
    "# Initialize the action space\n",
    "action_space = env.action_space.n\n",
    "# Initialize the state space\n",
    "state_space = env.observation_space.n"
   ]
  },
  {
   "cell_type": "code",
   "execution_count": 46,
   "id": "cdbd65fc",
   "metadata": {},
   "outputs": [
    {
     "data": {
      "text/plain": [
       "16"
      ]
     },
     "execution_count": 46,
     "metadata": {},
     "output_type": "execute_result"
    }
   ],
   "source": [
    "state_space"
   ]
  },
  {
   "cell_type": "code",
   "execution_count": 47,
   "id": "0fe3be9d",
   "metadata": {},
   "outputs": [
    {
     "data": {
      "text/plain": [
       "4"
      ]
     },
     "execution_count": 47,
     "metadata": {},
     "output_type": "execute_result"
    }
   ],
   "source": [
    "action_space"
   ]
  },
  {
   "cell_type": "code",
   "execution_count": 48,
   "id": "515d5e3b",
   "metadata": {},
   "outputs": [],
   "source": [
    "env = env.unwrapped\n"
   ]
  },
  {
   "cell_type": "markdown",
   "id": "59cf8576",
   "metadata": {},
   "source": [
    "# Policy iteration"
   ]
  },
  {
   "cell_type": "code",
   "execution_count": 49,
   "id": "751bbc7e",
   "metadata": {},
   "outputs": [
    {
     "name": "stdout",
     "output_type": "stream",
     "text": [
      "Value Function:\n",
      "0.53 0.59 0.66 0.59 \n",
      "\n",
      "0.59 0.00 0.73 0.00 \n",
      "\n",
      "0.66 0.73 0.81 0.00 \n",
      "\n",
      "0.00 0.81 0.90 0.00 \n",
      "\n"
     ]
    }
   ],
   "source": [
    "convergence = 0.01\n",
    "discount = 0.9\n",
    "\n",
    "Value = np.zeros(state_space)\n",
    "\n",
    "for i in range(1000):\n",
    "    for state in range(state_space):\n",
    "        v = Value[state]\n",
    "        for action in range(action_space):\n",
    "            temp_v = 0\n",
    "            for prob, next_state, reward, done in env.P[state][action]:\n",
    "                temp_v = discount * prob * (reward + Value[next_state]) \n",
    "            Value[state] = max(Value[state], temp_v)\n",
    "    # if np.sum(np.fabs(v - Value)) <= convergence:\n",
    "    #     break\n",
    "\n",
    "print(\"Value Function:\")\n",
    "for i in range(4):\n",
    "    for j in range(4):\n",
    "        print(f\"{Value[i * 4 + j]:.2f}\", end=\" \")\n",
    "    print(\"\\n\")"
   ]
  },
  {
   "cell_type": "code",
   "execution_count": 50,
   "id": "b1eb1eae",
   "metadata": {},
   "outputs": [
    {
     "name": "stdout",
     "output_type": "stream",
     "text": [
      "Policy:\n",
      "1 2 1 0 \n",
      "\n",
      "1 0 1 0 \n",
      "\n",
      "2 1 1 0 \n",
      "\n",
      "0 2 1 0 \n",
      "\n"
     ]
    }
   ],
   "source": [
    "policy = np.zeros(state_space, dtype=int)\n",
    "for state in range(state_space):\n",
    "    best_action = 0\n",
    "    best_value = float(\"-inf\")\n",
    "    for action in range(action_space):\n",
    "        for prob, next_state, reward, done in env.P[state][action]:\n",
    "            best_action = action if Value[next_state] > best_value else best_action\n",
    "            best_value = max(best_value, Value[next_state])\n",
    "    policy[state] = best_action\n",
    "print(\"Policy:\")\n",
    "for i in range(4):\n",
    "    for j in range(4):\n",
    "        print(f\"{policy[i * 4 + j]}\", end=\" \")\n",
    "    print(\"\\n\")\n",
    "    "
   ]
  },
  {
   "cell_type": "code",
   "execution_count": 51,
   "id": "8f8ba390",
   "metadata": {},
   "outputs": [
    {
     "ename": "ValueError",
     "evalue": "too many values to unpack (expected 4)",
     "output_type": "error",
     "traceback": [
      "\u001b[1;31m---------------------------------------------------------------------------\u001b[0m",
      "\u001b[1;31mValueError\u001b[0m                                Traceback (most recent call last)",
      "Cell \u001b[1;32mIn[51], line 6\u001b[0m\n\u001b[0;32m      4\u001b[0m \u001b[38;5;28;01mfor\u001b[39;00m _ \u001b[38;5;129;01min\u001b[39;00m \u001b[38;5;28mrange\u001b[39m(\u001b[38;5;241m1000\u001b[39m):\n\u001b[0;32m      5\u001b[0m      env\u001b[38;5;241m.\u001b[39mrender()\n\u001b[1;32m----> 6\u001b[0m      obs, rew, done, info \u001b[38;5;241m=\u001b[39m env\u001b[38;5;241m.\u001b[39mstep(env\u001b[38;5;241m.\u001b[39maction_space\u001b[38;5;241m.\u001b[39msample()) \u001b[38;5;66;03m# take a random action\u001b[39;00m\n\u001b[0;32m      7\u001b[0m      \u001b[38;5;28;01mif\u001b[39;00m done:\n\u001b[0;32m      8\u001b[0m         env\u001b[38;5;241m.\u001b[39mreset()\n",
      "\u001b[1;31mValueError\u001b[0m: too many values to unpack (expected 4)"
     ]
    }
   ],
   "source": [
    "# env.reset()\n",
    "env = gym.make(\"FrozenLake-v1\", render_mode=\"human\", map_name=\"4x4\", is_slippery=False)\n",
    "env.reset()\n",
    "for _ in range(1000):\n",
    "     env.render()\n",
    "     obs, rew, done, info = env.step(env.action_space.sample()) # take a random action\n",
    "     if done:\n",
    "        env.reset()\n",
    "env.close()"
   ]
  },
  {
   "cell_type": "code",
   "execution_count": null,
   "id": "70f9ddb5",
   "metadata": {},
   "outputs": [],
   "source": []
  },
  {
   "cell_type": "code",
   "execution_count": null,
   "id": "e2a6757d",
   "metadata": {},
   "outputs": [],
   "source": []
  }
 ],
 "metadata": {
  "kernelspec": {
   "display_name": "summer",
   "language": "python",
   "name": "python3"
  },
  "language_info": {
   "codemirror_mode": {
    "name": "ipython",
    "version": 3
   },
   "file_extension": ".py",
   "mimetype": "text/x-python",
   "name": "python",
   "nbconvert_exporter": "python",
   "pygments_lexer": "ipython3",
   "version": "3.10.16"
  }
 },
 "nbformat": 4,
 "nbformat_minor": 5
}
