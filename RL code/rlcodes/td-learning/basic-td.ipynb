{
 "cells": [
  {
   "cell_type": "code",
   "execution_count": 26,
   "id": "360e13c7",
   "metadata": {},
   "outputs": [],
   "source": [
    "import gymnasium as gym\n",
    "import numpy as np\n",
    "import matplotlib.pyplot as plt"
   ]
  },
  {
   "cell_type": "code",
   "execution_count": 27,
   "id": "da1020f6",
   "metadata": {},
   "outputs": [
    {
     "data": {
      "text/plain": [
       "<gymnasium.envs.toy_text.frozen_lake.FrozenLakeEnv at 0x2df7fa80f10>"
      ]
     },
     "execution_count": 27,
     "metadata": {},
     "output_type": "execute_result"
    }
   ],
   "source": [
    "env = gym.make(\"FrozenLake-v1\", render_mode=\"human\", is_slippery=False)\n",
    "env.unwrapped"
   ]
  },
  {
   "cell_type": "code",
   "execution_count": 28,
   "metadata": {},
   "outputs": [
    {
     "data": {
      "text/plain": [
       "Discrete(4)"
      ]
     },
     "execution_count": 28,
     "metadata": {},
     "output_type": "execute_result"
    }
   ],
   "source": [
    "env.action_space"
   ]
  },
  {
   "cell_type": "code",
   "execution_count": 29,
   "id": "d5555df0",
   "metadata": {},
   "outputs": [
    {
     "data": {
      "text/plain": [
       "Discrete(16)"
      ]
     },
     "execution_count": 29,
     "metadata": {},
     "output_type": "execute_result"
    }
   ],
   "source": [
    "env.observation_space"
   ]
  },
  {
   "cell_type": "markdown",
   "id": "87880679",
   "metadata": {},
   "source": [
    "### Temporal Difference learning basic implementation"
   ]
  },
  {
   "cell_type": "code",
   "execution_count": 70,
   "id": "927798f2",
   "metadata": {},
   "outputs": [
    {
     "name": "stdout",
     "output_type": "stream",
     "text": [
      "Episode 2000/20000, ε=0.910, avg return (last 2000): 0.02\n",
      "Episode 4000/20000, ε=0.820, avg return (last 2000): 0.07\n",
      "Episode 6000/20000, ε=0.730, avg return (last 2000): 0.11\n",
      "Episode 8000/20000, ε=0.640, avg return (last 2000): 0.21\n",
      "Episode 10000/20000, ε=0.550, avg return (last 2000): 0.28\n",
      "Episode 12000/20000, ε=0.460, avg return (last 2000): 0.41\n",
      "Episode 14000/20000, ε=0.370, avg return (last 2000): 0.48\n",
      "Episode 16000/20000, ε=0.280, avg return (last 2000): 0.63\n",
      "Episode 18000/20000, ε=0.190, avg return (last 2000): 0.75\n",
      "Episode 20000/20000, ε=0.100, avg return (last 2000): 0.84\n",
      "Final Policy: [2 2 1 0 1 0 1 0 2 1 1 0 0 2 2 0]\n",
      "Q-values:\n",
      " [[0.43686029 0.44673635 0.45161001 0.44222006]\n",
      " [0.40496646 0.         0.56032261 0.49111062]\n",
      " [0.49320038 0.6562088  0.44655485 0.55451661]\n",
      " [0.54056169 0.         0.34381239 0.28603749]\n",
      " [0.44626783 0.5051059  0.         0.4258161 ]\n",
      " [0.         0.         0.         0.        ]\n",
      " [0.         0.756795   0.         0.54486835]\n",
      " [0.         0.         0.         0.        ]\n",
      " [0.54428188 0.         0.67331406 0.48405681]\n",
      " [0.54832883 0.7836217  0.66277039 0.        ]\n",
      " [0.68419035 0.89949962 0.         0.63972671]\n",
      " [0.         0.         0.         0.        ]\n",
      " [0.         0.         0.         0.        ]\n",
      " [0.         0.76508551 0.89328627 0.60856714]\n",
      " [0.76299191 0.89035147 1.         0.78567007]\n",
      " [0.         0.         0.         0.        ]]\n"
     ]
    }
   ],
   "source": [
    "import numpy as np\n",
    "import gym\n",
    "\n",
    "class td_sarsa:\n",
    "    def __init__(self, env, num_episodes=10000, gamma=0.9,\n",
    "                 alpha=0.1, epsilon_start=1.0, epsilon_end=0.1):\n",
    "        self.env = env\n",
    "        self.num_episodes = num_episodes\n",
    "        self.gamma = gamma\n",
    "        self.alpha = alpha\n",
    "\n",
    "        self.epsilon_start = epsilon_start\n",
    "        self.epsilon_end = epsilon_end\n",
    "\n",
    "        self.num_states = env.observation_space.n\n",
    "        self.num_actions = env.action_space.n\n",
    "\n",
    "        self.Q = np.zeros((self.num_states, self.num_actions))\n",
    "\n",
    "    def get_epsilon(self, episode):\n",
    "        frac = min(1.0, episode / self.num_episodes)\n",
    "        return self.epsilon_start + frac * (self.epsilon_end - self.epsilon_start)\n",
    "\n",
    "    def get_action(self, state, epsilon):\n",
    "        if np.random.rand() < epsilon:\n",
    "            return self.env.action_space.sample()\n",
    "        else:\n",
    "            return np.argmax(self.Q[state])\n",
    "\n",
    "    def train(self):\n",
    "        episode_returns = []\n",
    "\n",
    "        for epi in range(1, self.num_episodes + 1):\n",
    "            eps = self.get_epsilon(epi)\n",
    "\n",
    "            state, _ = self.env.reset()   \n",
    "            action = self.get_action(state, eps)\n",
    "            done = False\n",
    "            total_reward = 0\n",
    "\n",
    "            while not done:\n",
    "                next_state, reward, terminated, truncated, _ = self.env.step(action)\n",
    "                done = terminated or truncated\n",
    "                total_reward += reward\n",
    "\n",
    "                if done:\n",
    "                    td_target = reward\n",
    "                    td_error = td_target - self.Q[state, action]\n",
    "                    self.Q[state, action] += self.alpha * td_error\n",
    "                    break\n",
    "                else:\n",
    "                    next_action = self.get_action(next_state, eps)\n",
    "                    td_target = reward + self.gamma * self.Q[next_state, next_action]\n",
    "                    td_error = td_target - self.Q[state, action]\n",
    "                    self.Q[state, action] += self.alpha * td_error\n",
    "\n",
    "                    state, action = next_state, next_action\n",
    "\n",
    "            episode_returns.append(total_reward)\n",
    "\n",
    "            if self.num_episodes >= 100 and epi % (self.num_episodes // 10) == 0:\n",
    "                avg_return = np.mean(episode_returns[-(self.num_episodes // 10):])\n",
    "                print(f\"Episode {epi}/{self.num_episodes}, \"\n",
    "                      f\"ε={eps:.3f}, \"\n",
    "                      f\"avg return (last {self.num_episodes//10}): {avg_return:.2f}\")\n",
    "\n",
    "        final_policy = np.argmax(self.Q, axis=1)\n",
    "        return final_policy, self.Q, episode_returns\n",
    "\n",
    "\n",
    "env = gym.make(\"FrozenLake-v1\", is_slippery=False, map_name=\"4x4\")\n",
    "agent = td_sarsa(\n",
    "    env,\n",
    "    num_episodes=20000,\n",
    "    gamma=0.9,\n",
    "    alpha=0.1,\n",
    "    epsilon_start=1.0,\n",
    "    epsilon_end=0.1\n",
    ")\n",
    "\n",
    "final_policy, Q, returns = agent.train()\n",
    "print(\"Final Policy:\", final_policy)\n",
    "print(\"Q-values:\\n\", Q)\n",
    "env.close()"
   ]
  },
  {
   "cell_type": "code",
   "execution_count": 71,
   "id": "1408bb79",
   "metadata": {},
   "outputs": [],
   "source": [
    "move_mapping = {\n",
    "    0: \"Left\",\n",
    "    1: \"Down\",\n",
    "    2: \"Right\",\n",
    "    3: \"Up\"\n",
    "}"
   ]
  },
  {
   "cell_type": "code",
   "execution_count": 72,
   "id": "4f4bfb70",
   "metadata": {},
   "outputs": [
    {
     "name": "stdout",
     "output_type": "stream",
     "text": [
      "Policy matrix:\n",
      "Right | Right | Down | Left\n",
      "Down | Left | Down | Left\n",
      "Right | Down | Down | Left\n",
      "Left | Right | Right | Left\n"
     ]
    }
   ],
   "source": [
    "# print policy in a matrix format\n",
    "policy_matrix = final_policy.reshape((4, 4))\n",
    "print(\"Policy matrix:\")\n",
    "# print(policy_matrix)\n",
    "for row in policy_matrix:\n",
    "    print(\" | \".join(move_mapping[action] for action in row))\n",
    "    "
   ]
  },
  {
   "cell_type": "code",
   "execution_count": 73,
   "id": "049342a7",
   "metadata": {},
   "outputs": [
    {
     "data": {
      "image/png": "[encoded data removed]",
      "text/plain": [
       "<Figure size 480x480 with 2 Axes>"
      ]
     },
     "metadata": {},
     "output_type": "display_data"
    }
   ],
   "source": [
    "def plot_value_function(Q_table, env_shape, title=\"State-Value Function (V(s))\"):\n",
    "    \"\"\"Assumes env_shape is a tuple like (rows, cols) for a grid environment.\"\"\"\n",
    "    V = np.max(Q_table, axis=1)\n",
    "    V_grid = V.reshape(env_shape)\n",
    "    plt.figure(figsize=(env_shape[1]*1.2, env_shape[0]*1.2)) # Adjust size based on grid\n",
    "    plt.imshow(V_grid, cmap='viridis', interpolation='nearest')\n",
    "    plt.colorbar(label='Value')\n",
    "    plt.title(title)\n",
    "    plt.xticks(np.arange(env_shape[1]))\n",
    "    plt.yticks(np.arange(env_shape[0]))\n",
    "    # Add text annotations for values\n",
    "    for i in range(env_shape[0]):\n",
    "        for j in range(env_shape[1]):\n",
    "            plt.text(j, i, f\"{V_grid[i, j]:.2f}\", ha=\"center\", va=\"center\", color=\"white\" if V_grid[i,j] < V_grid.max()/2 else \"black\")\n",
    "    plt.show()\n",
    "\n",
    "plot_value_function(Q, env_shape=(4,4) , title=\"Value Function for FrozenLake (Exploring Starts)\")"
   ]
  },
  {
   "cell_type": "code",
   "execution_count": null,
   "id": "92cdf018",
   "metadata": {},
   "outputs": [],
   "source": []
  },
  {
   "cell_type": "code",
   "execution_count": null,
   "id": "9684058d",
   "metadata": {},
   "outputs": [],
   "source": []
  }
 ],
 "metadata": {
  "kernelspec": {
   "display_name": "summer",
   "language": "python",
   "name": "python3"
  },
  "language_info": {
   "codemirror_mode": {
    "name": "ipython",
    "version": 3
   },
   "file_extension": ".py",
   "mimetype": "text/x-python",
   "name": "python",
   "nbconvert_exporter": "python",
   "pygments_lexer": "ipython3",
   "version": "3.10.16"
  }
 },
 "nbformat": 4,
 "nbformat_minor": 5
}
