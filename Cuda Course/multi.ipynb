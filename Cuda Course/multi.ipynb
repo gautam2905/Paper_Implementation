{
 "cells": [
  {
   "cell_type": "code",
   "execution_count": 1,
   "id": "3ef97ca8",
   "metadata": {},
   "outputs": [
    {
     "name": "stdout",
     "output_type": "stream",
     "text": [
      "16\n"
     ]
    }
   ],
   "source": [
    "import multiprocessing as mp\n",
    "\n",
    "print(mp.cpu_count())"
   ]
  },
  {
   "cell_type": "markdown",
   "id": "fb19be6a",
   "metadata": {},
   "source": [
    "## Synchronous and Asynchronous \n",
    "\n",
    "A synchronous execution is one the processes are completed in the same order in which it was started. This is achieved by locking the main program until the respective processes are finished.\n",
    "\n",
    "Asynchronous, on the other hand, doesn’t involve locking. As a result, the order of results can get mixed up but usually gets done quicker."
   ]
  },
  {
   "cell_type": "markdown",
   "id": "b385b4be",
   "metadata": {},
   "source": [
    "Problem Statement: Count how many numbers exist between a given range in each row"
   ]
  },
  {
   "cell_type": "code",
   "execution_count": 2,
   "id": "6359e11b",
   "metadata": {},
   "outputs": [
    {
     "data": {
      "text/plain": [
       "[[1, 5, 2, 6, 7],\n",
       " [0, 9, 5, 9, 9],\n",
       " [1, 8, 2, 8, 0],\n",
       " [7, 0, 0, 2, 7],\n",
       " [5, 2, 7, 7, 9]]"
      ]
     },
     "execution_count": 2,
     "metadata": {},
     "output_type": "execute_result"
    }
   ],
   "source": [
    "import numpy as np\n",
    "from time import time\n",
    "\n",
    "# Prepare data\n",
    "np.random.RandomState(100)\n",
    "arr = np.random.randint(0, 10, size=[200000, 5])\n",
    "data = arr.tolist()\n",
    "data[:5]\n"
   ]
  },
  {
   "cell_type": "code",
   "execution_count": 3,
   "id": "d69192a2",
   "metadata": {},
   "outputs": [
    {
     "name": "stdout",
     "output_type": "stream",
     "text": [
      "[2, 2, 3, 4, 3, 2, 2, 1, 4, 1]\n"
     ]
    }
   ],
   "source": [
    "def howmany_within_range(row, minimum, maximum):\n",
    "    \"\"\"Returns how many numbers lie within `maximum` and `minimum` in a given `row`\"\"\"\n",
    "    count = 0\n",
    "    for n in row:\n",
    "        if minimum <= n <= maximum:\n",
    "            count = count + 1\n",
    "    return count\n",
    "\n",
    "results = []\n",
    "for row in data:\n",
    "    results.append(howmany_within_range(row, minimum=4, maximum=8))\n",
    "\n",
    "print(results[:10])"
   ]
  },
  {
   "cell_type": "code",
   "execution_count": null,
   "id": "a62f6da9",
   "metadata": {},
   "outputs": [],
   "source": [
    "pool = mp.Pool(mp.cpu_count())\n",
    "\n",
    "# Step 2: `pool.apply` the `howmany_within_range()`\n",
    "results = [pool.apply(howmany_within_range, args=(row, 4, 8)) for row in data]\n",
    "\n",
    "# Step 3: Don't forget to close\n",
    "pool.close()    \n",
    "\n",
    "print(results[:10])"
   ]
  },
  {
   "cell_type": "code",
   "execution_count": null,
   "id": "aa95d082",
   "metadata": {},
   "outputs": [],
   "source": [
    "def howmany_within_range_rowonly(row, minimum=4, maximum=8):\n",
    "    count = 0\n",
    "    for n in row:\n",
    "        if minimum <= n <= maximum:\n",
    "            count = count + 1\n",
    "    return count\n",
    "\n",
    "pool = mp.Pool(mp.cpu_count())\n",
    "\n",
    "results = pool.map(howmany_within_range_rowonly, [row for row in data])\n",
    "\n",
    "pool.close()\n",
    "\n",
    "print(results[:10])"
   ]
  },
  {
   "cell_type": "code",
   "execution_count": null,
   "id": "e4c48a0c",
   "metadata": {},
   "outputs": [],
   "source": []
  }
 ],
 "metadata": {
  "kernelspec": {
   "display_name": "summer",
   "language": "python",
   "name": "python3"
  },
  "language_info": {
   "codemirror_mode": {
    "name": "ipython",
    "version": 3
   },
   "file_extension": ".py",
   "mimetype": "text/x-python",
   "name": "python",
   "nbconvert_exporter": "python",
   "pygments_lexer": "ipython3",
   "version": "3.10.16"
  }
 },
 "nbformat": 4,
 "nbformat_minor": 5
}
