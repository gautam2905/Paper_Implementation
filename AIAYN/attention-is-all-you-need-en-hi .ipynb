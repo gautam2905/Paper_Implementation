{
 "cells": [
  {
   "cell_type": "markdown",
   "metadata": {
    "id": "1a28949b"
   },
   "source": [
    "## Paper Implementation - Attention Is All You Need"
   ]
  },
  {
   "cell_type": "code",
   "execution_count": 17,
   "metadata": {
    "execution": {
     "iopub.execute_input": "2023-12-10T11:09:24.789486Z",
     "iopub.status.busy": "2023-12-10T11:09:24.788791Z",
     "iopub.status.idle": "2023-12-10T11:09:49.358575Z",
     "shell.execute_reply": "2023-12-10T11:09:49.357528Z",
     "shell.execute_reply.started": "2023-12-10T11:09:24.789456Z"
    },
    "id": "WLWLl7zMGU6K",
    "trusted": true
   },
   "outputs": [
    {
     "name": "stdout",
     "output_type": "stream",
     "text": [
      "Requirement already satisfied: torchtext in c:\\users\\gupta\\.conda\\envs\\ml_projects\\lib\\site-packages (0.18.0)\n",
      "Requirement already satisfied: tqdm in c:\\users\\gupta\\appdata\\roaming\\python\\python310\\site-packages (from torchtext) (4.66.6)\n",
      "Requirement already satisfied: requests in c:\\users\\gupta\\appdata\\roaming\\python\\python310\\site-packages (from torchtext) (2.32.3)\n",
      "Requirement already satisfied: torch>=2.3.0 in c:\\users\\gupta\\.conda\\envs\\ml_projects\\lib\\site-packages (from torchtext) (2.4.0+cu118)\n",
      "Requirement already satisfied: numpy in c:\\users\\gupta\\appdata\\roaming\\python\\python310\\site-packages (from torchtext) (1.26.4)\n",
      "Requirement already satisfied: filelock in c:\\users\\gupta\\appdata\\roaming\\python\\python310\\site-packages (from torch>=2.3.0->torchtext) (3.16.1)\n",
      "Requirement already satisfied: typing-extensions>=4.8.0 in c:\\users\\gupta\\appdata\\roaming\\python\\python310\\site-packages (from torch>=2.3.0->torchtext) (4.12.2)\n",
      "Requirement already satisfied: sympy in c:\\users\\gupta\\.conda\\envs\\ml_projects\\lib\\site-packages (from torch>=2.3.0->torchtext) (1.12)\n",
      "Requirement already satisfied: networkx in c:\\users\\gupta\\.conda\\envs\\ml_projects\\lib\\site-packages (from torch>=2.3.0->torchtext) (3.2.1)\n",
      "Requirement already satisfied: jinja2 in c:\\users\\gupta\\.conda\\envs\\ml_projects\\lib\\site-packages (from torch>=2.3.0->torchtext) (3.1.4)\n",
      "Requirement already satisfied: fsspec in c:\\users\\gupta\\appdata\\roaming\\python\\python310\\site-packages (from torch>=2.3.0->torchtext) (2023.10.0)\n",
      "Requirement already satisfied: charset-normalizer<4,>=2 in c:\\users\\gupta\\appdata\\roaming\\python\\python310\\site-packages (from requests->torchtext) (2.0.12)\n",
      "Requirement already satisfied: idna<4,>=2.5 in c:\\users\\gupta\\appdata\\roaming\\python\\python310\\site-packages (from requests->torchtext) (3.10)\n",
      "Requirement already satisfied: urllib3<3,>=1.21.1 in c:\\users\\gupta\\appdata\\roaming\\python\\python310\\site-packages (from requests->torchtext) (1.26.20)\n",
      "Requirement already satisfied: certifi>=2017.4.17 in c:\\users\\gupta\\appdata\\roaming\\python\\python310\\site-packages (from requests->torchtext) (2024.8.30)\n",
      "Requirement already satisfied: colorama in c:\\users\\gupta\\.conda\\envs\\ml_projects\\lib\\site-packages (from tqdm->torchtext) (0.4.6)\n",
      "Requirement already satisfied: MarkupSafe>=2.0 in c:\\users\\gupta\\.conda\\envs\\ml_projects\\lib\\site-packages (from jinja2->torch>=2.3.0->torchtext) (2.1.3)\n",
      "Requirement already satisfied: mpmath>=0.19 in c:\\users\\gupta\\.conda\\envs\\ml_projects\\lib\\site-packages (from sympy->torch>=2.3.0->torchtext) (1.3.0)\n"
     ]
    }
   ],
   "source": [
    "# %%capture\n",
    "# # !pip install portalocker\n",
    "# !pip install torchtext"
   ]
  },
  {
   "cell_type": "code",
   "execution_count": 2,
   "metadata": {
    "execution": {
     "iopub.execute_input": "2023-12-10T11:09:54.557863Z",
     "iopub.status.busy": "2023-12-10T11:09:54.557501Z",
     "iopub.status.idle": "2023-12-10T11:10:27.967168Z",
     "shell.execute_reply": "2023-12-10T11:10:27.965949Z",
     "shell.execute_reply.started": "2023-12-10T11:09:54.557821Z"
    },
    "id": "dy-TsKmHJ927",
    "trusted": true
   },
   "outputs": [],
   "source": [
    "# %%capture\n",
    "# !pip install -U spacy\n",
    "# !python -m spacy download en"
   ]
  },
  {
   "cell_type": "code",
   "execution_count": 3,
   "metadata": {
    "execution": {
     "iopub.execute_input": "2023-12-10T11:10:27.969300Z",
     "iopub.status.busy": "2023-12-10T11:10:27.968990Z",
     "iopub.status.idle": "2023-12-10T11:10:27.973485Z",
     "shell.execute_reply": "2023-12-10T11:10:27.972499Z",
     "shell.execute_reply.started": "2023-12-10T11:10:27.969273Z"
    },
    "trusted": true
   },
   "outputs": [],
   "source": [
    "# import os\n",
    "# os.environ['CUDA_LAUNCH_BLOCKING'] = \"1\""
   ]
  },
  {
   "cell_type": "code",
   "execution_count": 1,
   "metadata": {
    "execution": {
     "iopub.execute_input": "2023-12-10T11:10:27.974806Z",
     "iopub.status.busy": "2023-12-10T11:10:27.974537Z",
     "iopub.status.idle": "2023-12-10T11:10:31.422187Z",
     "shell.execute_reply": "2023-12-10T11:10:31.421236Z",
     "shell.execute_reply.started": "2023-12-10T11:10:27.974774Z"
    },
    "id": "e2f7b784",
    "trusted": true
   },
   "outputs": [
    {
     "ename": "OSError",
     "evalue": "[WinError 127] The specified procedure could not be found",
     "output_type": "error",
     "traceback": [
      "\u001b[1;31m---------------------------------------------------------------------------\u001b[0m",
      "\u001b[1;31mOSError\u001b[0m                                   Traceback (most recent call last)",
      "Cell \u001b[1;32mIn[1], line 5\u001b[0m\n\u001b[0;32m      3\u001b[0m \u001b[38;5;28;01mimport\u001b[39;00m \u001b[38;5;21;01mmath\u001b[39;00m\n\u001b[0;32m      4\u001b[0m \u001b[38;5;28;01mimport\u001b[39;00m \u001b[38;5;21;01mcopy\u001b[39;00m\n\u001b[1;32m----> 5\u001b[0m \u001b[38;5;28;01mfrom\u001b[39;00m \u001b[38;5;21;01mtorchtext\u001b[39;00m\u001b[38;5;21;01m.\u001b[39;00m\u001b[38;5;21;01mdatasets\u001b[39;00m \u001b[38;5;28;01mimport\u001b[39;00m WikiText2\n\u001b[0;32m      6\u001b[0m \u001b[38;5;28;01mfrom\u001b[39;00m \u001b[38;5;21;01mtorchtext\u001b[39;00m\u001b[38;5;21;01m.\u001b[39;00m\u001b[38;5;21;01mdata\u001b[39;00m\u001b[38;5;21;01m.\u001b[39;00m\u001b[38;5;21;01mutils\u001b[39;00m \u001b[38;5;28;01mimport\u001b[39;00m get_tokenizer\n\u001b[0;32m      7\u001b[0m \u001b[38;5;28;01mfrom\u001b[39;00m \u001b[38;5;21;01mtorchtext\u001b[39;00m\u001b[38;5;21;01m.\u001b[39;00m\u001b[38;5;21;01mvocab\u001b[39;00m \u001b[38;5;28;01mimport\u001b[39;00m build_vocab_from_iterator\n",
      "File \u001b[1;32mc:\\Users\\gupta\\.conda\\envs\\ml_projects\\lib\\site-packages\\torchtext\\__init__.py:18\u001b[0m\n\u001b[0;32m     15\u001b[0m     _WARN \u001b[38;5;241m=\u001b[39m \u001b[38;5;28;01mFalse\u001b[39;00m\n\u001b[0;32m     17\u001b[0m \u001b[38;5;66;03m# the following import has to happen first in order to load the torchtext C++ library\u001b[39;00m\n\u001b[1;32m---> 18\u001b[0m \u001b[38;5;28;01mfrom\u001b[39;00m \u001b[38;5;21;01mtorchtext\u001b[39;00m \u001b[38;5;28;01mimport\u001b[39;00m _extension  \u001b[38;5;66;03m# noqa: F401\u001b[39;00m\n\u001b[0;32m     20\u001b[0m _TEXT_BUCKET \u001b[38;5;241m=\u001b[39m \u001b[38;5;124m\"\u001b[39m\u001b[38;5;124mhttps://download.pytorch.org/models/text/\u001b[39m\u001b[38;5;124m\"\u001b[39m\n\u001b[0;32m     22\u001b[0m _CACHE_DIR \u001b[38;5;241m=\u001b[39m os\u001b[38;5;241m.\u001b[39mpath\u001b[38;5;241m.\u001b[39mexpanduser(os\u001b[38;5;241m.\u001b[39mpath\u001b[38;5;241m.\u001b[39mjoin(_get_torch_home(), \u001b[38;5;124m\"\u001b[39m\u001b[38;5;124mtext\u001b[39m\u001b[38;5;124m\"\u001b[39m))\n",
      "File \u001b[1;32mc:\\Users\\gupta\\.conda\\envs\\ml_projects\\lib\\site-packages\\torchtext\\_extension.py:64\u001b[0m\n\u001b[0;32m     59\u001b[0m     \u001b[38;5;66;03m# This import is for initializing the methods registered via PyBind11\u001b[39;00m\n\u001b[0;32m     60\u001b[0m     \u001b[38;5;66;03m# This has to happen after the base library is loaded\u001b[39;00m\n\u001b[0;32m     61\u001b[0m     \u001b[38;5;28;01mfrom\u001b[39;00m \u001b[38;5;21;01mtorchtext\u001b[39;00m \u001b[38;5;28;01mimport\u001b[39;00m _torchtext  \u001b[38;5;66;03m# noqa\u001b[39;00m\n\u001b[1;32m---> 64\u001b[0m \u001b[43m_init_extension\u001b[49m\u001b[43m(\u001b[49m\u001b[43m)\u001b[49m\n",
      "File \u001b[1;32mc:\\Users\\gupta\\.conda\\envs\\ml_projects\\lib\\site-packages\\torchtext\\_extension.py:58\u001b[0m, in \u001b[0;36m_init_extension\u001b[1;34m()\u001b[0m\n\u001b[0;32m     55\u001b[0m \u001b[38;5;28;01mif\u001b[39;00m \u001b[38;5;129;01mnot\u001b[39;00m _mod_utils\u001b[38;5;241m.\u001b[39mis_module_available(\u001b[38;5;124m\"\u001b[39m\u001b[38;5;124mtorchtext._torchtext\u001b[39m\u001b[38;5;124m\"\u001b[39m):\n\u001b[0;32m     56\u001b[0m     \u001b[38;5;28;01mraise\u001b[39;00m \u001b[38;5;167;01mImportError\u001b[39;00m(\u001b[38;5;124m\"\u001b[39m\u001b[38;5;124mtorchtext C++ Extension is not found.\u001b[39m\u001b[38;5;124m\"\u001b[39m)\n\u001b[1;32m---> 58\u001b[0m \u001b[43m_load_lib\u001b[49m\u001b[43m(\u001b[49m\u001b[38;5;124;43m\"\u001b[39;49m\u001b[38;5;124;43mlibtorchtext\u001b[39;49m\u001b[38;5;124;43m\"\u001b[39;49m\u001b[43m)\u001b[49m\n\u001b[0;32m     59\u001b[0m \u001b[38;5;66;03m# This import is for initializing the methods registered via PyBind11\u001b[39;00m\n\u001b[0;32m     60\u001b[0m \u001b[38;5;66;03m# This has to happen after the base library is loaded\u001b[39;00m\n\u001b[0;32m     61\u001b[0m \u001b[38;5;28;01mfrom\u001b[39;00m \u001b[38;5;21;01mtorchtext\u001b[39;00m \u001b[38;5;28;01mimport\u001b[39;00m _torchtext\n",
      "File \u001b[1;32mc:\\Users\\gupta\\.conda\\envs\\ml_projects\\lib\\site-packages\\torchtext\\_extension.py:50\u001b[0m, in \u001b[0;36m_load_lib\u001b[1;34m(lib)\u001b[0m\n\u001b[0;32m     48\u001b[0m \u001b[38;5;28;01mif\u001b[39;00m \u001b[38;5;129;01mnot\u001b[39;00m path\u001b[38;5;241m.\u001b[39mexists():\n\u001b[0;32m     49\u001b[0m     \u001b[38;5;28;01mreturn\u001b[39;00m \u001b[38;5;28;01mFalse\u001b[39;00m\n\u001b[1;32m---> 50\u001b[0m \u001b[43mtorch\u001b[49m\u001b[38;5;241;43m.\u001b[39;49m\u001b[43mops\u001b[49m\u001b[38;5;241;43m.\u001b[39;49m\u001b[43mload_library\u001b[49m\u001b[43m(\u001b[49m\u001b[43mpath\u001b[49m\u001b[43m)\u001b[49m\n\u001b[0;32m     51\u001b[0m \u001b[38;5;28;01mreturn\u001b[39;00m \u001b[38;5;28;01mTrue\u001b[39;00m\n",
      "File \u001b[1;32mc:\\Users\\gupta\\.conda\\envs\\ml_projects\\lib\\site-packages\\torch\\_ops.py:1295\u001b[0m, in \u001b[0;36m_Ops.load_library\u001b[1;34m(self, path)\u001b[0m\n\u001b[0;32m   1290\u001b[0m path \u001b[38;5;241m=\u001b[39m _utils_internal\u001b[38;5;241m.\u001b[39mresolve_library_path(path)\n\u001b[0;32m   1291\u001b[0m \u001b[38;5;28;01mwith\u001b[39;00m dl_open_guard():\n\u001b[0;32m   1292\u001b[0m     \u001b[38;5;66;03m# Import the shared library into the process, thus running its\u001b[39;00m\n\u001b[0;32m   1293\u001b[0m     \u001b[38;5;66;03m# static (global) initialization code in order to register custom\u001b[39;00m\n\u001b[0;32m   1294\u001b[0m     \u001b[38;5;66;03m# operators with the JIT.\u001b[39;00m\n\u001b[1;32m-> 1295\u001b[0m     \u001b[43mctypes\u001b[49m\u001b[38;5;241;43m.\u001b[39;49m\u001b[43mCDLL\u001b[49m\u001b[43m(\u001b[49m\u001b[43mpath\u001b[49m\u001b[43m)\u001b[49m\n\u001b[0;32m   1296\u001b[0m \u001b[38;5;28mself\u001b[39m\u001b[38;5;241m.\u001b[39mloaded_libraries\u001b[38;5;241m.\u001b[39madd(path)\n",
      "File \u001b[1;32mc:\\Users\\gupta\\.conda\\envs\\ml_projects\\lib\\ctypes\\__init__.py:374\u001b[0m, in \u001b[0;36mCDLL.__init__\u001b[1;34m(self, name, mode, handle, use_errno, use_last_error, winmode)\u001b[0m\n\u001b[0;32m    371\u001b[0m \u001b[38;5;28mself\u001b[39m\u001b[38;5;241m.\u001b[39m_FuncPtr \u001b[38;5;241m=\u001b[39m _FuncPtr\n\u001b[0;32m    373\u001b[0m \u001b[38;5;28;01mif\u001b[39;00m handle \u001b[38;5;129;01mis\u001b[39;00m \u001b[38;5;28;01mNone\u001b[39;00m:\n\u001b[1;32m--> 374\u001b[0m     \u001b[38;5;28mself\u001b[39m\u001b[38;5;241m.\u001b[39m_handle \u001b[38;5;241m=\u001b[39m \u001b[43m_dlopen\u001b[49m\u001b[43m(\u001b[49m\u001b[38;5;28;43mself\u001b[39;49m\u001b[38;5;241;43m.\u001b[39;49m\u001b[43m_name\u001b[49m\u001b[43m,\u001b[49m\u001b[43m \u001b[49m\u001b[43mmode\u001b[49m\u001b[43m)\u001b[49m\n\u001b[0;32m    375\u001b[0m \u001b[38;5;28;01melse\u001b[39;00m:\n\u001b[0;32m    376\u001b[0m     \u001b[38;5;28mself\u001b[39m\u001b[38;5;241m.\u001b[39m_handle \u001b[38;5;241m=\u001b[39m handle\n",
      "\u001b[1;31mOSError\u001b[0m: [WinError 127] The specified procedure could not be found"
     ]
    }
   ],
   "source": [
    "import torch\n",
    "import torch.nn as nn\n",
    "import math\n",
    "import copy\n",
    "from torchtext.datasets import WikiText2\n",
    "from torchtext.data.utils import get_tokenizer\n",
    "from torchtext.vocab import build_vocab_from_iterator\n",
    "from torch.utils.data import dataset,DataLoader\n",
    "from torch import Tensor\n",
    "from collections import Counter\n",
    "from torchtext.vocab import Vocab\n"
   ]
  },
  {
   "cell_type": "code",
   "execution_count": 3,
   "metadata": {
    "execution": {
     "iopub.execute_input": "2023-12-10T11:10:31.424749Z",
     "iopub.status.busy": "2023-12-10T11:10:31.424301Z",
     "iopub.status.idle": "2023-12-10T11:10:49.145935Z",
     "shell.execute_reply": "2023-12-10T11:10:49.145049Z",
     "shell.execute_reply.started": "2023-12-10T11:10:31.424722Z"
    },
    "id": "coR0vXXyFWxo",
    "outputId": "7a23447d-a660-4f52-823b-8afa0c0c8c4d",
    "trusted": true
   },
   "outputs": [
    {
     "name": "stderr",
     "output_type": "stream",
     "text": [
      "C:\\Users\\gupta\\AppData\\Roaming\\Python\\Python310\\site-packages\\tqdm\\auto.py:21: TqdmWarning: IProgress not found. Please update jupyter and ipywidgets. See https://ipywidgets.readthedocs.io/en/stable/user_install.html\n",
      "  from .autonotebook import tqdm as notebook_tqdm\n"
     ]
    }
   ],
   "source": [
    "from datasets import load_dataset\n",
    "ds = load_dataset(\"open_subtitles\", 'en-hi',split=\"train\")\n",
    "ds = ds.remove_columns('meta')\n",
    "ds = ds.train_test_split(test_size=0.1)\n",
    "train_data = ds['train']\n",
    "val_data = ds['test']"
   ]
  },
  {
   "cell_type": "code",
   "execution_count": 2,
   "metadata": {},
   "outputs": [
    {
     "ename": "NameError",
     "evalue": "name 'train_data' is not defined",
     "output_type": "error",
     "traceback": [
      "\u001b[1;31m---------------------------------------------------------------------------\u001b[0m",
      "\u001b[1;31mNameError\u001b[0m                                 Traceback (most recent call last)",
      "Cell \u001b[1;32mIn[2], line 1\u001b[0m\n\u001b[1;32m----> 1\u001b[0m \u001b[43mtrain_data\u001b[49m\n",
      "\u001b[1;31mNameError\u001b[0m: name 'train_data' is not defined"
     ]
    }
   ],
   "source": [
    "train_data"
   ]
  },
  {
   "cell_type": "code",
   "execution_count": 8,
   "metadata": {
    "execution": {
     "iopub.execute_input": "2023-12-10T12:24:49.125761Z",
     "iopub.status.busy": "2023-12-10T12:24:49.125382Z",
     "iopub.status.idle": "2023-12-10T12:24:49.133533Z",
     "shell.execute_reply": "2023-12-10T12:24:49.132588Z",
     "shell.execute_reply.started": "2023-12-10T12:24:49.125730Z"
    },
    "trusted": true
   },
   "outputs": [
    {
     "data": {
      "text/plain": [
       "{'id': ['15848', '62049', '17265', '36139', '1482', '31904'],\n",
       " 'translation': [{'en': \"I'm only doing business with people that share the same values as me\",\n",
       "   'hi': 'मैं केवल लोगों के रूप में मुझे का हिस्सा है कि एक ही मूल्यों के साथ कारोबार कर रहा हूँ'},\n",
       "  {'en': \"- I don't have a problem, but you do.\",\n",
       "   'hi': '- मैं एक समस्या नहीं है, लेकिन तुम जानते हो.'},\n",
       "  {'en': 'Excuse me, is Mike Steuben here?',\n",
       "   'hi': 'मुझे माफ करना, माइक Steuben यहाँ है?'},\n",
       "  {'en': 'Everything can be traced nowadays.',\n",
       "   'hi': 'सब कुछ आज पता लगाया जा सकता है.'},\n",
       "  {'en': 'It seems to me that the skiing up here would be fantastic.',\n",
       "   'hi': 'मुझे लगता है कि स्कीइंग यहाँ शानदार होगा.'},\n",
       "  {'en': 'Welcome to my new home.', 'hi': 'मेरे नए घर में स्वागत है.'}]}"
      ]
     },
     "execution_count": 8,
     "metadata": {},
     "output_type": "execute_result"
    }
   ],
   "source": [
    "ds['train'][:6]"
   ]
  },
  {
   "cell_type": "code",
   "execution_count": 9,
   "metadata": {
    "execution": {
     "iopub.execute_input": "2023-12-10T11:10:49.156522Z",
     "iopub.status.busy": "2023-12-10T11:10:49.156165Z",
     "iopub.status.idle": "2023-12-10T11:10:51.769959Z",
     "shell.execute_reply": "2023-12-10T11:10:51.768920Z",
     "shell.execute_reply.started": "2023-12-10T11:10:49.156488Z"
    },
    "id": "bVO2W40b-V-q",
    "outputId": "70be80b9-1174-4acf-850d-190d13e86bdd",
    "trusted": true
   },
   "outputs": [
    {
     "ename": "NameError",
     "evalue": "name 'get_tokenizer' is not defined",
     "output_type": "error",
     "traceback": [
      "\u001b[1;31m---------------------------------------------------------------------------\u001b[0m",
      "\u001b[1;31mNameError\u001b[0m                                 Traceback (most recent call last)",
      "Cell \u001b[1;32mIn[9], line 1\u001b[0m\n\u001b[1;32m----> 1\u001b[0m en_tokenizer \u001b[38;5;241m=\u001b[39m \u001b[43mget_tokenizer\u001b[49m(\u001b[38;5;124m'\u001b[39m\u001b[38;5;124mspacy\u001b[39m\u001b[38;5;124m'\u001b[39m, language\u001b[38;5;241m=\u001b[39m\u001b[38;5;124m'\u001b[39m\u001b[38;5;124men\u001b[39m\u001b[38;5;124m'\u001b[39m)\n",
      "\u001b[1;31mNameError\u001b[0m: name 'get_tokenizer' is not defined"
     ]
    }
   ],
   "source": [
    "en_tokenizer = get_tokenizer('spacy', language='en')"
   ]
  },
  {
   "cell_type": "code",
   "execution_count": 8,
   "metadata": {
    "execution": {
     "iopub.execute_input": "2023-12-10T11:10:51.771625Z",
     "iopub.status.busy": "2023-12-10T11:10:51.771108Z",
     "iopub.status.idle": "2023-12-10T11:10:53.331214Z",
     "shell.execute_reply": "2023-12-10T11:10:53.330219Z",
     "shell.execute_reply.started": "2023-12-10T11:10:51.771597Z"
    },
    "trusted": true
   },
   "outputs": [],
   "source": [
    "from nltk.tokenize import ToktokTokenizer\n",
    "sentence = \"नमस्ते दुनिया, मैं एक भाषा मॉडल हूँ।\"\n",
    "\n",
    "toktok_tokennizer = ToktokTokenizer()\n",
    "tokens = toktok_tokennizer.tokenize(sentence)\n"
   ]
  },
  {
   "cell_type": "code",
   "execution_count": 9,
   "metadata": {
    "execution": {
     "iopub.execute_input": "2023-12-10T11:10:53.332732Z",
     "iopub.status.busy": "2023-12-10T11:10:53.332445Z",
     "iopub.status.idle": "2023-12-10T11:10:53.338759Z",
     "shell.execute_reply": "2023-12-10T11:10:53.337003Z",
     "shell.execute_reply.started": "2023-12-10T11:10:53.332706Z"
    },
    "trusted": true
   },
   "outputs": [],
   "source": [
    "# en_tokenizer('Spacy model')"
   ]
  },
  {
   "cell_type": "code",
   "execution_count": 10,
   "metadata": {
    "execution": {
     "iopub.execute_input": "2023-12-10T11:10:53.340488Z",
     "iopub.status.busy": "2023-12-10T11:10:53.340207Z",
     "iopub.status.idle": "2023-12-10T11:11:05.386085Z",
     "shell.execute_reply": "2023-12-10T11:11:05.384670Z",
     "shell.execute_reply.started": "2023-12-10T11:10:53.340464Z"
    },
    "id": "5pSWanlERYiP",
    "trusted": true
   },
   "outputs": [],
   "source": [
    "special_symbols = ['<unk>', '<pad>', '<bos>', '<eos>']\n",
    "\n",
    "def yield_tokens_en(data_iter):\n",
    "    for text in data_iter:\n",
    "        yield en_tokenizer(text['en'].lower())\n",
    "\n",
    "# Build the vocabulary from the training dataset\n",
    "vocab_en = build_vocab_from_iterator(yield_tokens_en(iter(train_data['translation'])),min_freq=1,\n",
    "                                                    specials=special_symbols,\n",
    "                                                    special_first=True)\n",
    "def yield_tokens_de(data_iter):\n",
    "    for text in data_iter:\n",
    "        yield toktok_tokennizer.tokenize(text['hi'])\n",
    "\n",
    "# Build the vocabulary from the training dataset\n",
    "vocab_de = build_vocab_from_iterator(yield_tokens_de(iter(train_data['translation'])),min_freq=1,\n",
    "                                                    specials=special_symbols,\n",
    "                                                    special_first=True)\n",
    "UNK_IDX, PAD_IDX, BOS_IDX, EOS_IDX = 0, 1, 2, 3\n",
    "\n",
    "vocab_en.set_default_index(UNK_IDX)\n",
    "vocab_de.set_default_index(UNK_IDX)\n"
   ]
  },
  {
   "cell_type": "code",
   "execution_count": 11,
   "metadata": {
    "execution": {
     "iopub.execute_input": "2023-12-10T11:11:05.391631Z",
     "iopub.status.busy": "2023-12-10T11:11:05.391246Z",
     "iopub.status.idle": "2023-12-10T11:11:05.398006Z",
     "shell.execute_reply": "2023-12-10T11:11:05.396931Z",
     "shell.execute_reply.started": "2023-12-10T11:11:05.391605Z"
    },
    "trusted": true
   },
   "outputs": [
    {
     "data": {
      "text/plain": [
       "(25413, 19446)"
      ]
     },
     "execution_count": 11,
     "metadata": {},
     "output_type": "execute_result"
    }
   ],
   "source": [
    "len(vocab_de.vocab),len(vocab_en.vocab)"
   ]
  },
  {
   "cell_type": "code",
   "execution_count": 12,
   "metadata": {
    "execution": {
     "iopub.execute_input": "2023-12-10T11:11:05.399554Z",
     "iopub.status.busy": "2023-12-10T11:11:05.399261Z",
     "iopub.status.idle": "2023-12-10T11:11:05.409388Z",
     "shell.execute_reply": "2023-12-10T11:11:05.408525Z",
     "shell.execute_reply.started": "2023-12-10T11:11:05.399528Z"
    },
    "trusted": true
   },
   "outputs": [
    {
     "data": {
      "text/plain": [
       "(['लिए', 'को'], ['of', 'your'])"
      ]
     },
     "execution_count": 12,
     "metadata": {},
     "output_type": "execute_result"
    }
   ],
   "source": [
    "vocab_de.lookup_tokens([20,30]),vocab_en.lookup_tokens([20,30])"
   ]
  },
  {
   "cell_type": "code",
   "execution_count": 13,
   "metadata": {
    "execution": {
     "iopub.execute_input": "2023-12-10T11:11:05.410755Z",
     "iopub.status.busy": "2023-12-10T11:11:05.410499Z",
     "iopub.status.idle": "2023-12-10T11:11:05.419204Z",
     "shell.execute_reply": "2023-12-10T11:11:05.418276Z",
     "shell.execute_reply.started": "2023-12-10T11:11:05.410730Z"
    },
    "trusted": true
   },
   "outputs": [
    {
     "data": {
      "text/plain": [
       "(25413, 19446)"
      ]
     },
     "execution_count": 13,
     "metadata": {},
     "output_type": "execute_result"
    }
   ],
   "source": [
    "len(vocab_de.vocab),len(vocab_en.vocab)"
   ]
  },
  {
   "cell_type": "code",
   "execution_count": 14,
   "metadata": {
    "execution": {
     "iopub.execute_input": "2023-12-10T11:11:05.420590Z",
     "iopub.status.busy": "2023-12-10T11:11:05.420332Z",
     "iopub.status.idle": "2023-12-10T11:11:05.429040Z",
     "shell.execute_reply": "2023-12-10T11:11:05.428112Z",
     "shell.execute_reply.started": "2023-12-10T11:11:05.420566Z"
    },
    "id": "vNuDab6ZXcIB",
    "outputId": "5fea259d-00bc-4c71-d57a-acf3c51b465a",
    "trusted": true
   },
   "outputs": [
    {
     "data": {
      "text/plain": [
       "(66, 0)"
      ]
     },
     "execution_count": 14,
     "metadata": {},
     "output_type": "execute_result"
    }
   ],
   "source": [
    "vocab_de['बहुत'.lower()],vocab_en['Well']"
   ]
  },
  {
   "cell_type": "code",
   "execution_count": 15,
   "metadata": {
    "execution": {
     "iopub.execute_input": "2023-12-10T11:11:05.430582Z",
     "iopub.status.busy": "2023-12-10T11:11:05.430251Z",
     "iopub.status.idle": "2023-12-10T11:11:18.382746Z",
     "shell.execute_reply": "2023-12-10T11:11:18.381892Z",
     "shell.execute_reply.started": "2023-12-10T11:11:05.430550Z"
    },
    "id": "eNehEvcITC7u",
    "trusted": true
   },
   "outputs": [],
   "source": [
    "def preprocess_data(data):\n",
    "    tensor_data = []\n",
    "    for translation_data in data['translation']:\n",
    "        en = translation_data['en']\n",
    "        de = translation_data['hi']\n",
    "        en_tensor = torch.tensor([vocab_en[v] for v in en_tokenizer(en.lower())],dtype=torch.long)\n",
    "        de_tensor = torch.tensor([vocab_de[v] for v in toktok_tokennizer.tokenize(de)],dtype=torch.long)\n",
    "        tensor_data.append([en_tensor,de_tensor])\n",
    "    return tensor_data\n",
    "\n",
    "train_data = preprocess_data(train_data)\n",
    "val_data = preprocess_data(val_data)"
   ]
  },
  {
   "cell_type": "code",
   "execution_count": 16,
   "metadata": {
    "execution": {
     "iopub.execute_input": "2023-12-10T11:11:18.384769Z",
     "iopub.status.busy": "2023-12-10T11:11:18.384119Z",
     "iopub.status.idle": "2023-12-10T11:11:18.394395Z",
     "shell.execute_reply": "2023-12-10T11:11:18.393407Z",
     "shell.execute_reply.started": "2023-12-10T11:11:18.384729Z"
    },
    "id": "dcNYb4GXZFSR",
    "trusted": true
   },
   "outputs": [],
   "source": [
    "from torch.nn.utils.rnn import pad_sequence\n",
    "from torch.utils.data import DataLoader\n",
    "def generate_batch(data_batch):\n",
    "    de_batch, en_batch = [], []\n",
    "    for en_tensor,de_tensor in data_batch:\n",
    "        en_tensor = torch.cat([torch.tensor([BOS_IDX]), en_tensor, torch.tensor([EOS_IDX])], dim=0)\n",
    "        en_batch.append(en_tensor)\n",
    "        \n",
    "        de_tensor = torch.cat([torch.tensor([BOS_IDX]), de_tensor, torch.tensor([EOS_IDX])], dim=0)\n",
    "        de_batch.append(de_tensor)\n",
    "\n",
    "    de_batch = pad_sequence(de_batch, padding_value=PAD_IDX)\n",
    "    en_batch = pad_sequence(en_batch, padding_value=PAD_IDX)\n",
    "\n",
    "    return de_batch, en_batch\n",
    "\n",
    "BATCH_SIZE = 128\n",
    "train_iter = DataLoader(train_data, batch_size=BATCH_SIZE,shuffle=True, collate_fn=generate_batch)\n",
    "val_iter = DataLoader(val_data, batch_size=BATCH_SIZE,shuffle=True, collate_fn=generate_batch)"
   ]
  },
  {
   "cell_type": "code",
   "execution_count": 17,
   "metadata": {
    "execution": {
     "iopub.execute_input": "2023-12-10T11:11:18.396039Z",
     "iopub.status.busy": "2023-12-10T11:11:18.395684Z",
     "iopub.status.idle": "2023-12-10T11:11:18.420982Z",
     "shell.execute_reply": "2023-12-10T11:11:18.420086Z",
     "shell.execute_reply.started": "2023-12-10T11:11:18.396014Z"
    },
    "trusted": true
   },
   "outputs": [
    {
     "data": {
      "text/plain": [
       "655"
      ]
     },
     "execution_count": 17,
     "metadata": {},
     "output_type": "execute_result"
    }
   ],
   "source": [
    "len(train_iter)"
   ]
  },
  {
   "cell_type": "code",
   "execution_count": 18,
   "metadata": {
    "execution": {
     "iopub.execute_input": "2023-12-10T11:11:18.422622Z",
     "iopub.status.busy": "2023-12-10T11:11:18.422193Z",
     "iopub.status.idle": "2023-12-10T11:11:18.495254Z",
     "shell.execute_reply": "2023-12-10T11:11:18.494496Z",
     "shell.execute_reply.started": "2023-12-10T11:11:18.422588Z"
    },
    "id": "80aXCJMZZFug",
    "trusted": true
   },
   "outputs": [
    {
     "data": {
      "text/plain": [
       "(torch.Size([128, 21]), torch.Size([20, 128]))"
      ]
     },
     "execution_count": 18,
     "metadata": {},
     "output_type": "execute_result"
    }
   ],
   "source": [
    "for de_batch, en_batch in train_iter:\n",
    "    break\n",
    "de_batch.T.shape, en_batch.shape"
   ]
  },
  {
   "cell_type": "code",
   "execution_count": 19,
   "metadata": {
    "execution": {
     "iopub.execute_input": "2023-12-10T11:11:18.496508Z",
     "iopub.status.busy": "2023-12-10T11:11:18.496238Z",
     "iopub.status.idle": "2023-12-10T11:11:18.510231Z",
     "shell.execute_reply": "2023-12-10T11:11:18.509404Z",
     "shell.execute_reply.started": "2023-12-10T11:11:18.496484Z"
    },
    "trusted": true
   },
   "outputs": [
    {
     "data": {
      "text/plain": [
       "(torch.Size([128, 29]), torch.Size([26, 128]))"
      ]
     },
     "execution_count": 19,
     "metadata": {},
     "output_type": "execute_result"
    }
   ],
   "source": [
    "for de_batch, en_batch in val_iter:\n",
    "    break\n",
    "de_batch.T.shape, en_batch.shape"
   ]
  },
  {
   "cell_type": "code",
   "execution_count": 12,
   "metadata": {},
   "outputs": [],
   "source": [
    "class TokenEmbedding(nn.Embedding):\n",
    "    \"\"\"\n",
    "    Token Embedding using torch.nn\n",
    "    they will dense representation of word using weighted matrix\n",
    "    \"\"\"\n",
    "\n",
    "    def __init__(self, vocab_size, d_model):\n",
    "        \"\"\"\n",
    "        class for token embedding that included positional information\n",
    "\n",
    "        :param vocab_size: size of vocabulary\n",
    "        :param d_model: dimensions of model\n",
    "        \"\"\"\n",
    "        super(TokenEmbedding, self).__init__(vocab_size, d_model, padding_idx=1)\n",
    "\n",
    "class PositionalEncoding(nn.Module):\n",
    "    \"\"\"\n",
    "    compute sinusoid encoding.\n",
    "    \"\"\"\n",
    "\n",
    "    def __init__(self, d_model, max_len, device):\n",
    "        \"\"\"\n",
    "        constructor of sinusoid encoding class\n",
    "\n",
    "        :param d_model: dimension of model\n",
    "        :param max_len: max sequence length\n",
    "        :param device: hardware device setting\n",
    "        \"\"\"\n",
    "        super(PositionalEncoding, self).__init__()\n",
    "\n",
    "        # same size with input matrix (for adding with input matrix)\n",
    "        self.encoding = torch.zeros(max_len, d_model, device=device)\n",
    "        self.encoding.requires_grad = False  # we don't need to compute gradient\n",
    "\n",
    "        pos = torch.arange(0, max_len, device=device)\n",
    "        pos = pos.float().unsqueeze(dim=1)\n",
    "        # 1D => 2D unsqueeze to represent word's position\n",
    "\n",
    "        _2i = torch.arange(0, d_model, step=2, device=device).float()\n",
    "        # 'i' means index of d_model (e.g. embedding size = 50, 'i' = [0,50])\n",
    "        # \"step=2\" means 'i' multiplied with two (same with 2 * i)\n",
    "\n",
    "        self.encoding[:, 0::2] = torch.sin(pos / (10000 ** (_2i / d_model)))\n",
    "        self.encoding[:, 1::2] = torch.cos(pos / (10000 ** (_2i / d_model)))\n",
    "        # compute positional encoding to consider positional information of words\n",
    "\n",
    "    def forward(self, x):\n",
    "        # self.encoding\n",
    "        # [max_len = 512, d_model = 512]\n",
    "\n",
    "        batch_size, seq_len = x.size()\n",
    "        # [batch_size = 128, seq_len = 30]\n",
    "\n",
    "        return self.encoding[:seq_len, :]\n",
    "        # [seq_len = 30, d_model = 512]\n",
    "        # it will add with tok_emb : [128, 30, 512]\n",
    "        \n",
    "\n",
    "class TransformerEmbedding(nn.Module):\n",
    "    \"\"\"\n",
    "    token embedding + positional encoding (sinusoid)\n",
    "    positional encoding can give positional information to network\n",
    "    \"\"\"\n",
    "\n",
    "    def __init__(self, vocab_size, d_model, max_len, drop_prob, device):\n",
    "        \"\"\"\n",
    "        class for word embedding that included positional information\n",
    "\n",
    "        :param vocab_size: size of vocabulary\n",
    "        :param d_model: dimensions of model\n",
    "        \"\"\"\n",
    "        super(TransformerEmbedding, self).__init__()\n",
    "        self.tok_emb = TokenEmbedding(vocab_size, d_model)\n",
    "        self.pos_emb = PositionalEncoding(d_model, max_len, device)\n",
    "        self.drop_out = nn.Dropout(p=drop_prob)\n",
    "\n",
    "    def forward(self, x):\n",
    "        tok_emb = self.tok_emb(x)\n",
    "        pos_emb = self.pos_emb(x)\n",
    "        return self.drop_out(tok_emb + pos_emb)"
   ]
  },
  {
   "cell_type": "markdown",
   "metadata": {
    "id": "f0fceaec"
   },
   "source": [
    "## Embedding layer"
   ]
  },
  {
   "cell_type": "markdown",
   "metadata": {
    "id": "9240e005"
   },
   "source": [
    "In this step first we convert each word to input sequence and generate embedding vector."
   ]
  },
  {
   "cell_type": "code",
   "execution_count": 20,
   "metadata": {
    "execution": {
     "iopub.execute_input": "2023-12-10T11:11:18.511593Z",
     "iopub.status.busy": "2023-12-10T11:11:18.511361Z",
     "iopub.status.idle": "2023-12-10T11:11:18.517323Z",
     "shell.execute_reply": "2023-12-10T11:11:18.516442Z",
     "shell.execute_reply.started": "2023-12-10T11:11:18.511571Z"
    },
    "id": "b61b02b2",
    "trusted": true
   },
   "outputs": [],
   "source": [
    "class Embedding(nn.Module):\n",
    "    def __init__(self,vocab_size,dmodel=512) -> None:\n",
    "        # dmodel -> embedding model dimention\n",
    "        super(Embedding,self).__init__()\n",
    "        self.vocab_size = vocab_size\n",
    "        self.dmodel = dmodel\n",
    "        self.embed_layer = nn.Embedding(self.vocab_size,self.dmodel)\n",
    "    def forward(self,x):\n",
    "        embed_out = self.embed_layer(x)\n",
    "        # In the embedding layers, we multiply those weights by sqrt(dmodel)  -> pange 5\n",
    "        return embed_out * math.sqrt(self.dmodel)"
   ]
  },
  {
   "cell_type": "markdown",
   "metadata": {
    "id": "f6713362"
   },
   "source": [
    "## Positional Encoding"
   ]
  },
  {
   "cell_type": "code",
   "execution_count": 21,
   "metadata": {
    "execution": {
     "iopub.execute_input": "2023-12-10T11:11:18.518816Z",
     "iopub.status.busy": "2023-12-10T11:11:18.518559Z",
     "iopub.status.idle": "2023-12-10T11:11:18.526799Z",
     "shell.execute_reply": "2023-12-10T11:11:18.526025Z",
     "shell.execute_reply.started": "2023-12-10T11:11:18.518793Z"
    },
    "id": "a382d0da",
    "trusted": true
   },
   "outputs": [],
   "source": [
    "class PositionalEncoding(nn.Module):\n",
    "    def __init__(self,max_seq_len,d_model=512) -> None:\n",
    "         # dmodel -> embedding model dimention\n",
    "        super(PositionalEncoding,self).__init__()\n",
    "        self.d_model = d_model\n",
    "        pos = torch.arange(0, max_seq_len,dtype = torch.float).unsqueeze(1)\n",
    "        # we know a^-x  is equals to 1/a^x\n",
    "        frequency = torch.pow(10000,-torch.arange(0,d_model,2,dtype = torch.float)/self.d_model)\n",
    "        pe = torch.zeros((max_seq_len,d_model))\n",
    "        pe[:,0::2] = torch.sin(pos * frequency)\n",
    "        pe[:,1::2] = torch.cos(pos * frequency)\n",
    "        self.register_buffer('pe', pe)\n",
    "    def forward(self,embed_vect):\n",
    "        pe = self.pe[:embed_vect.size()[1]]\n",
    "        return embed_vect + pe"
   ]
  },
  {
   "cell_type": "markdown",
   "metadata": {
    "id": "38dd6914"
   },
   "source": [
    "## Attention Layer"
   ]
  },
  {
   "cell_type": "code",
   "execution_count": 22,
   "metadata": {
    "execution": {
     "iopub.execute_input": "2023-12-10T11:11:18.528147Z",
     "iopub.status.busy": "2023-12-10T11:11:18.527844Z",
     "iopub.status.idle": "2023-12-10T11:11:18.542333Z",
     "shell.execute_reply": "2023-12-10T11:11:18.541472Z",
     "shell.execute_reply.started": "2023-12-10T11:11:18.528122Z"
    },
    "id": "0eb39d1a",
    "scrolled": true,
    "trusted": true
   },
   "outputs": [],
   "source": [
    "class MultiHeadAttention(nn.Module):\n",
    "    def __init__(self, d_model = 512, n_head = 8, dropout_rate = 0.2) -> None:\n",
    "        super().__init__()\n",
    "        self.d_model = d_model\n",
    "        self.n_head = n_head\n",
    "        self.dropout = nn.Dropout(p=dropout_rate)\n",
    "        self.head_dim = int(d_model/n_head)\n",
    "        self.softmax_layer = nn.Softmax(dim=-1)\n",
    "        self.w_key = nn.Linear(d_model,d_model)\n",
    "        self.w_query = nn.Linear(d_model,d_model)\n",
    "        self.w_value = nn.Linear(d_model,d_model)\n",
    "        self.output_project = nn.Linear(d_model,d_model)\n",
    "\n",
    "    def attention(self,key,query,value,mask=None):\n",
    "        # calculate attenction score\n",
    "        # query = (BS,NH,S/T,HD) , key.transpose(-2,-1) = (BS,NH,HD,S/T)\n",
    "        # attention score size for encoder attention = (BS,NH,S,S) , decoder attention = (BS,NH,T,T), encoder-decoder attention = (BS,NH,T,S)\n",
    "        attenction_score = torch.matmul(query,key.transpose(-2,-1))/math.sqrt(self.head_dim)\n",
    "\n",
    "        # apply masking\n",
    "        if mask is not None:\n",
    "            attenction_score.masked_fill(mask==torch.tensor(False),float(\"-inf\"))\n",
    "\n",
    "        # pass through softmax layer\n",
    "        attention_weight = self.softmax_layer(attenction_score)\n",
    "\n",
    "        # multiply with value\n",
    "        # Final shape of score = (BS,NH,S/T,HD)\n",
    "        score = torch.matmul(attention_weight,value)\n",
    "        return score\n",
    "\n",
    "    def forward(self,key,query,value,mask=None):\n",
    "        batch_size = key.size()[0]\n",
    "\n",
    "        # dot product with weight matrices\n",
    "        # size of key/query/value = (BS,S/T,ED) ,\n",
    "        # where BS = batch size,\n",
    "        # S = Source Sequence length,\n",
    "        # T = target sequence lenth,\n",
    "        # ED = Embedding dimension,\n",
    "        # NH = Number Of Head\n",
    "        # HD = head dimension\n",
    "        key, query, value = self.w_key(key), self.w_query(query), self.w_value(value)\n",
    "\n",
    "        # split vector by number of head and transpose\n",
    "        # size of key/query/value = (BS,NH,S/T,HD) , where BS = batch size, NH = Number Of Head, ED = Head dimension\n",
    "        key = key.view(batch_size,-1,self.n_head,self.head_dim).transpose(1, 2)\n",
    "        query = query.view(batch_size,-1,self.n_head,self.head_dim).transpose(1, 2)\n",
    "        value = value.view(batch_size,-1,self.n_head,self.head_dim).transpose(1, 2)\n",
    "\n",
    "        # size of attention_score = (BS,NH,S/T,HD)\n",
    "        attention_score = self.attention(key,query,value,mask) # size - torch.Size([2, 4, 8, 64]) -> [batch_size, max_seq_len,n_head, head_dim]\n",
    "        attention_score = self.dropout(attention_score)\n",
    "        # concatenated output\n",
    "        attention_score = attention_score.transpose(1,2) # size = (BS,S/T,NH,HD)\n",
    "        attention_score = attention_score.reshape(batch_size,-1,self.head_dim*self.n_head) # size = (BS,S/T,ED)\n",
    "\n",
    "        # Pass through linear layer\n",
    "        attention_out = self.output_project(attention_score)\n",
    "        return attention_out\n",
    "\n",
    "def get_clone(module,num_copy):\n",
    "    return nn.ModuleList([copy.deepcopy(module) for _ in range(num_copy)])"
   ]
  },
  {
   "cell_type": "markdown",
   "metadata": {
    "id": "8b5f100b"
   },
   "source": [
    "## Position-wise Feed-Forward Networks"
   ]
  },
  {
   "cell_type": "code",
   "execution_count": 23,
   "metadata": {
    "execution": {
     "iopub.execute_input": "2023-12-10T11:11:18.543651Z",
     "iopub.status.busy": "2023-12-10T11:11:18.543387Z",
     "iopub.status.idle": "2023-12-10T11:11:18.556629Z",
     "shell.execute_reply": "2023-12-10T11:11:18.555815Z",
     "shell.execute_reply.started": "2023-12-10T11:11:18.543628Z"
    },
    "id": "5af1c46d",
    "trusted": true
   },
   "outputs": [],
   "source": [
    "class PositionWiseFeedForward(nn.Module):\n",
    "    def __init__(self,d_model=512, dropout_rate = 0.2) -> None:\n",
    "        super().__init__()\n",
    "        self.d_model = d_model\n",
    "        hidden_width = 4\n",
    "        self.dropout = nn.Dropout(p=dropout_rate)\n",
    "        self.linear1 = nn.Linear(d_model,d_model*hidden_width)\n",
    "        self.linear2 = nn.Linear(d_model*hidden_width, d_model)\n",
    "        self.relu = nn.ReLU()\n",
    "    def forward(self,x):\n",
    "        return self.linear2(self.dropout(self.relu(self.linear1(x))))\n"
   ]
  },
  {
   "cell_type": "markdown",
   "metadata": {
    "id": "23e5e790"
   },
   "source": [
    "## SubLayer"
   ]
  },
  {
   "cell_type": "code",
   "execution_count": 24,
   "metadata": {
    "execution": {
     "iopub.execute_input": "2023-12-10T11:11:18.557787Z",
     "iopub.status.busy": "2023-12-10T11:11:18.557530Z",
     "iopub.status.idle": "2023-12-10T11:11:18.570085Z",
     "shell.execute_reply": "2023-12-10T11:11:18.569233Z",
     "shell.execute_reply.started": "2023-12-10T11:11:18.557763Z"
    },
    "id": "34e84663",
    "trusted": true
   },
   "outputs": [],
   "source": [
    "class SubLayer(nn.Module):\n",
    "    def __init__(self,d_model = 512) -> None:\n",
    "        super(SubLayer,self).__init__()\n",
    "        self.norm = nn.LayerNorm(d_model)\n",
    "    def forward(self,x,sub_layer_x):\n",
    "        return self.norm(x + sub_layer_x)\n"
   ]
  },
  {
   "cell_type": "markdown",
   "metadata": {
    "id": "94944d04"
   },
   "source": [
    "## Encoder Layer"
   ]
  },
  {
   "cell_type": "markdown",
   "metadata": {
    "id": "a6844dd3"
   },
   "source": [
    "Encoder Layer has two sub layer. The first is a multi-head self-attention mechanism, and the second is a simple, position-wise fully connected feed-forward network."
   ]
  },
  {
   "cell_type": "code",
   "execution_count": 25,
   "metadata": {
    "execution": {
     "iopub.execute_input": "2023-12-10T11:11:18.571371Z",
     "iopub.status.busy": "2023-12-10T11:11:18.571139Z",
     "iopub.status.idle": "2023-12-10T11:11:18.581206Z",
     "shell.execute_reply": "2023-12-10T11:11:18.580424Z",
     "shell.execute_reply.started": "2023-12-10T11:11:18.571349Z"
    },
    "id": "49f20f31",
    "trusted": true
   },
   "outputs": [],
   "source": [
    "class EnocderLayer(nn.Module):\n",
    "    def __init__(self,d_model,multi_head_arttention_layer,position_wise_feedforward_layer, dropout_rate = 0.2) -> None:\n",
    "        super().__init__()\n",
    "        self.d_model = d_model\n",
    "\n",
    "        self.multi_head_arttention_layer = multi_head_arttention_layer\n",
    "        self.dropout1 = nn.Dropout(p=dropout_rate)\n",
    "        self.sublayer1 = SubLayer(d_model)\n",
    "\n",
    "        self.position_wise_feedforward_layer = position_wise_feedforward_layer\n",
    "        self.dropout2 = nn.Dropout(p=dropout_rate)\n",
    "        self.sublayer2 = SubLayer(d_model)\n",
    "    def forward(self,vec_representation,src_mask=None):\n",
    "        # compute self attention\n",
    "        attention_score =self.multi_head_arttention_layer(key = vec_representation,query = vec_representation,value = vec_representation,mask = src_mask)\n",
    "        attention_score = self.dropout1(attention_score)\n",
    "        # Layer Norm\n",
    "        attention_out = self.sublayer1(vec_representation,attention_score)\n",
    "\n",
    "        # pass Position Wise Feedforward Network\n",
    "        position_wise_feedforward_out = self.position_wise_feedforward_layer(attention_out)\n",
    "        position_wise_feedforward_out = self.dropout2(position_wise_feedforward_out)\n",
    "        # Layer Norm\n",
    "        encoder_out = self.sublayer2(attention_out,position_wise_feedforward_out)\n",
    "        return encoder_out"
   ]
  },
  {
   "cell_type": "markdown",
   "metadata": {
    "id": "dcc645bc"
   },
   "source": [
    "## Encoder"
   ]
  },
  {
   "cell_type": "code",
   "execution_count": 26,
   "metadata": {
    "execution": {
     "iopub.execute_input": "2023-12-10T11:11:18.582401Z",
     "iopub.status.busy": "2023-12-10T11:11:18.582173Z",
     "iopub.status.idle": "2023-12-10T11:11:18.591403Z",
     "shell.execute_reply": "2023-12-10T11:11:18.590619Z",
     "shell.execute_reply.started": "2023-12-10T11:11:18.582380Z"
    },
    "id": "85407c46",
    "trusted": true
   },
   "outputs": [],
   "source": [
    "class EncoderBlock(nn.Module):\n",
    "    def __init__(self,encoder_layer, num_layer = 6) -> None:\n",
    "        super().__init__()\n",
    "        self.encoder_layer = encoder_layer\n",
    "        self.encoder_layer_list = get_clone(self.encoder_layer,num_layer)\n",
    "\n",
    "    def forward(self,src_embedding,src_mask=None):\n",
    "        encoder_out = src_embedding\n",
    "        for encoder_layer in self.encoder_layer_list:\n",
    "            encoder_out = encoder_layer(encoder_out,src_mask)\n",
    "        return encoder_out\n"
   ]
  },
  {
   "cell_type": "markdown",
   "metadata": {
    "id": "04a4f040"
   },
   "source": [
    "## Decoder Layer"
   ]
  },
  {
   "cell_type": "code",
   "execution_count": 27,
   "metadata": {
    "execution": {
     "iopub.execute_input": "2023-12-10T11:11:18.592740Z",
     "iopub.status.busy": "2023-12-10T11:11:18.592453Z",
     "iopub.status.idle": "2023-12-10T11:11:18.604514Z",
     "shell.execute_reply": "2023-12-10T11:11:18.603598Z",
     "shell.execute_reply.started": "2023-12-10T11:11:18.592703Z"
    },
    "id": "bd8ffa22",
    "trusted": true
   },
   "outputs": [],
   "source": [
    "class DnocderLayer(nn.Module):\n",
    "    def __init__(self,d_model,multi_head_arttention_layer,position_wise_feedforward_layer,dropout_rate = 0.2) -> None:\n",
    "        super().__init__()\n",
    "        self.d_model = d_model\n",
    "        self.decoder_attention_layer = copy.deepcopy(multi_head_arttention_layer)\n",
    "        self.dropout1 = nn.Dropout(p=dropout_rate)\n",
    "        self.sublayer1 = SubLayer(d_model)\n",
    "\n",
    "        self.encoder_decoder_attention_layer = copy.deepcopy(multi_head_arttention_layer)\n",
    "        self.dropout2 = nn.Dropout(p=dropout_rate)\n",
    "        self.sublayer2 = SubLayer(d_model)\n",
    "\n",
    "        self.position_wise_feedforward_layer = position_wise_feedforward_layer\n",
    "        self.dropout3 = nn.Dropout(p=dropout_rate)\n",
    "        self.sublayer3 = SubLayer(d_model)\n",
    "\n",
    "    def forward(self,enc,dec,src_mask=None,target_mask=None):\n",
    "        decoder_attention_out = self.decoder_attention_layer(key = dec,query = dec,value = dec,mask = target_mask)\n",
    "        decoder_attention_out = self.dropout1(decoder_attention_out)\n",
    "        decoder_attention_out = self.sublayer1(dec,decoder_attention_out)\n",
    "\n",
    "        enc_dec_attention_out = self.encoder_decoder_attention_layer(key = enc,query = decoder_attention_out,value = enc,mask = src_mask)\n",
    "        enc_dec_attention_out = self.dropout2(enc_dec_attention_out)\n",
    "        enc_dec_attention_out = self.sublayer2(decoder_attention_out,enc_dec_attention_out)\n",
    "\n",
    "        ffn_out = self.position_wise_feedforward_layer(enc_dec_attention_out)\n",
    "        ffn_out = self.dropout2(ffn_out)\n",
    "        ffn_out = self.sublayer2(enc_dec_attention_out,ffn_out)\n",
    "\n",
    "        return ffn_out"
   ]
  },
  {
   "cell_type": "markdown",
   "metadata": {
    "id": "6c058863"
   },
   "source": [
    "## Decoder Block"
   ]
  },
  {
   "cell_type": "code",
   "execution_count": 28,
   "metadata": {
    "execution": {
     "iopub.execute_input": "2023-12-10T11:11:18.606573Z",
     "iopub.status.busy": "2023-12-10T11:11:18.605747Z",
     "iopub.status.idle": "2023-12-10T11:11:18.618041Z",
     "shell.execute_reply": "2023-12-10T11:11:18.617083Z",
     "shell.execute_reply.started": "2023-12-10T11:11:18.606545Z"
    },
    "id": "21c6f861",
    "trusted": true
   },
   "outputs": [],
   "source": [
    "class DecoderBlock(nn.Module):\n",
    "    def __init__(self,decoder_layer,num_layer = 6) -> None:\n",
    "        super().__init__()\n",
    "        self.decoder_layer = decoder_layer\n",
    "        self.decoder_layer_list = get_clone(self.decoder_layer,num_layer)\n",
    "        self.layer_norm = nn.LayerNorm(self.decoder_layer.d_model)\n",
    "\n",
    "    def forward(self,encoder_out_vec,decoder_embedding,src_mask=None,target_mask=None):\n",
    "        dec_out = decoder_embedding\n",
    "        for decoder_layer in self.decoder_layer_list:\n",
    "            dec_out = decoder_layer(enc = encoder_out_vec,dec = dec_out,src_mask = src_mask,target_mask = target_mask)\n",
    "        return dec_out"
   ]
  },
  {
   "cell_type": "code",
   "execution_count": 29,
   "metadata": {
    "execution": {
     "iopub.execute_input": "2023-12-10T11:11:18.623055Z",
     "iopub.status.busy": "2023-12-10T11:11:18.622769Z",
     "iopub.status.idle": "2023-12-10T11:11:18.631809Z",
     "shell.execute_reply": "2023-12-10T11:11:18.630886Z",
     "shell.execute_reply.started": "2023-12-10T11:11:18.623032Z"
    },
    "id": "89b8cc04",
    "trusted": true
   },
   "outputs": [],
   "source": [
    "class DecoderGenerator(nn.Module):\n",
    "    def __init__(self,d_model,target_vocab_size) -> None:\n",
    "        super().__init__()\n",
    "        self.linear = nn.Linear(d_model,target_vocab_size)\n",
    "        self.softmax_layer = nn.LogSoftmax(dim=-1)\n",
    "    def forward(self,target_vec_rep):\n",
    "        return self.softmax_layer(self.linear(target_vec_rep))"
   ]
  },
  {
   "cell_type": "markdown",
   "metadata": {
    "id": "374500db"
   },
   "source": [
    "## Tranformers Block"
   ]
  },
  {
   "cell_type": "code",
   "execution_count": 30,
   "metadata": {
    "execution": {
     "iopub.execute_input": "2023-12-10T11:11:18.633426Z",
     "iopub.status.busy": "2023-12-10T11:11:18.633151Z",
     "iopub.status.idle": "2023-12-10T11:11:18.645200Z",
     "shell.execute_reply": "2023-12-10T11:11:18.644288Z",
     "shell.execute_reply.started": "2023-12-10T11:11:18.633401Z"
    },
    "id": "2b801680",
    "trusted": true
   },
   "outputs": [],
   "source": [
    "class Transformers(nn.Module):\n",
    "    def __init__(self,src_seq_len,trg_seq_len,d_model,num_head,dropout_rate = 0.2) -> None:\n",
    "        super().__init__()\n",
    "        self.src_seq_len = src_seq_len\n",
    "        self.trg_seq_len = trg_seq_len\n",
    "        self.d_model = d_model\n",
    "        self.num_head = num_head\n",
    "\n",
    "        self.src_embedding = Embedding(self.src_seq_len,self.d_model)\n",
    "        self.src_pe = PositionalEncoding(self.src_seq_len,self.d_model)\n",
    "\n",
    "        self.trg_embedding = Embedding(self.trg_seq_len,self.d_model)\n",
    "        self.trg_pe = PositionalEncoding(self.trg_seq_len,self.d_model)\n",
    "\n",
    "        self.multi_head_attention = MultiHeadAttention(d_model,num_head,dropout_rate)\n",
    "        self.position_wise_feedforward = PositionWiseFeedForward(self.d_model,dropout_rate)\n",
    "\n",
    "        self.encoder_layer = EnocderLayer(d_model,self.multi_head_attention,self.position_wise_feedforward,dropout_rate)\n",
    "        self.decoder_layer = DnocderLayer(d_model,self.multi_head_attention,self.position_wise_feedforward,dropout_rate)\n",
    "\n",
    "        self.encoder_block = EncoderBlock(self.encoder_layer,num_layer=6)\n",
    "        self.decoder_block = DecoderBlock(self.decoder_layer,num_layer=6)\n",
    "        self.decoder_out_gen = DecoderGenerator(d_model,self.trg_seq_len)\n",
    "\n",
    "    def forward(self,src_token_id,target_token_id,src_mask=None,target_mask=None):\n",
    "        encode_out = self.encode(src_token_id,src_mask)\n",
    "        decode_out = self.decode(encode_out,target_token_id,src_mask,target_mask)\n",
    "        return decode_out\n",
    "\n",
    "    def encode(self,src_token_id,src_mask):\n",
    "        embed = self.src_embedding(src_token_id)\n",
    "        pe_out = self.src_pe(embed)\n",
    "        encoder_out = self.encoder_block(pe_out,src_mask)\n",
    "        return encoder_out\n",
    "\n",
    "    def decode(self,enc_out,trg_token_ids,src_mask=None,tagrget_mask=None):\n",
    "        embed = self.src_embedding(trg_token_ids)\n",
    "        pe_out = self.src_pe(embed)\n",
    "        decoder_out = self.decoder_block(enc_out,pe_out,src_mask,tagrget_mask)\n",
    "        decoder_out = self.decoder_out_gen(decoder_out)\n",
    "        return decoder_out\n"
   ]
  },
  {
   "cell_type": "code",
   "execution_count": 84,
   "metadata": {
    "execution": {
     "iopub.execute_input": "2023-12-10T13:55:48.439372Z",
     "iopub.status.busy": "2023-12-10T13:55:48.438984Z",
     "iopub.status.idle": "2023-12-10T13:55:48.446429Z",
     "shell.execute_reply": "2023-12-10T13:55:48.445553Z",
     "shell.execute_reply.started": "2023-12-10T13:55:48.439345Z"
    },
    "id": "GviXdH6EYcHA",
    "trusted": true
   },
   "outputs": [],
   "source": [
    "def get_src_mask(src_token_ids_batch,pad_tok_id):\n",
    "    batch_size = src_token_ids_batch.size()[0]\n",
    "    src_mask = (src_token_ids_batch!=pad_tok_id).view(batch_size, 1, 1,-1) #SIZE = (BS,1,1,S)\n",
    "    return src_mask\n",
    "def get_trg_mask(trg_token_ids_batch,pad_tok_id):\n",
    "    batch_size = trg_token_ids_batch.size()[0]\n",
    "    seq_len = trg_token_ids_batch.size()[1]\n",
    "    trg_pad_mask = (trg_token_ids_batch!=pad_tok_id).view(batch_size, 1, 1,-1) #SIZE = (BS,1,1,T)\n",
    "    trg_look_forward = torch.triu(torch.ones((1,1,seq_len,seq_len),dtype=torch.int16)).transpose(2,3).type(torch.bool)\n",
    "\n",
    "    trg_mask = trg_pad_mask & trg_look_forward\n",
    "    return trg_mask"
   ]
  },
  {
   "cell_type": "code",
   "execution_count": 85,
   "metadata": {
    "execution": {
     "iopub.execute_input": "2023-12-10T13:55:48.707148Z",
     "iopub.status.busy": "2023-12-10T13:55:48.706447Z",
     "iopub.status.idle": "2023-12-10T13:55:49.261706Z",
     "shell.execute_reply": "2023-12-10T13:55:49.260889Z",
     "shell.execute_reply.started": "2023-12-10T13:55:48.707113Z"
    },
    "id": "S_ZYgBsSzk-V",
    "trusted": true
   },
   "outputs": [],
   "source": [
    "#de_batch, en_batch\n",
    "src_voab_size = max(len(vocab_de.vocab),len(vocab_en.vocab))#30000#len(vocab_de.vocab)+10\n",
    "trg_vocab_size = max(len(vocab_de.vocab),len(vocab_en.vocab))#30000#len(vocab_en.vocab)+10\n",
    "model = Transformers(\n",
    "    src_seq_len = src_voab_size,\n",
    "    trg_seq_len = trg_vocab_size,\n",
    "    d_model = 512,\n",
    "    num_head = 8,\n",
    "    dropout_rate = 0.05\n",
    ")"
   ]
  },
  {
   "cell_type": "code",
   "execution_count": 86,
   "metadata": {
    "execution": {
     "iopub.execute_input": "2023-12-10T13:55:50.287298Z",
     "iopub.status.busy": "2023-12-10T13:55:50.286433Z",
     "iopub.status.idle": "2023-12-10T13:55:50.838659Z",
     "shell.execute_reply": "2023-12-10T13:55:50.837825Z",
     "shell.execute_reply.started": "2023-12-10T13:55:50.287261Z"
    },
    "trusted": true
   },
   "outputs": [],
   "source": [
    "for p in model.parameters():\n",
    "    if p.dim() > 1:\n",
    "        nn.init.xavier_uniform_(p)"
   ]
  },
  {
   "cell_type": "code",
   "execution_count": 87,
   "metadata": {
    "execution": {
     "iopub.execute_input": "2023-12-10T13:55:54.390465Z",
     "iopub.status.busy": "2023-12-10T13:55:54.389748Z",
     "iopub.status.idle": "2023-12-10T13:55:54.396416Z",
     "shell.execute_reply": "2023-12-10T13:55:54.395380Z",
     "shell.execute_reply.started": "2023-12-10T13:55:54.390432Z"
    },
    "trusted": true
   },
   "outputs": [
    {
     "data": {
      "text/plain": [
       "(25413, 19446)"
      ]
     },
     "execution_count": 87,
     "metadata": {},
     "output_type": "execute_result"
    }
   ],
   "source": [
    "len(vocab_de.vocab),len(vocab_en.vocab)"
   ]
  },
  {
   "cell_type": "code",
   "execution_count": 88,
   "metadata": {
    "execution": {
     "iopub.execute_input": "2023-12-10T13:55:55.630516Z",
     "iopub.status.busy": "2023-12-10T13:55:55.629830Z",
     "iopub.status.idle": "2023-12-10T13:55:55.637446Z",
     "shell.execute_reply": "2023-12-10T13:55:55.636438Z",
     "shell.execute_reply.started": "2023-12-10T13:55:55.630485Z"
    },
    "id": "rYWwtErb0saq",
    "outputId": "4f83f208-2fed-4e8c-b1ef-1990170738f0",
    "trusted": true
   },
   "outputs": [
    {
     "name": "stdout",
     "output_type": "stream",
     "text": [
      "The model has 88,456,005 trainable parameters\n"
     ]
    }
   ],
   "source": [
    "def count_parameters(model):\n",
    "    return sum(p.numel() for p in model.parameters() if p.requires_grad)\n",
    "print(f'The model has {count_parameters(model):,} trainable parameters')"
   ]
  },
  {
   "cell_type": "code",
   "execution_count": 89,
   "metadata": {
    "execution": {
     "iopub.execute_input": "2023-12-10T13:56:03.701083Z",
     "iopub.status.busy": "2023-12-10T13:56:03.700396Z",
     "iopub.status.idle": "2023-12-10T14:49:24.704559Z",
     "shell.execute_reply": "2023-12-10T14:49:24.703541Z",
     "shell.execute_reply.started": "2023-12-10T13:56:03.701046Z"
    },
    "id": "8XZ0NM3azZbr",
    "trusted": true
   },
   "outputs": [
    {
     "name": "stdout",
     "output_type": "stream",
     "text": [
      "step : 0.0 % , loss : 10.137059211730957\n",
      "step : 15.27 % , loss : 2.527031660079956\n",
      "step : 30.53 % , loss : 2.348515033721924\n",
      "step : 45.8 % , loss : 1.375995397567749\n",
      "step : 61.07 % , loss : 1.2328836917877197\n",
      "step : 76.34 % , loss : 1.0846625566482544\n",
      "step : 91.6 % , loss : 1.056598424911499\n",
      "----------------- 2.0718758845147285 --------- 1.364669770410616 ----\n",
      "step : 0.0 % , loss : 1.385873794555664\n",
      "step : 15.27 % , loss : 1.823289394378662\n",
      "step : 30.53 % , loss : 1.1141082048416138\n",
      "step : 45.8 % , loss : 1.1335809230804443\n",
      "step : 61.07 % , loss : 0.9676639437675476\n",
      "step : 76.34 % , loss : 0.6266230940818787\n",
      "step : 91.6 % , loss : 0.8079640865325928\n",
      "----------------- 0.9954308292792954 --------- 0.653301819546582 ----\n",
      "step : 0.0 % , loss : 0.7268496751785278\n",
      "step : 15.27 % , loss : 0.6736799478530884\n",
      "step : 30.53 % , loss : 0.6073668599128723\n",
      "step : 45.8 % , loss : 0.3806842863559723\n",
      "step : 61.07 % , loss : 0.38324010372161865\n",
      "step : 76.34 % , loss : 0.4289551079273224\n",
      "step : 91.6 % , loss : 0.4567752778530121\n",
      "----------------- 0.4979816199486492 --------- 0.37123809550722986 ----\n",
      "step : 0.0 % , loss : 0.40338051319122314\n",
      "step : 15.27 % , loss : 0.3115820288658142\n",
      "step : 30.53 % , loss : 0.333244264125824\n",
      "step : 45.8 % , loss : 0.37005388736724854\n",
      "step : 61.07 % , loss : 0.2931908369064331\n",
      "step : 76.34 % , loss : 0.3731405436992645\n",
      "step : 91.6 % , loss : 0.26289838552474976\n",
      "----------------- 0.31646371240379245 --------- 0.2597951686953845 ----\n",
      "step : 0.0 % , loss : 0.2627284824848175\n",
      "step : 15.27 % , loss : 0.33511248230934143\n",
      "step : 30.53 % , loss : 0.16899238526821136\n",
      "step : 45.8 % , loss : 0.23992374539375305\n",
      "step : 61.07 % , loss : 0.26888298988342285\n",
      "step : 76.34 % , loss : 0.1732470840215683\n",
      "step : 91.6 % , loss : 0.18539229035377502\n",
      "----------------- 0.2219561147098323 --------- 0.1948282170581491 ----\n",
      "step : 0.0 % , loss : 0.1240898072719574\n",
      "step : 15.27 % , loss : 0.18885983526706696\n",
      "step : 30.53 % , loss : 0.18200521171092987\n",
      "step : 45.8 % , loss : 0.1728898286819458\n",
      "step : 61.07 % , loss : 0.1465235948562622\n",
      "step : 76.34 % , loss : 0.12984468042850494\n",
      "step : 91.6 % , loss : 0.16159173846244812\n",
      "----------------- 0.16827189764221206 --------- 0.16078266409570224 ----\n",
      "step : 0.0 % , loss : 0.12990067899227142\n",
      "step : 15.27 % , loss : 0.10576900839805603\n",
      "step : 30.53 % , loss : 0.15714985132217407\n",
      "step : 45.8 % , loss : 0.1431666612625122\n",
      "step : 61.07 % , loss : 0.1417028307914734\n",
      "step : 76.34 % , loss : 0.16083703935146332\n",
      "step : 91.6 % , loss : 0.16913022100925446\n",
      "----------------- 0.13371210068691777 --------- 0.13423021525552828 ----\n",
      "step : 0.0 % , loss : 0.14366388320922852\n",
      "step : 15.27 % , loss : 0.11391907930374146\n",
      "step : 30.53 % , loss : 0.0788469985127449\n",
      "step : 45.8 % , loss : 0.1409016251564026\n",
      "step : 61.07 % , loss : 0.1344446837902069\n",
      "step : 76.34 % , loss : 0.13850240409374237\n",
      "step : 91.6 % , loss : 0.17713123559951782\n",
      "----------------- 0.10967832422665967 --------- 0.11198566711112244 ----\n",
      "step : 0.0 % , loss : 0.09724333137273788\n",
      "step : 15.27 % , loss : 0.09233208745718002\n",
      "step : 30.53 % , loss : 0.16360622644424438\n",
      "step : 45.8 % , loss : 0.10631006211042404\n",
      "step : 61.07 % , loss : 0.115147665143013\n",
      "step : 76.34 % , loss : 0.12223509699106216\n",
      "step : 91.6 % , loss : 0.0713396966457367\n",
      "----------------- 0.08956119056990128 --------- 0.10011370296347631 ----\n",
      "step : 0.0 % , loss : 0.05937699228525162\n",
      "step : 15.27 % , loss : 0.07462996989488602\n",
      "step : 30.53 % , loss : 0.08308286219835281\n",
      "step : 45.8 % , loss : 0.06574208289384842\n",
      "step : 61.07 % , loss : 0.07579203695058823\n",
      "step : 76.34 % , loss : 0.11139911413192749\n",
      "step : 91.6 % , loss : 0.08871675282716751\n",
      "----------------- 0.07482932080223247 --------- 0.09053404052575974 ----\n"
     ]
    }
   ],
   "source": [
    "import warnings\n",
    "warnings.filterwarnings(\"ignore\")\n",
    "\n",
    "DEVICE = torch.device('cuda' if torch.cuda.is_available() else 'cpu')\n",
    "# DEVICE = 'cpu'\n",
    "model = model.to(DEVICE)\n",
    "loss_fn = torch.nn.CrossEntropyLoss()#ignore_index=PAD_IDX\n",
    "\n",
    "optimizer = torch.optim.Adam(model.parameters(), lr=0.0001, betas=(0.9, 0.98), eps=1e-9)\n",
    "def train(model,optimizer,train_iter):#src_batch,trg_batch\n",
    "    epoch_loss = 0\n",
    "    model.train()\n",
    "    for ind, (src_batch,trg_batch) in enumerate(train_iter):\n",
    "        src_batch = src_batch.T\n",
    "        trg_batch = trg_batch.T\n",
    "        trg_token_ids_batch_input = trg_batch[:,:-1]\n",
    "\n",
    "        src_mask = get_src_mask(src_batch,PAD_IDX)\n",
    "        trg_mask = get_trg_mask(trg_token_ids_batch_input,PAD_IDX)\n",
    "        try:\n",
    "            optimizer.zero_grad()\n",
    "            output = model(src_batch.to(DEVICE), trg_token_ids_batch_input.to(DEVICE),src_mask.to(DEVICE),trg_mask.to(DEVICE))\n",
    "\n",
    "            output_reshape = output.contiguous().view(-1, output.shape[-1])\n",
    "            trg = trg_batch[:, 1:].contiguous().view(-1)\n",
    "\n",
    "            loss = loss_fn(output_reshape, trg.to(DEVICE))\n",
    "            loss.backward()\n",
    "            torch.nn.utils.clip_grad_norm_(model.parameters(), 0.1)\n",
    "\n",
    "            optimizer.step()\n",
    "            epoch_loss += loss.item()\n",
    "            if ind%100==0:\n",
    "                print('step :', round((ind / len(train_iter)) * 100, 2), '% , loss :', loss.item())\n",
    "        except:\n",
    "            print(src_batch.size(), trg_token_ids_batch_input.size())\n",
    "    return epoch_loss / len(train_iter)\n",
    "\n",
    "def evaluate(model,val_iter):\n",
    "    model.eval()\n",
    "    losses = 0\n",
    "    for ind, (src_batch,trg_batch) in enumerate(val_iter):\n",
    "        src_batch = src_batch.T\n",
    "        trg_batch = trg_batch.T\n",
    "        trg_token_ids_batch_input = trg_batch[:,:-1]\n",
    "\n",
    "        src_mask = get_src_mask(src_batch,PAD_IDX)\n",
    "        trg_mask = get_trg_mask(trg_token_ids_batch_input,PAD_IDX)\n",
    "        output = model(src_batch.to(DEVICE), trg_token_ids_batch_input.to(DEVICE),src_mask.to(DEVICE),trg_mask.to(DEVICE))\n",
    "\n",
    "        output_reshape = output.contiguous().view(-1, output.shape[-1])\n",
    "        trg = trg_batch[:, 1:].contiguous().view(-1)\n",
    "\n",
    "        loss = loss_fn(output_reshape, trg.to(DEVICE))\n",
    "        losses += loss.item()\n",
    "    return losses/len(val_iter)\n",
    "train_loss = []\n",
    "val_loss = []\n",
    "for ep in range(10):\n",
    "    ep_loss = train(model,optimizer,train_iter)\n",
    "    v_loss = evaluate(model,val_iter)\n",
    "    print('-----------------',ep_loss,'---------',v_loss,'----')"
   ]
  },
  {
   "cell_type": "code",
   "execution_count": null,
   "metadata": {
    "id": "WwprnAbLzZej",
    "trusted": true
   },
   "outputs": [],
   "source": [
    "predicted_log_distributions = baseline_transformer(src_token_ids_batch, trg_token_ids_batch_input, src_mask, trg_mask)\n"
   ]
  },
  {
   "cell_type": "code",
   "execution_count": 90,
   "metadata": {
    "execution": {
     "iopub.execute_input": "2023-12-10T15:07:13.651393Z",
     "iopub.status.busy": "2023-12-10T15:07:13.650672Z",
     "iopub.status.idle": "2023-12-10T15:07:13.968298Z",
     "shell.execute_reply": "2023-12-10T15:07:13.967452Z",
     "shell.execute_reply.started": "2023-12-10T15:07:13.651356Z"
    },
    "trusted": true
   },
   "outputs": [],
   "source": [
    "model.eval()\n",
    "losses = 0\n",
    "for ind, (src_batch,trg_batch) in enumerate(val_iter):\n",
    "    src_batch = src_batch.T\n",
    "    trg_batch = trg_batch.T\n",
    "    trg_token_ids_batch_input = trg_batch[:,:-1]\n",
    "\n",
    "    src_mask = get_src_mask(src_batch,PAD_IDX)\n",
    "    trg_mask = get_trg_mask(trg_token_ids_batch_input,PAD_IDX)\n",
    "    output = model(src_batch.to(DEVICE), trg_token_ids_batch_input.to(DEVICE),src_mask.to(DEVICE),trg_mask.to(DEVICE))\n",
    "\n",
    "    output_reshape = output.contiguous().view(-1, output.shape[-1])\n",
    "    trg = trg_batch[:, 1:].contiguous().view(-1)\n",
    "\n",
    "    loss = loss_fn(output_reshape, trg.to(DEVICE))\n",
    "    losses += loss.item()\n",
    "    break"
   ]
  },
  {
   "cell_type": "code",
   "execution_count": 91,
   "metadata": {
    "execution": {
     "iopub.execute_input": "2023-12-10T15:07:15.470106Z",
     "iopub.status.busy": "2023-12-10T15:07:15.469722Z",
     "iopub.status.idle": "2023-12-10T15:07:15.476213Z",
     "shell.execute_reply": "2023-12-10T15:07:15.475293Z",
     "shell.execute_reply.started": "2023-12-10T15:07:15.470072Z"
    },
    "trusted": true
   },
   "outputs": [
    {
     "data": {
      "text/plain": [
       "(torch.Size([6784]), torch.Size([6784, 25413]))"
      ]
     },
     "execution_count": 91,
     "metadata": {},
     "output_type": "execute_result"
    }
   ],
   "source": [
    "trg.shape,output_reshape.shape"
   ]
  },
  {
   "cell_type": "code",
   "execution_count": 92,
   "metadata": {
    "execution": {
     "iopub.execute_input": "2023-12-10T15:07:16.767199Z",
     "iopub.status.busy": "2023-12-10T15:07:16.766503Z",
     "iopub.status.idle": "2023-12-10T15:07:16.775961Z",
     "shell.execute_reply": "2023-12-10T15:07:16.774895Z",
     "shell.execute_reply.started": "2023-12-10T15:07:16.767162Z"
    },
    "trusted": true
   },
   "outputs": [
    {
     "data": {
      "text/plain": [
       "tensor([95,  5, 29,  ...,  1,  1,  1], device='cuda:0')"
      ]
     },
     "execution_count": 92,
     "metadata": {},
     "output_type": "execute_result"
    }
   ],
   "source": [
    "_,tok_id = torch.max(output_reshape,dim=1)\n",
    "tok_id"
   ]
  },
  {
   "cell_type": "code",
   "execution_count": 93,
   "metadata": {
    "execution": {
     "iopub.execute_input": "2023-12-10T15:07:21.878373Z",
     "iopub.status.busy": "2023-12-10T15:07:21.877997Z",
     "iopub.status.idle": "2023-12-10T15:07:21.886381Z",
     "shell.execute_reply": "2023-12-10T15:07:21.885510Z",
     "shell.execute_reply.started": "2023-12-10T15:07:21.878347Z"
    },
    "trusted": true
   },
   "outputs": [
    {
     "data": {
      "text/plain": [
       "(tensor([  95,    5,   29,  194,   40,   12, 2304,    4,    3,    1,    1,    1,\n",
       "            1,    1,    1,    1,    1,    1,    1,    1,    1,    1,    1,    1,\n",
       "            1,    1], device='cuda:0'),\n",
       " tensor([   2,   95,    5,   29,  194,   40,   12, 2304,    4,    3,    1,    1,\n",
       "            1,    1,    1,    1,    1,    1,    1,    1,    1,    1,    1,    1,\n",
       "            1,    1,    1,    1,    1,    1,    1,    1,    1,    1,    1,    1,\n",
       "            1,    1,    1,    1,    1,    1,    1,    1,    1,    1,    1,    1,\n",
       "            1,    1,    1,    1,    1]))"
      ]
     },
     "execution_count": 93,
     "metadata": {},
     "output_type": "execute_result"
    }
   ],
   "source": [
    "tok_id[:26],trg_token_ids_batch_input[0]"
   ]
  },
  {
   "cell_type": "code",
   "execution_count": 61,
   "metadata": {
    "execution": {
     "iopub.execute_input": "2023-12-10T12:20:43.652499Z",
     "iopub.status.busy": "2023-12-10T12:20:43.652133Z",
     "iopub.status.idle": "2023-12-10T12:20:43.659597Z",
     "shell.execute_reply": "2023-12-10T12:20:43.658621Z",
     "shell.execute_reply.started": "2023-12-10T12:20:43.652462Z"
    },
    "trusted": true
   },
   "outputs": [
    {
     "data": {
      "text/plain": [
       "(torch.Size([128, 25]),\n",
       " torch.Size([128, 25, 25413]),\n",
       " torch.Size([3200, 25413]),\n",
       " torch.Size([3200]))"
      ]
     },
     "execution_count": 61,
     "metadata": {},
     "output_type": "execute_result"
    }
   ],
   "source": [
    "trg_token_ids_batch_input.size(),output.size(),output_reshape.size(),trg.size()"
   ]
  },
  {
   "cell_type": "code",
   "execution_count": 78,
   "metadata": {
    "execution": {
     "iopub.execute_input": "2023-12-10T12:44:32.486278Z",
     "iopub.status.busy": "2023-12-10T12:44:32.485876Z",
     "iopub.status.idle": "2023-12-10T12:44:33.329280Z",
     "shell.execute_reply": "2023-12-10T12:44:33.328434Z",
     "shell.execute_reply.started": "2023-12-10T12:44:32.486248Z"
    },
    "id": "CXNFmmFWGcgp",
    "trusted": true
   },
   "outputs": [],
   "source": [
    "torch.save(model, 'transformer.pt')"
   ]
  },
  {
   "cell_type": "code",
   "execution_count": 62,
   "metadata": {
    "execution": {
     "iopub.execute_input": "2023-12-10T04:40:13.172916Z",
     "iopub.status.busy": "2023-12-10T04:40:13.172324Z",
     "iopub.status.idle": "2023-12-10T04:40:13.178435Z",
     "shell.execute_reply": "2023-12-10T04:40:13.177698Z",
     "shell.execute_reply.started": "2023-12-10T04:40:13.172883Z"
    },
    "trusted": true
   },
   "outputs": [
    {
     "data": {
      "text/plain": [
       "1031"
      ]
     },
     "execution_count": 62,
     "metadata": {},
     "output_type": "execute_result"
    }
   ],
   "source": [
    "vocab_en['questions']"
   ]
  },
  {
   "cell_type": "code",
   "execution_count": 190,
   "metadata": {
    "execution": {
     "iopub.execute_input": "2023-12-10T07:41:25.487920Z",
     "iopub.status.busy": "2023-12-10T07:41:25.486994Z",
     "iopub.status.idle": "2023-12-10T07:41:25.506973Z",
     "shell.execute_reply": "2023-12-10T07:41:25.505857Z",
     "shell.execute_reply.started": "2023-12-10T07:41:25.487881Z"
    },
    "trusted": true
   },
   "outputs": [],
   "source": [
    "text = 'Well, perhaps we could just talk for a couple of minutes'\n",
    "en_t = torch.tensor([vocab_en[v] for v in toktok_tokennizer.tokenize(text)],dtype=torch.long)\n",
    "src_ten = torch.cat([torch.tensor([BOS_IDX]), en_t, torch.tensor([EOS_IDX])], dim=0).view(1, -1)\n",
    "num_tokens = src_ten.shape[0]\n",
    "src_mask = get_src_mask(src_ten,PAD_IDX)\n",
    "encode_out = model.encode(src_ten.to(DEVICE),src_mask.to(DEVICE))"
   ]
  },
  {
   "cell_type": "code",
   "execution_count": 191,
   "metadata": {
    "execution": {
     "iopub.execute_input": "2023-12-10T07:41:27.247526Z",
     "iopub.status.busy": "2023-12-10T07:41:27.246652Z",
     "iopub.status.idle": "2023-12-10T07:41:27.265954Z",
     "shell.execute_reply": "2023-12-10T07:41:27.265074Z",
     "shell.execute_reply.started": "2023-12-10T07:41:27.247489Z"
    },
    "trusted": true
   },
   "outputs": [],
   "source": [
    "# UNK_IDX, PAD_IDX, BOS_IDX, EOS_IDX\n",
    "\n",
    "trg_st = torch.ones(1,1).fill_(BOS_IDX).type(torch.long)\n",
    "trg_msk = get_trg_mask(trg_st,PAD_IDX)\n",
    "trg_msk\n",
    "out = model.decode(encode_out.to(DEVICE),trg_st.to(DEVICE),src_mask.to(DEVICE),trg_msk.to(DEVICE))"
   ]
  },
  {
   "cell_type": "code",
   "execution_count": 195,
   "metadata": {
    "execution": {
     "iopub.execute_input": "2023-12-10T07:41:50.162274Z",
     "iopub.status.busy": "2023-12-10T07:41:50.161349Z",
     "iopub.status.idle": "2023-12-10T07:41:50.170428Z",
     "shell.execute_reply": "2023-12-10T07:41:50.169249Z",
     "shell.execute_reply.started": "2023-12-10T07:41:50.162232Z"
    },
    "trusted": true
   },
   "outputs": [
    {
     "data": {
      "text/plain": [
       "tensor(-17.6853, device='cuda:0', grad_fn=<MinBackward1>)"
      ]
     },
     "execution_count": 195,
     "metadata": {},
     "output_type": "execute_result"
    }
   ],
   "source": [
    "out.min()"
   ]
  },
  {
   "cell_type": "code",
   "execution_count": 103,
   "metadata": {
    "execution": {
     "iopub.execute_input": "2023-12-10T05:02:57.651318Z",
     "iopub.status.busy": "2023-12-10T05:02:57.650948Z",
     "iopub.status.idle": "2023-12-10T05:02:57.659843Z",
     "shell.execute_reply": "2023-12-10T05:02:57.658961Z",
     "shell.execute_reply.started": "2023-12-10T05:02:57.651289Z"
    },
    "trusted": true
   },
   "outputs": [
    {
     "name": "stdout",
     "output_type": "stream",
     "text": [
      "torch.Size([1, 1, 25512])\n"
     ]
    },
    {
     "data": {
      "text/plain": [
       "5"
      ]
     },
     "execution_count": 103,
     "metadata": {},
     "output_type": "execute_result"
    }
   ],
   "source": [
    "print(out.size())\n",
    "_, next_word = torch.max(out, dim = 2)\n",
    "next_word.item()\n"
   ]
  },
  {
   "cell_type": "code",
   "execution_count": 107,
   "metadata": {
    "execution": {
     "iopub.execute_input": "2023-12-10T05:20:18.476645Z",
     "iopub.status.busy": "2023-12-10T05:20:18.475531Z",
     "iopub.status.idle": "2023-12-10T05:20:18.506127Z",
     "shell.execute_reply": "2023-12-10T05:20:18.505251Z",
     "shell.execute_reply.started": "2023-12-10T05:20:18.476602Z"
    },
    "trusted": true
   },
   "outputs": [
    {
     "data": {
      "text/plain": [
       "torch.return_types.max(\n",
       "values=tensor(26),\n",
       "indices=tensor(1))"
      ]
     },
     "execution_count": 107,
     "metadata": {},
     "output_type": "execute_result"
    }
   ],
   "source": [
    "torch.max(torch.tensor([1,26,3]), dim = 0)"
   ]
  },
  {
   "cell_type": "code",
   "execution_count": 96,
   "metadata": {
    "execution": {
     "iopub.execute_input": "2023-12-10T05:01:22.735197Z",
     "iopub.status.busy": "2023-12-10T05:01:22.734144Z",
     "iopub.status.idle": "2023-12-10T05:01:22.741001Z",
     "shell.execute_reply": "2023-12-10T05:01:22.740137Z",
     "shell.execute_reply.started": "2023-12-10T05:01:22.735156Z"
    },
    "trusted": true
   },
   "outputs": [
    {
     "data": {
      "text/plain": [
       "'है'"
      ]
     },
     "execution_count": 96,
     "metadata": {},
     "output_type": "execute_result"
    }
   ],
   "source": [
    "vocab_de.lookup_token(5)"
   ]
  },
  {
   "cell_type": "code",
   "execution_count": 104,
   "metadata": {
    "execution": {
     "iopub.execute_input": "2023-12-10T05:03:27.014910Z",
     "iopub.status.busy": "2023-12-10T05:03:27.014565Z",
     "iopub.status.idle": "2023-12-10T05:03:27.020855Z",
     "shell.execute_reply": "2023-12-10T05:03:27.019991Z",
     "shell.execute_reply.started": "2023-12-10T05:03:27.014883Z"
    },
    "trusted": true
   },
   "outputs": [
    {
     "data": {
      "text/plain": [
       "3"
      ]
     },
     "execution_count": 104,
     "metadata": {},
     "output_type": "execute_result"
    }
   ],
   "source": [
    "vocab_de"
   ]
  },
  {
   "cell_type": "code",
   "execution_count": 95,
   "metadata": {
    "execution": {
     "iopub.execute_input": "2023-12-10T15:07:56.796883Z",
     "iopub.status.busy": "2023-12-10T15:07:56.796501Z",
     "iopub.status.idle": "2023-12-10T15:07:56.875192Z",
     "shell.execute_reply": "2023-12-10T15:07:56.874256Z",
     "shell.execute_reply.started": "2023-12-10T15:07:56.796833Z"
    },
    "trusted": true
   },
   "outputs": [
    {
     "name": "stdout",
     "output_type": "stream",
     "text": [
      "src tensor tensor([[  2, 330,   3,   1,   1]])\n",
      "all trg torch.Size([1, 1, 1, 1]) torch.Size([1, 1]) tensor([[2]]) tensor([[[[True]]]])\n",
      "out torch.Size([1, 1, 25413])\n",
      "tensor([[2, 3]])\n",
      "all trg torch.Size([1, 1, 2, 2]) torch.Size([1, 2]) tensor([[2, 3]]) tensor([[[[ True, False],\n",
      "          [ True,  True]]]])\n",
      "out torch.Size([1, 2, 25413])\n",
      "tensor([[2, 3, 1]])\n",
      "all trg torch.Size([1, 1, 3, 3]) torch.Size([1, 3]) tensor([[2, 3, 1]]) tensor([[[[ True, False, False],\n",
      "          [ True,  True, False],\n",
      "          [ True,  True, False]]]])\n",
      "out torch.Size([1, 3, 25413])\n",
      "tensor([[2, 3, 1, 1]])\n",
      "all trg torch.Size([1, 1, 4, 4]) torch.Size([1, 4]) tensor([[2, 3, 1, 1]]) tensor([[[[ True, False, False, False],\n",
      "          [ True,  True, False, False],\n",
      "          [ True,  True, False, False],\n",
      "          [ True,  True, False, False]]]])\n",
      "out torch.Size([1, 4, 25413])\n",
      "tensor([[2, 3, 1, 1, 1]])\n",
      "all trg torch.Size([1, 1, 5, 5]) torch.Size([1, 5]) tensor([[2, 3, 1, 1, 1]]) tensor([[[[ True, False, False, False, False],\n",
      "          [ True,  True, False, False, False],\n",
      "          [ True,  True, False, False, False],\n",
      "          [ True,  True, False, False, False],\n",
      "          [ True,  True, False, False, False]]]])\n",
      "out torch.Size([1, 5, 25413])\n",
      "tensor([[2, 3, 1, 1, 1, 1]])\n",
      "tensor([[2, 3, 1, 1, 1, 1]])\n"
     ]
    }
   ],
   "source": [
    "zz=0\n",
    "def greedy_decode(model, src_tensor, max_len, start_symbol):\n",
    "    src_mask = get_src_mask(src_tensor,PAD_IDX)\n",
    "    encode_out = model.encode(src_tensor.to(DEVICE),src_mask.to(DEVICE))\n",
    "#     print('encode_out',encode_out)\n",
    "    trg_tensor = torch.ones(1,1).fill_(BOS_IDX).type(torch.long)\n",
    "    global zz\n",
    "    ind_=0\n",
    "    for _ in range(max_len):\n",
    "        trg_mask = get_trg_mask(trg_tensor,PAD_IDX)\n",
    "        print('all trg',trg_mask.size(),trg_tensor.size(),trg_tensor,trg_mask)\n",
    "        out = model.decode(encode_out.to(DEVICE),trg_tensor.to(DEVICE),src_mask.to(DEVICE),trg_mask.to(DEVICE))\n",
    "        print('out',out.size())\n",
    "        if ind_==0:\n",
    "            zz = out\n",
    "        ind_+=1\n",
    "        _, next_word_id = torch.max(out[:,-1,:], dim = 1)\n",
    "        next_word_id = next_word_id.item()\n",
    "        trg_tensor = torch.cat([trg_tensor,torch.ones(1,1).fill_(next_word_id)], dim=-1).type(torch.long)\n",
    "        print(trg_tensor)\n",
    "    print(trg_tensor)\n",
    "    return trg_tensor\n",
    "        \n",
    "def translation(text,model):\n",
    "    model.eval()\n",
    "    en_t = torch.tensor([vocab_en[v] for v in toktok_tokennizer.tokenize(text)],dtype=torch.long)\n",
    "    src_tensor = torch.cat([torch.tensor([BOS_IDX]), en_t, torch.tensor([EOS_IDX]),\n",
    "                           torch.tensor([PAD_IDX]),\n",
    "                           torch.tensor([PAD_IDX])], dim=0).view(1, -1)\n",
    "    max_len = 5\n",
    "    print('src tensor',src_tensor)\n",
    "    trg_tensor = greedy_decode(model, src_tensor, max_len, BOS_IDX)\n",
    "    return trg_tensor\n",
    "text = 'hi'.lower()\n",
    "z = translation(text,model)"
   ]
  },
  {
   "cell_type": "code",
   "execution_count": 82,
   "metadata": {
    "execution": {
     "iopub.execute_input": "2023-12-10T12:54:03.753595Z",
     "iopub.status.busy": "2023-12-10T12:54:03.752960Z",
     "iopub.status.idle": "2023-12-10T12:54:03.763023Z",
     "shell.execute_reply": "2023-12-10T12:54:03.762121Z",
     "shell.execute_reply.started": "2023-12-10T12:54:03.753564Z"
    },
    "trusted": true
   },
   "outputs": [
    {
     "data": {
      "text/plain": [
       "tensor([[[ 859,  435, 1078,  ..., 1739, 1545,    3]]], device='cuda:0')"
      ]
     },
     "execution_count": 82,
     "metadata": {},
     "output_type": "execute_result"
    }
   ],
   "source": [
    "torch.argsort(zz)"
   ]
  },
  {
   "cell_type": "code",
   "execution_count": 83,
   "metadata": {
    "execution": {
     "iopub.execute_input": "2023-12-10T12:55:11.437122Z",
     "iopub.status.busy": "2023-12-10T12:55:11.436099Z",
     "iopub.status.idle": "2023-12-10T12:55:11.442945Z",
     "shell.execute_reply": "2023-12-10T12:55:11.442013Z",
     "shell.execute_reply.started": "2023-12-10T12:55:11.437079Z"
    },
    "trusted": true
   },
   "outputs": [
    {
     "data": {
      "text/plain": [
       "['देखता']"
      ]
     },
     "execution_count": 83,
     "metadata": {},
     "output_type": "execute_result"
    }
   ],
   "source": [
    "vocab_de.lookup_tokens([1545])"
   ]
  },
  {
   "cell_type": "code",
   "execution_count": null,
   "metadata": {},
   "outputs": [],
   "source": [
    "num_of_trg_tokens = len(target_sentences_tokens[0])\n",
    "predicted_log_distributions = predicted_log_distributions[num_of_trg_tokens-1::num_of_trg_tokens]"
   ]
  },
  {
   "cell_type": "code",
   "execution_count": 143,
   "metadata": {
    "execution": {
     "iopub.execute_input": "2023-12-10T06:13:22.831202Z",
     "iopub.status.busy": "2023-12-10T06:13:22.830838Z",
     "iopub.status.idle": "2023-12-10T06:13:22.838586Z",
     "shell.execute_reply": "2023-12-10T06:13:22.837660Z",
     "shell.execute_reply.started": "2023-12-10T06:13:22.831172Z"
    },
    "trusted": true
   },
   "outputs": [
    {
     "data": {
      "text/plain": [
       "tensor([[[0.0123, 0.9426, 0.9559,  ..., 0.7820, 0.7218, 0.6256]]])"
      ]
     },
     "execution_count": 143,
     "metadata": {},
     "output_type": "execute_result"
    }
   ],
   "source": [
    "p = torch.rand([1, 1, 25512])\n",
    "p"
   ]
  },
  {
   "cell_type": "code",
   "execution_count": 145,
   "metadata": {
    "execution": {
     "iopub.execute_input": "2023-12-10T06:13:48.974211Z",
     "iopub.status.busy": "2023-12-10T06:13:48.973872Z",
     "iopub.status.idle": "2023-12-10T06:13:48.981978Z",
     "shell.execute_reply": "2023-12-10T06:13:48.981076Z",
     "shell.execute_reply.started": "2023-12-10T06:13:48.974185Z"
    },
    "trusted": true
   },
   "outputs": [
    {
     "data": {
      "text/plain": [
       "torch.return_types.max(\n",
       "values=tensor([0.9998]),\n",
       "indices=tensor([8649]))"
      ]
     },
     "execution_count": 145,
     "metadata": {},
     "output_type": "execute_result"
    }
   ],
   "source": [
    "torch.max(p[:,-1,:],dim=1)"
   ]
  },
  {
   "cell_type": "code",
   "execution_count": 120,
   "metadata": {
    "execution": {
     "iopub.execute_input": "2023-12-10T06:05:27.787915Z",
     "iopub.status.busy": "2023-12-10T06:05:27.787523Z",
     "iopub.status.idle": "2023-12-10T06:05:27.796430Z",
     "shell.execute_reply": "2023-12-10T06:05:27.795496Z",
     "shell.execute_reply.started": "2023-12-10T06:05:27.787883Z"
    },
    "trusted": true
   },
   "outputs": [
    {
     "data": {
      "text/plain": [
       "tensor([[[0.4540, 0.3935, 0.0110,  ..., 0.8049, 0.8889, 0.5214],\n",
       "         [0.7958, 0.9438, 0.6087,  ..., 0.8676, 0.5913, 0.4120]]])"
      ]
     },
     "execution_count": 120,
     "metadata": {},
     "output_type": "execute_result"
    }
   ],
   "source": [
    "torch.rand([1, 2, 25512])[1-1::num_of_trg_tokens]\n",
    " torch.tensor([[trg_field_processor.vocab.stoi[tokens[0]]] for tokens in target_sentences_tokens], device=device)"
   ]
  },
  {
   "cell_type": "code",
   "execution_count": 117,
   "metadata": {
    "execution": {
     "iopub.execute_input": "2023-12-10T06:02:28.015025Z",
     "iopub.status.busy": "2023-12-10T06:02:28.014621Z",
     "iopub.status.idle": "2023-12-10T06:02:28.020794Z",
     "shell.execute_reply": "2023-12-10T06:02:28.019929Z",
     "shell.execute_reply.started": "2023-12-10T06:02:28.014994Z"
    },
    "trusted": true
   },
   "outputs": [
    {
     "data": {
      "text/plain": [
       "torch.Size([1, 1, 25512])"
      ]
     },
     "execution_count": 117,
     "metadata": {},
     "output_type": "execute_result"
    }
   ],
   "source": [
    "out.shape"
   ]
  },
  {
   "cell_type": "code",
   "execution_count": null,
   "metadata": {
    "id": "-WoQZ2X3qx1B",
    "outputId": "640d408f-e9df-465f-dcaa-21c0c2047e4d",
    "trusted": true
   },
   "outputs": [],
   "source": [
    "def greedy_decode(model, src, src_mask, max_len, start_symbol):\n",
    "    src = src.to(DEVICE)\n",
    "    src_mask = src_mask.to(DEVICE)\n",
    "\n",
    "    memory = model.encode(src, src_mask)\n",
    "    ys = torch.ones(1, 1).fill_(start_symbol).type(torch.long).to(DEVICE)\n",
    "    for i in range(max_len-1):\n",
    "        memory = memory.to(DEVICE)\n",
    "        tgt_mask = (generate_square_subsequent_mask(ys.size(0))\n",
    "                    .type(torch.bool)).to(DEVICE)\n",
    "        out = model.decode(ys, memory, tgt_mask)\n",
    "        out = out.transpose(0, 1)\n",
    "        prob = model.generator(out[:, -1])\n",
    "        _, next_word = torch.max(prob, dim=1)\n",
    "        next_word = next_word.item()\n",
    "\n",
    "        ys = torch.cat([ys,\n",
    "                        torch.ones(1, 1).type_as(src.data).fill_(next_word)], dim=0)\n",
    "        if next_word == EOS_IDX:\n",
    "            break\n",
    "    return ys\n",
    "\n",
    "\n",
    "# actual function to translate input sentence into target language\n",
    "def translate(model: torch.nn.Module, src_sentence: str):\n",
    "    model.eval()\n",
    "    src = text_transform[SRC_LANGUAGE](src_sentence).view(-1, 1)\n",
    "    num_tokens = src.shape[0]\n",
    "    src_mask = (torch.zeros(num_tokens, num_tokens)).type(torch.bool)\n",
    "    tgt_tokens = greedy_decode(\n",
    "        model,  src, src_mask, max_len=num_tokens + 5, start_symbol=BOS_IDX).flatten()\n",
    "    return \" \".join(vocab_transform[TGT_LANGUAGE].lookup_tokens(list(tgt_tokens.cpu().numpy()))).replace(\"<bos>\", \"\").replace(\"<eos>\", \"\")\n"
   ]
  },
  {
   "cell_type": "code",
   "execution_count": null,
   "metadata": {
    "id": "nsWsVfjHGcjh"
   },
   "outputs": [],
   "source": [
    "src_sentence = 'उस लड़की की ऑक्सीजन मास्क उतारो।'\n",
    "src = text_transform[SRC_LANGUAGE](src_sentence).view(-1, 1)\n"
   ]
  },
  {
   "cell_type": "code",
   "execution_count": null,
   "metadata": {
    "execution": {
     "iopub.execute_input": "2023-12-09T16:50:50.049911Z",
     "iopub.status.busy": "2023-12-09T16:50:50.049516Z",
     "iopub.status.idle": "2023-12-09T16:50:50.056145Z",
     "shell.execute_reply": "2023-12-09T16:50:50.055224Z",
     "shell.execute_reply.started": "2023-12-09T16:50:50.049878Z"
    },
    "id": "LK_BgbRBGcnb",
    "trusted": true
   },
   "outputs": [],
   "source": [
    "vocab_de['उस']"
   ]
  },
  {
   "cell_type": "code",
   "execution_count": null,
   "metadata": {
    "id": "btk7daW7zZhr"
   },
   "outputs": [],
   "source": []
  },
  {
   "cell_type": "code",
   "execution_count": 105,
   "metadata": {
    "execution": {
     "iopub.execute_input": "2023-12-10T05:12:57.480508Z",
     "iopub.status.busy": "2023-12-10T05:12:57.480104Z",
     "iopub.status.idle": "2023-12-10T05:12:57.490837Z",
     "shell.execute_reply": "2023-12-10T05:12:57.489915Z",
     "shell.execute_reply.started": "2023-12-10T05:12:57.480468Z"
    },
    "id": "LuWCHlOKzZkQ",
    "trusted": true
   },
   "outputs": [
    {
     "data": {
      "text/plain": [
       "Transformers(\n",
       "  (src_embedding): Embedding(\n",
       "    (embed_layer): Embedding(25512, 512)\n",
       "  )\n",
       "  (src_pe): PositionalEncoding()\n",
       "  (trg_embedding): Embedding(\n",
       "    (embed_layer): Embedding(25512, 512)\n",
       "  )\n",
       "  (trg_pe): PositionalEncoding()\n",
       "  (multi_head_attention): MultiHeadAttention(\n",
       "    (dropout): Dropout(p=0.2, inplace=False)\n",
       "    (softmax_layer): Softmax(dim=-1)\n",
       "    (w_key): Linear(in_features=512, out_features=512, bias=True)\n",
       "    (w_query): Linear(in_features=512, out_features=512, bias=True)\n",
       "    (w_value): Linear(in_features=512, out_features=512, bias=True)\n",
       "    (output_project): Linear(in_features=512, out_features=512, bias=True)\n",
       "  )\n",
       "  (position_wise_feedforward): PositionWiseFeedForward(\n",
       "    (dropout): Dropout(p=0.2, inplace=False)\n",
       "    (linear1): Linear(in_features=512, out_features=2048, bias=True)\n",
       "    (linear2): Linear(in_features=2048, out_features=512, bias=True)\n",
       "    (relu): ReLU()\n",
       "  )\n",
       "  (encoder_layer): EnocderLayer(\n",
       "    (multi_head_arttention_layer): MultiHeadAttention(\n",
       "      (dropout): Dropout(p=0.2, inplace=False)\n",
       "      (softmax_layer): Softmax(dim=-1)\n",
       "      (w_key): Linear(in_features=512, out_features=512, bias=True)\n",
       "      (w_query): Linear(in_features=512, out_features=512, bias=True)\n",
       "      (w_value): Linear(in_features=512, out_features=512, bias=True)\n",
       "      (output_project): Linear(in_features=512, out_features=512, bias=True)\n",
       "    )\n",
       "    (dropout1): Dropout(p=0.2, inplace=False)\n",
       "    (sublayer1): SubLayer(\n",
       "      (norm): LayerNorm((512,), eps=1e-05, elementwise_affine=True)\n",
       "    )\n",
       "    (position_wise_feedforward_layer): PositionWiseFeedForward(\n",
       "      (dropout): Dropout(p=0.2, inplace=False)\n",
       "      (linear1): Linear(in_features=512, out_features=2048, bias=True)\n",
       "      (linear2): Linear(in_features=2048, out_features=512, bias=True)\n",
       "      (relu): ReLU()\n",
       "    )\n",
       "    (dropout2): Dropout(p=0.2, inplace=False)\n",
       "    (sublayer2): SubLayer(\n",
       "      (norm): LayerNorm((512,), eps=1e-05, elementwise_affine=True)\n",
       "    )\n",
       "  )\n",
       "  (decoder_layer): DnocderLayer(\n",
       "    (decoder_attention_layer): MultiHeadAttention(\n",
       "      (dropout): Dropout(p=0.2, inplace=False)\n",
       "      (softmax_layer): Softmax(dim=-1)\n",
       "      (w_key): Linear(in_features=512, out_features=512, bias=True)\n",
       "      (w_query): Linear(in_features=512, out_features=512, bias=True)\n",
       "      (w_value): Linear(in_features=512, out_features=512, bias=True)\n",
       "      (output_project): Linear(in_features=512, out_features=512, bias=True)\n",
       "    )\n",
       "    (dropout1): Dropout(p=0.2, inplace=False)\n",
       "    (sublayer1): SubLayer(\n",
       "      (norm): LayerNorm((512,), eps=1e-05, elementwise_affine=True)\n",
       "    )\n",
       "    (encoder_decoder_attention_layer): MultiHeadAttention(\n",
       "      (dropout): Dropout(p=0.2, inplace=False)\n",
       "      (softmax_layer): Softmax(dim=-1)\n",
       "      (w_key): Linear(in_features=512, out_features=512, bias=True)\n",
       "      (w_query): Linear(in_features=512, out_features=512, bias=True)\n",
       "      (w_value): Linear(in_features=512, out_features=512, bias=True)\n",
       "      (output_project): Linear(in_features=512, out_features=512, bias=True)\n",
       "    )\n",
       "    (dropout2): Dropout(p=0.2, inplace=False)\n",
       "    (sublayer2): SubLayer(\n",
       "      (norm): LayerNorm((512,), eps=1e-05, elementwise_affine=True)\n",
       "    )\n",
       "    (position_wise_feedforward_layer): PositionWiseFeedForward(\n",
       "      (dropout): Dropout(p=0.2, inplace=False)\n",
       "      (linear1): Linear(in_features=512, out_features=2048, bias=True)\n",
       "      (linear2): Linear(in_features=2048, out_features=512, bias=True)\n",
       "      (relu): ReLU()\n",
       "    )\n",
       "    (dropout3): Dropout(p=0.2, inplace=False)\n",
       "    (sublayer3): SubLayer(\n",
       "      (norm): LayerNorm((512,), eps=1e-05, elementwise_affine=True)\n",
       "    )\n",
       "  )\n",
       "  (encoder_block): EncoderBlock(\n",
       "    (encoder_layer): EnocderLayer(\n",
       "      (multi_head_arttention_layer): MultiHeadAttention(\n",
       "        (dropout): Dropout(p=0.2, inplace=False)\n",
       "        (softmax_layer): Softmax(dim=-1)\n",
       "        (w_key): Linear(in_features=512, out_features=512, bias=True)\n",
       "        (w_query): Linear(in_features=512, out_features=512, bias=True)\n",
       "        (w_value): Linear(in_features=512, out_features=512, bias=True)\n",
       "        (output_project): Linear(in_features=512, out_features=512, bias=True)\n",
       "      )\n",
       "      (dropout1): Dropout(p=0.2, inplace=False)\n",
       "      (sublayer1): SubLayer(\n",
       "        (norm): LayerNorm((512,), eps=1e-05, elementwise_affine=True)\n",
       "      )\n",
       "      (position_wise_feedforward_layer): PositionWiseFeedForward(\n",
       "        (dropout): Dropout(p=0.2, inplace=False)\n",
       "        (linear1): Linear(in_features=512, out_features=2048, bias=True)\n",
       "        (linear2): Linear(in_features=2048, out_features=512, bias=True)\n",
       "        (relu): ReLU()\n",
       "      )\n",
       "      (dropout2): Dropout(p=0.2, inplace=False)\n",
       "      (sublayer2): SubLayer(\n",
       "        (norm): LayerNorm((512,), eps=1e-05, elementwise_affine=True)\n",
       "      )\n",
       "    )\n",
       "    (encoder_layer_list): ModuleList(\n",
       "      (0-5): 6 x EnocderLayer(\n",
       "        (multi_head_arttention_layer): MultiHeadAttention(\n",
       "          (dropout): Dropout(p=0.2, inplace=False)\n",
       "          (softmax_layer): Softmax(dim=-1)\n",
       "          (w_key): Linear(in_features=512, out_features=512, bias=True)\n",
       "          (w_query): Linear(in_features=512, out_features=512, bias=True)\n",
       "          (w_value): Linear(in_features=512, out_features=512, bias=True)\n",
       "          (output_project): Linear(in_features=512, out_features=512, bias=True)\n",
       "        )\n",
       "        (dropout1): Dropout(p=0.2, inplace=False)\n",
       "        (sublayer1): SubLayer(\n",
       "          (norm): LayerNorm((512,), eps=1e-05, elementwise_affine=True)\n",
       "        )\n",
       "        (position_wise_feedforward_layer): PositionWiseFeedForward(\n",
       "          (dropout): Dropout(p=0.2, inplace=False)\n",
       "          (linear1): Linear(in_features=512, out_features=2048, bias=True)\n",
       "          (linear2): Linear(in_features=2048, out_features=512, bias=True)\n",
       "          (relu): ReLU()\n",
       "        )\n",
       "        (dropout2): Dropout(p=0.2, inplace=False)\n",
       "        (sublayer2): SubLayer(\n",
       "          (norm): LayerNorm((512,), eps=1e-05, elementwise_affine=True)\n",
       "        )\n",
       "      )\n",
       "    )\n",
       "  )\n",
       "  (decoder_block): DecoderBlock(\n",
       "    (decoder_layer): DnocderLayer(\n",
       "      (decoder_attention_layer): MultiHeadAttention(\n",
       "        (dropout): Dropout(p=0.2, inplace=False)\n",
       "        (softmax_layer): Softmax(dim=-1)\n",
       "        (w_key): Linear(in_features=512, out_features=512, bias=True)\n",
       "        (w_query): Linear(in_features=512, out_features=512, bias=True)\n",
       "        (w_value): Linear(in_features=512, out_features=512, bias=True)\n",
       "        (output_project): Linear(in_features=512, out_features=512, bias=True)\n",
       "      )\n",
       "      (dropout1): Dropout(p=0.2, inplace=False)\n",
       "      (sublayer1): SubLayer(\n",
       "        (norm): LayerNorm((512,), eps=1e-05, elementwise_affine=True)\n",
       "      )\n",
       "      (encoder_decoder_attention_layer): MultiHeadAttention(\n",
       "        (dropout): Dropout(p=0.2, inplace=False)\n",
       "        (softmax_layer): Softmax(dim=-1)\n",
       "        (w_key): Linear(in_features=512, out_features=512, bias=True)\n",
       "        (w_query): Linear(in_features=512, out_features=512, bias=True)\n",
       "        (w_value): Linear(in_features=512, out_features=512, bias=True)\n",
       "        (output_project): Linear(in_features=512, out_features=512, bias=True)\n",
       "      )\n",
       "      (dropout2): Dropout(p=0.2, inplace=False)\n",
       "      (sublayer2): SubLayer(\n",
       "        (norm): LayerNorm((512,), eps=1e-05, elementwise_affine=True)\n",
       "      )\n",
       "      (position_wise_feedforward_layer): PositionWiseFeedForward(\n",
       "        (dropout): Dropout(p=0.2, inplace=False)\n",
       "        (linear1): Linear(in_features=512, out_features=2048, bias=True)\n",
       "        (linear2): Linear(in_features=2048, out_features=512, bias=True)\n",
       "        (relu): ReLU()\n",
       "      )\n",
       "      (dropout3): Dropout(p=0.2, inplace=False)\n",
       "      (sublayer3): SubLayer(\n",
       "        (norm): LayerNorm((512,), eps=1e-05, elementwise_affine=True)\n",
       "      )\n",
       "    )\n",
       "    (decoder_layer_list): ModuleList(\n",
       "      (0-5): 6 x DnocderLayer(\n",
       "        (decoder_attention_layer): MultiHeadAttention(\n",
       "          (dropout): Dropout(p=0.2, inplace=False)\n",
       "          (softmax_layer): Softmax(dim=-1)\n",
       "          (w_key): Linear(in_features=512, out_features=512, bias=True)\n",
       "          (w_query): Linear(in_features=512, out_features=512, bias=True)\n",
       "          (w_value): Linear(in_features=512, out_features=512, bias=True)\n",
       "          (output_project): Linear(in_features=512, out_features=512, bias=True)\n",
       "        )\n",
       "        (dropout1): Dropout(p=0.2, inplace=False)\n",
       "        (sublayer1): SubLayer(\n",
       "          (norm): LayerNorm((512,), eps=1e-05, elementwise_affine=True)\n",
       "        )\n",
       "        (encoder_decoder_attention_layer): MultiHeadAttention(\n",
       "          (dropout): Dropout(p=0.2, inplace=False)\n",
       "          (softmax_layer): Softmax(dim=-1)\n",
       "          (w_key): Linear(in_features=512, out_features=512, bias=True)\n",
       "          (w_query): Linear(in_features=512, out_features=512, bias=True)\n",
       "          (w_value): Linear(in_features=512, out_features=512, bias=True)\n",
       "          (output_project): Linear(in_features=512, out_features=512, bias=True)\n",
       "        )\n",
       "        (dropout2): Dropout(p=0.2, inplace=False)\n",
       "        (sublayer2): SubLayer(\n",
       "          (norm): LayerNorm((512,), eps=1e-05, elementwise_affine=True)\n",
       "        )\n",
       "        (position_wise_feedforward_layer): PositionWiseFeedForward(\n",
       "          (dropout): Dropout(p=0.2, inplace=False)\n",
       "          (linear1): Linear(in_features=512, out_features=2048, bias=True)\n",
       "          (linear2): Linear(in_features=2048, out_features=512, bias=True)\n",
       "          (relu): ReLU()\n",
       "        )\n",
       "        (dropout3): Dropout(p=0.2, inplace=False)\n",
       "        (sublayer3): SubLayer(\n",
       "          (norm): LayerNorm((512,), eps=1e-05, elementwise_affine=True)\n",
       "        )\n",
       "      )\n",
       "    )\n",
       "    (layer_norm): LayerNorm((512,), eps=1e-05, elementwise_affine=True)\n",
       "  )\n",
       "  (decoder_out_gen): DecoderGenerator(\n",
       "    (linear): Linear(in_features=512, out_features=25512, bias=True)\n",
       "    (softmax_layer): LogSoftmax(dim=-1)\n",
       "  )\n",
       ")"
      ]
     },
     "execution_count": 105,
     "metadata": {},
     "output_type": "execute_result"
    }
   ],
   "source": [
    "model"
   ]
  },
  {
   "cell_type": "code",
   "execution_count": null,
   "metadata": {},
   "outputs": [],
   "source": []
  }
 ],
 "metadata": {
  "colab": {
   "provenance": []
  },
  "kaggle": {
   "accelerator": "nvidiaTeslaT4",
   "dataSources": [],
   "dockerImageVersionId": 30616,
   "isGpuEnabled": true,
   "isInternetEnabled": true,
   "language": "python",
   "sourceType": "notebook"
  },
  "kernelspec": {
   "display_name": "ml_projects",
   "language": "python",
   "name": "python3"
  },
  "language_info": {
   "codemirror_mode": {
    "name": "ipython",
    "version": 3
   },
   "file_extension": ".py",
   "mimetype": "text/x-python",
   "name": "python",
   "nbconvert_exporter": "python",
   "pygments_lexer": "ipython3",
   "version": "3.10.13"
  },
  "widgets": {
   "application/vnd.jupyter.widget-state+json": {
    "00e0a5fdfc774930a9564cd0eccf934f": {
     "model_module": "@jupyter-widgets/base",
     "model_module_version": "1.2.0",
     "model_name": "LayoutModel",
     "state": {
      "_model_module": "@jupyter-widgets/base",
      "_model_module_version": "1.2.0",
      "_model_name": "LayoutModel",
      "_view_count": null,
      "_view_module": "@jupyter-widgets/base",
      "_view_module_version": "1.2.0",
      "_view_name": "LayoutView",
      "align_content": null,
      "align_items": null,
      "align_self": null,
      "border": null,
      "bottom": null,
      "display": null,
      "flex": null,
      "flex_flow": null,
      "grid_area": null,
      "grid_auto_columns": null,
      "grid_auto_flow": null,
      "grid_auto_rows": null,
      "grid_column": null,
      "grid_gap": null,
      "grid_row": null,
      "grid_template_areas": null,
      "grid_template_columns": null,
      "grid_template_rows": null,
      "height": null,
      "justify_content": null,
      "justify_items": null,
      "left": null,
      "margin": null,
      "max_height": null,
      "max_width": null,
      "min_height": null,
      "min_width": null,
      "object_fit": null,
      "object_position": null,
      "order": null,
      "overflow": null,
      "overflow_x": null,
      "overflow_y": null,
      "padding": null,
      "right": null,
      "top": null,
      "visibility": null,
      "width": null
     }
    },
    "0267e016165b4c5dabf327e445149a73": {
     "model_module": "@jupyter-widgets/controls",
     "model_module_version": "1.5.0",
     "model_name": "FloatProgressModel",
     "state": {
      "_dom_classes": [],
      "_model_module": "@jupyter-widgets/controls",
      "_model_module_version": "1.5.0",
      "_model_name": "FloatProgressModel",
      "_view_count": null,
      "_view_module": "@jupyter-widgets/controls",
      "_view_module_version": "1.5.0",
      "_view_name": "ProgressView",
      "bar_style": "success",
      "description": "",
      "description_tooltip": null,
      "layout": "IPY_MODEL_00e0a5fdfc774930a9564cd0eccf934f",
      "max": 15327,
      "min": 0,
      "orientation": "horizontal",
      "style": "IPY_MODEL_7c5d246761cb4feebe260b6e0cd186a7",
      "value": 15327
     }
    },
    "0abee347db3741409a5872492cc27fb9": {
     "model_module": "@jupyter-widgets/controls",
     "model_module_version": "1.5.0",
     "model_name": "DescriptionStyleModel",
     "state": {
      "_model_module": "@jupyter-widgets/controls",
      "_model_module_version": "1.5.0",
      "_model_name": "DescriptionStyleModel",
      "_view_count": null,
      "_view_module": "@jupyter-widgets/base",
      "_view_module_version": "1.2.0",
      "_view_name": "StyleView",
      "description_width": ""
     }
    },
    "0af9def1b5a5430590dd9534140bb311": {
     "model_module": "@jupyter-widgets/base",
     "model_module_version": "1.2.0",
     "model_name": "LayoutModel",
     "state": {
      "_model_module": "@jupyter-widgets/base",
      "_model_module_version": "1.2.0",
      "_model_name": "LayoutModel",
      "_view_count": null,
      "_view_module": "@jupyter-widgets/base",
      "_view_module_version": "1.2.0",
      "_view_name": "LayoutView",
      "align_content": null,
      "align_items": null,
      "align_self": null,
      "border": null,
      "bottom": null,
      "display": null,
      "flex": null,
      "flex_flow": null,
      "grid_area": null,
      "grid_auto_columns": null,
      "grid_auto_flow": null,
      "grid_auto_rows": null,
      "grid_column": null,
      "grid_gap": null,
      "grid_row": null,
      "grid_template_areas": null,
      "grid_template_columns": null,
      "grid_template_rows": null,
      "height": null,
      "justify_content": null,
      "justify_items": null,
      "left": null,
      "margin": null,
      "max_height": null,
      "max_width": null,
      "min_height": null,
      "min_width": null,
      "object_fit": null,
      "object_position": null,
      "order": null,
      "overflow": null,
      "overflow_x": null,
      "overflow_y": null,
      "padding": null,
      "right": null,
      "top": null,
      "visibility": null,
      "width": null
     }
    },
    "0b9a357a642b474da4765d7c80dfe07f": {
     "model_module": "@jupyter-widgets/base",
     "model_module_version": "1.2.0",
     "model_name": "LayoutModel",
     "state": {
      "_model_module": "@jupyter-widgets/base",
      "_model_module_version": "1.2.0",
      "_model_name": "LayoutModel",
      "_view_count": null,
      "_view_module": "@jupyter-widgets/base",
      "_view_module_version": "1.2.0",
      "_view_name": "LayoutView",
      "align_content": null,
      "align_items": null,
      "align_self": null,
      "border": null,
      "bottom": null,
      "display": null,
      "flex": null,
      "flex_flow": null,
      "grid_area": null,
      "grid_auto_columns": null,
      "grid_auto_flow": null,
      "grid_auto_rows": null,
      "grid_column": null,
      "grid_gap": null,
      "grid_row": null,
      "grid_template_areas": null,
      "grid_template_columns": null,
      "grid_template_rows": null,
      "height": null,
      "justify_content": null,
      "justify_items": null,
      "left": null,
      "margin": null,
      "max_height": null,
      "max_width": null,
      "min_height": null,
      "min_width": null,
      "object_fit": null,
      "object_position": null,
      "order": null,
      "overflow": null,
      "overflow_x": null,
      "overflow_y": null,
      "padding": null,
      "right": null,
      "top": null,
      "visibility": null,
      "width": null
     }
    },
    "0bd61fcabae44c54b9c80ed80812603a": {
     "model_module": "@jupyter-widgets/controls",
     "model_module_version": "1.5.0",
     "model_name": "HBoxModel",
     "state": {
      "_dom_classes": [],
      "_model_module": "@jupyter-widgets/controls",
      "_model_module_version": "1.5.0",
      "_model_name": "HBoxModel",
      "_view_count": null,
      "_view_module": "@jupyter-widgets/controls",
      "_view_module_version": "1.5.0",
      "_view_name": "HBoxView",
      "box_style": "",
      "children": [
       "IPY_MODEL_3e15f7127c134e1b98ef6f31398a3342",
       "IPY_MODEL_7a658a63bd414a8eb2a136632b0e7a70",
       "IPY_MODEL_450f1a08bfa54b8f8592188e641515ae"
      ],
      "layout": "IPY_MODEL_d701bffb7667487cb135914125f3e246"
     }
    },
    "0cd087f4e8644bdda827d7afb3819721": {
     "model_module": "@jupyter-widgets/controls",
     "model_module_version": "1.5.0",
     "model_name": "HTMLModel",
     "state": {
      "_dom_classes": [],
      "_model_module": "@jupyter-widgets/controls",
      "_model_module_version": "1.5.0",
      "_model_name": "HTMLModel",
      "_view_count": null,
      "_view_module": "@jupyter-widgets/controls",
      "_view_module_version": "1.5.0",
      "_view_name": "HTMLView",
      "description": "",
      "description_tooltip": null,
      "layout": "IPY_MODEL_bdc7493e9837480a9eeff1803470aff0",
      "placeholder": "​",
      "style": "IPY_MODEL_0abee347db3741409a5872492cc27fb9",
      "value": "Downloading readme: 100%"
     }
    },
    "0efc5d370a714195ad8fb9748252a621": {
     "model_module": "@jupyter-widgets/base",
     "model_module_version": "1.2.0",
     "model_name": "LayoutModel",
     "state": {
      "_model_module": "@jupyter-widgets/base",
      "_model_module_version": "1.2.0",
      "_model_name": "LayoutModel",
      "_view_count": null,
      "_view_module": "@jupyter-widgets/base",
      "_view_module_version": "1.2.0",
      "_view_name": "LayoutView",
      "align_content": null,
      "align_items": null,
      "align_self": null,
      "border": null,
      "bottom": null,
      "display": null,
      "flex": null,
      "flex_flow": null,
      "grid_area": null,
      "grid_auto_columns": null,
      "grid_auto_flow": null,
      "grid_auto_rows": null,
      "grid_column": null,
      "grid_gap": null,
      "grid_row": null,
      "grid_template_areas": null,
      "grid_template_columns": null,
      "grid_template_rows": null,
      "height": null,
      "justify_content": null,
      "justify_items": null,
      "left": null,
      "margin": null,
      "max_height": null,
      "max_width": null,
      "min_height": null,
      "min_width": null,
      "object_fit": null,
      "object_position": null,
      "order": null,
      "overflow": null,
      "overflow_x": null,
      "overflow_y": null,
      "padding": null,
      "right": null,
      "top": null,
      "visibility": null,
      "width": null
     }
    },
    "0f0ea1227b7e45898abbb5c3af8f90b1": {
     "model_module": "@jupyter-widgets/base",
     "model_module_version": "1.2.0",
     "model_name": "LayoutModel",
     "state": {
      "_model_module": "@jupyter-widgets/base",
      "_model_module_version": "1.2.0",
      "_model_name": "LayoutModel",
      "_view_count": null,
      "_view_module": "@jupyter-widgets/base",
      "_view_module_version": "1.2.0",
      "_view_name": "LayoutView",
      "align_content": null,
      "align_items": null,
      "align_self": null,
      "border": null,
      "bottom": null,
      "display": null,
      "flex": null,
      "flex_flow": null,
      "grid_area": null,
      "grid_auto_columns": null,
      "grid_auto_flow": null,
      "grid_auto_rows": null,
      "grid_column": null,
      "grid_gap": null,
      "grid_row": null,
      "grid_template_areas": null,
      "grid_template_columns": null,
      "grid_template_rows": null,
      "height": null,
      "justify_content": null,
      "justify_items": null,
      "left": null,
      "margin": null,
      "max_height": null,
      "max_width": null,
      "min_height": null,
      "min_width": null,
      "object_fit": null,
      "object_position": null,
      "order": null,
      "overflow": null,
      "overflow_x": null,
      "overflow_y": null,
      "padding": null,
      "right": null,
      "top": null,
      "visibility": null,
      "width": null
     }
    },
    "10576e28acfd486ab2b6bbe778c08ca5": {
     "model_module": "@jupyter-widgets/base",
     "model_module_version": "1.2.0",
     "model_name": "LayoutModel",
     "state": {
      "_model_module": "@jupyter-widgets/base",
      "_model_module_version": "1.2.0",
      "_model_name": "LayoutModel",
      "_view_count": null,
      "_view_module": "@jupyter-widgets/base",
      "_view_module_version": "1.2.0",
      "_view_name": "LayoutView",
      "align_content": null,
      "align_items": null,
      "align_self": null,
      "border": null,
      "bottom": null,
      "display": null,
      "flex": null,
      "flex_flow": null,
      "grid_area": null,
      "grid_auto_columns": null,
      "grid_auto_flow": null,
      "grid_auto_rows": null,
      "grid_column": null,
      "grid_gap": null,
      "grid_row": null,
      "grid_template_areas": null,
      "grid_template_columns": null,
      "grid_template_rows": null,
      "height": null,
      "justify_content": null,
      "justify_items": null,
      "left": null,
      "margin": null,
      "max_height": null,
      "max_width": null,
      "min_height": null,
      "min_width": null,
      "object_fit": null,
      "object_position": null,
      "order": null,
      "overflow": null,
      "overflow_x": null,
      "overflow_y": null,
      "padding": null,
      "right": null,
      "top": null,
      "visibility": null,
      "width": null
     }
    },
    "17671d286f2e441686795786b2de4dfa": {
     "model_module": "@jupyter-widgets/controls",
     "model_module_version": "1.5.0",
     "model_name": "HTMLModel",
     "state": {
      "_dom_classes": [],
      "_model_module": "@jupyter-widgets/controls",
      "_model_module_version": "1.5.0",
      "_model_name": "HTMLModel",
      "_view_count": null,
      "_view_module": "@jupyter-widgets/controls",
      "_view_module_version": "1.5.0",
      "_view_name": "HTMLView",
      "description": "",
      "description_tooltip": null,
      "layout": "IPY_MODEL_e13d24cf22bb4e7f928ab579f7a1f142",
      "placeholder": "​",
      "style": "IPY_MODEL_9a4aa6084bfd4910a3f87c8190fd3fc3",
      "value": " 2.97k/2.97k [00:00&lt;00:00, 172kB/s]"
     }
    },
    "1935ac8d946a4290aa359912f80fd727": {
     "model_module": "@jupyter-widgets/controls",
     "model_module_version": "1.5.0",
     "model_name": "HTMLModel",
     "state": {
      "_dom_classes": [],
      "_model_module": "@jupyter-widgets/controls",
      "_model_module_version": "1.5.0",
      "_model_name": "HTMLModel",
      "_view_count": null,
      "_view_module": "@jupyter-widgets/controls",
      "_view_module_version": "1.5.0",
      "_view_name": "HTMLView",
      "description": "",
      "description_tooltip": null,
      "layout": "IPY_MODEL_b2e5f8bb65f945fc98f1671694c6750b",
      "placeholder": "​",
      "style": "IPY_MODEL_88c33479cf3b4aa2aa4594657ed081d8",
      "value": "Downloading metadata: 100%"
     }
    },
    "1a4f4b36b3f24d5fbf387fae8e5aa969": {
     "model_module": "@jupyter-widgets/controls",
     "model_module_version": "1.5.0",
     "model_name": "HTMLModel",
     "state": {
      "_dom_classes": [],
      "_model_module": "@jupyter-widgets/controls",
      "_model_module_version": "1.5.0",
      "_model_name": "HTMLModel",
      "_view_count": null,
      "_view_module": "@jupyter-widgets/controls",
      "_view_module_version": "1.5.0",
      "_view_name": "HTMLView",
      "description": "",
      "description_tooltip": null,
      "layout": "IPY_MODEL_0efc5d370a714195ad8fb9748252a621",
      "placeholder": "​",
      "style": "IPY_MODEL_78738d886a064d6fbe7ad2e990d92b2f",
      "value": " 15.3k/15.3k [00:00&lt;00:00, 910kB/s]"
     }
    },
    "1baa85de93944db0b2ab53892a4aa06e": {
     "model_module": "@jupyter-widgets/base",
     "model_module_version": "1.2.0",
     "model_name": "LayoutModel",
     "state": {
      "_model_module": "@jupyter-widgets/base",
      "_model_module_version": "1.2.0",
      "_model_name": "LayoutModel",
      "_view_count": null,
      "_view_module": "@jupyter-widgets/base",
      "_view_module_version": "1.2.0",
      "_view_name": "LayoutView",
      "align_content": null,
      "align_items": null,
      "align_self": null,
      "border": null,
      "bottom": null,
      "display": null,
      "flex": null,
      "flex_flow": null,
      "grid_area": null,
      "grid_auto_columns": null,
      "grid_auto_flow": null,
      "grid_auto_rows": null,
      "grid_column": null,
      "grid_gap": null,
      "grid_row": null,
      "grid_template_areas": null,
      "grid_template_columns": null,
      "grid_template_rows": null,
      "height": null,
      "justify_content": null,
      "justify_items": null,
      "left": null,
      "margin": null,
      "max_height": null,
      "max_width": null,
      "min_height": null,
      "min_width": null,
      "object_fit": null,
      "object_position": null,
      "order": null,
      "overflow": null,
      "overflow_x": null,
      "overflow_y": null,
      "padding": null,
      "right": null,
      "top": null,
      "visibility": null,
      "width": null
     }
    },
    "1c4cd843698a4da1b1998d83f8eb28e3": {
     "model_module": "@jupyter-widgets/base",
     "model_module_version": "1.2.0",
     "model_name": "LayoutModel",
     "state": {
      "_model_module": "@jupyter-widgets/base",
      "_model_module_version": "1.2.0",
      "_model_name": "LayoutModel",
      "_view_count": null,
      "_view_module": "@jupyter-widgets/base",
      "_view_module_version": "1.2.0",
      "_view_name": "LayoutView",
      "align_content": null,
      "align_items": null,
      "align_self": null,
      "border": null,
      "bottom": null,
      "display": null,
      "flex": null,
      "flex_flow": null,
      "grid_area": null,
      "grid_auto_columns": null,
      "grid_auto_flow": null,
      "grid_auto_rows": null,
      "grid_column": null,
      "grid_gap": null,
      "grid_row": null,
      "grid_template_areas": null,
      "grid_template_columns": null,
      "grid_template_rows": null,
      "height": null,
      "justify_content": null,
      "justify_items": null,
      "left": null,
      "margin": null,
      "max_height": null,
      "max_width": null,
      "min_height": null,
      "min_width": null,
      "object_fit": null,
      "object_position": null,
      "order": null,
      "overflow": null,
      "overflow_x": null,
      "overflow_y": null,
      "padding": null,
      "right": null,
      "top": null,
      "visibility": null,
      "width": null
     }
    },
    "1f3edbaf96064f00af8a52256cc5c908": {
     "model_module": "@jupyter-widgets/base",
     "model_module_version": "1.2.0",
     "model_name": "LayoutModel",
     "state": {
      "_model_module": "@jupyter-widgets/base",
      "_model_module_version": "1.2.0",
      "_model_name": "LayoutModel",
      "_view_count": null,
      "_view_module": "@jupyter-widgets/base",
      "_view_module_version": "1.2.0",
      "_view_name": "LayoutView",
      "align_content": null,
      "align_items": null,
      "align_self": null,
      "border": null,
      "bottom": null,
      "display": null,
      "flex": null,
      "flex_flow": null,
      "grid_area": null,
      "grid_auto_columns": null,
      "grid_auto_flow": null,
      "grid_auto_rows": null,
      "grid_column": null,
      "grid_gap": null,
      "grid_row": null,
      "grid_template_areas": null,
      "grid_template_columns": null,
      "grid_template_rows": null,
      "height": null,
      "justify_content": null,
      "justify_items": null,
      "left": null,
      "margin": null,
      "max_height": null,
      "max_width": null,
      "min_height": null,
      "min_width": null,
      "object_fit": null,
      "object_position": null,
      "order": null,
      "overflow": null,
      "overflow_x": null,
      "overflow_y": null,
      "padding": null,
      "right": null,
      "top": null,
      "visibility": null,
      "width": null
     }
    },
    "1f7d2a708ae94f36893c24017cada8a5": {
     "model_module": "@jupyter-widgets/controls",
     "model_module_version": "1.5.0",
     "model_name": "HBoxModel",
     "state": {
      "_dom_classes": [],
      "_model_module": "@jupyter-widgets/controls",
      "_model_module_version": "1.5.0",
      "_model_name": "HBoxModel",
      "_view_count": null,
      "_view_module": "@jupyter-widgets/controls",
      "_view_module_version": "1.5.0",
      "_view_name": "HBoxView",
      "box_style": "",
      "children": [
       "IPY_MODEL_cf4a941da2ee4eb8af2fafda64eeafc8",
       "IPY_MODEL_ec110440398f407684aec417c09ae206",
       "IPY_MODEL_251ffe9ab4514f569eb5264f1acaa46b"
      ],
      "layout": "IPY_MODEL_98e7f7013edf4be0b750f4a46ca5a68e"
     }
    },
    "22b10384513c41ef80736828394fffd2": {
     "model_module": "@jupyter-widgets/controls",
     "model_module_version": "1.5.0",
     "model_name": "FloatProgressModel",
     "state": {
      "_dom_classes": [],
      "_model_module": "@jupyter-widgets/controls",
      "_model_module_version": "1.5.0",
      "_model_name": "FloatProgressModel",
      "_view_count": null,
      "_view_module": "@jupyter-widgets/controls",
      "_view_module_version": "1.5.0",
      "_view_name": "ProgressView",
      "bar_style": "success",
      "description": "",
      "description_tooltip": null,
      "layout": "IPY_MODEL_1f3edbaf96064f00af8a52256cc5c908",
      "max": 491,
      "min": 0,
      "orientation": "horizontal",
      "style": "IPY_MODEL_5589ffd2146d4283987cc21fc26ef832",
      "value": 491
     }
    },
    "251ffe9ab4514f569eb5264f1acaa46b": {
     "model_module": "@jupyter-widgets/controls",
     "model_module_version": "1.5.0",
     "model_name": "HTMLModel",
     "state": {
      "_dom_classes": [],
      "_model_module": "@jupyter-widgets/controls",
      "_model_module_version": "1.5.0",
      "_model_name": "HTMLModel",
      "_view_count": null,
      "_view_module": "@jupyter-widgets/controls",
      "_view_module_version": "1.5.0",
      "_view_name": "HTMLView",
      "description": "",
      "description_tooltip": null,
      "layout": "IPY_MODEL_7c710f2d585045abac6acdea3b8d1316",
      "placeholder": "​",
      "style": "IPY_MODEL_ae8070cb99784bab9229e8a91c092085",
      "value": " 2.24M/2.24M [00:00&lt;00:00, 28.8MB/s]"
     }
    },
    "26108e809d4b4869b659d64255af4f69": {
     "model_module": "@jupyter-widgets/base",
     "model_module_version": "1.2.0",
     "model_name": "LayoutModel",
     "state": {
      "_model_module": "@jupyter-widgets/base",
      "_model_module_version": "1.2.0",
      "_model_name": "LayoutModel",
      "_view_count": null,
      "_view_module": "@jupyter-widgets/base",
      "_view_module_version": "1.2.0",
      "_view_name": "LayoutView",
      "align_content": null,
      "align_items": null,
      "align_self": null,
      "border": null,
      "bottom": null,
      "display": null,
      "flex": null,
      "flex_flow": null,
      "grid_area": null,
      "grid_auto_columns": null,
      "grid_auto_flow": null,
      "grid_auto_rows": null,
      "grid_column": null,
      "grid_gap": null,
      "grid_row": null,
      "grid_template_areas": null,
      "grid_template_columns": null,
      "grid_template_rows": null,
      "height": null,
      "justify_content": null,
      "justify_items": null,
      "left": null,
      "margin": null,
      "max_height": null,
      "max_width": null,
      "min_height": null,
      "min_width": null,
      "object_fit": null,
      "object_position": null,
      "order": null,
      "overflow": null,
      "overflow_x": null,
      "overflow_y": null,
      "padding": null,
      "right": null,
      "top": null,
      "visibility": null,
      "width": null
     }
    },
    "26acace78c764ebe9467d3bc29bb0919": {
     "model_module": "@jupyter-widgets/controls",
     "model_module_version": "1.5.0",
     "model_name": "HTMLModel",
     "state": {
      "_dom_classes": [],
      "_model_module": "@jupyter-widgets/controls",
      "_model_module_version": "1.5.0",
      "_model_name": "HTMLModel",
      "_view_count": null,
      "_view_module": "@jupyter-widgets/controls",
      "_view_module_version": "1.5.0",
      "_view_name": "HTMLView",
      "description": "",
      "description_tooltip": null,
      "layout": "IPY_MODEL_5dd436cb80b74a5d9ae5dea39c817b5a",
      "placeholder": "​",
      "style": "IPY_MODEL_366fb19fd70d4f45a842c400b50d66b9",
      "value": " 41.2k/41.2k [00:00&lt;00:00, 1.15MB/s]"
     }
    },
    "29e7b43f1947403bb7c4c75cd68a2a3d": {
     "model_module": "@jupyter-widgets/controls",
     "model_module_version": "1.5.0",
     "model_name": "FloatProgressModel",
     "state": {
      "_dom_classes": [],
      "_model_module": "@jupyter-widgets/controls",
      "_model_module_version": "1.5.0",
      "_model_name": "FloatProgressModel",
      "_view_count": null,
      "_view_module": "@jupyter-widgets/controls",
      "_view_module_version": "1.5.0",
      "_view_name": "ProgressView",
      "bar_style": "success",
      "description": "",
      "description_tooltip": null,
      "layout": "IPY_MODEL_b379d3eabb7049e1b222f8082bc16b57",
      "max": 41151,
      "min": 0,
      "orientation": "horizontal",
      "style": "IPY_MODEL_4ba1a752a7af4612a8c75a9974c0567c",
      "value": 41151
     }
    },
    "2cbb39cef00a4496b7370f974715dbda": {
     "model_module": "@jupyter-widgets/controls",
     "model_module_version": "1.5.0",
     "model_name": "HTMLModel",
     "state": {
      "_dom_classes": [],
      "_model_module": "@jupyter-widgets/controls",
      "_model_module_version": "1.5.0",
      "_model_name": "HTMLModel",
      "_view_count": null,
      "_view_module": "@jupyter-widgets/controls",
      "_view_module_version": "1.5.0",
      "_view_name": "HTMLView",
      "description": "",
      "description_tooltip": null,
      "layout": "IPY_MODEL_eb941070343a4ac89b8bab686e5fcbce",
      "placeholder": "​",
      "style": "IPY_MODEL_d95b5b55270046d19f60588c530bac27",
      "value": "Downloading builder script: 100%"
     }
    },
    "2fa7db10a0314900a2787c4bc3b832c0": {
     "model_module": "@jupyter-widgets/controls",
     "model_module_version": "1.5.0",
     "model_name": "DescriptionStyleModel",
     "state": {
      "_model_module": "@jupyter-widgets/controls",
      "_model_module_version": "1.5.0",
      "_model_name": "DescriptionStyleModel",
      "_view_count": null,
      "_view_module": "@jupyter-widgets/base",
      "_view_module_version": "1.2.0",
      "_view_name": "StyleView",
      "description_width": ""
     }
    },
    "34a022a1dc6f47aaab91b56ccb2b7d44": {
     "model_module": "@jupyter-widgets/controls",
     "model_module_version": "1.5.0",
     "model_name": "DescriptionStyleModel",
     "state": {
      "_model_module": "@jupyter-widgets/controls",
      "_model_module_version": "1.5.0",
      "_model_name": "DescriptionStyleModel",
      "_view_count": null,
      "_view_module": "@jupyter-widgets/base",
      "_view_module_version": "1.2.0",
      "_view_name": "StyleView",
      "description_width": ""
     }
    },
    "366fb19fd70d4f45a842c400b50d66b9": {
     "model_module": "@jupyter-widgets/controls",
     "model_module_version": "1.5.0",
     "model_name": "DescriptionStyleModel",
     "state": {
      "_model_module": "@jupyter-widgets/controls",
      "_model_module_version": "1.5.0",
      "_model_name": "DescriptionStyleModel",
      "_view_count": null,
      "_view_module": "@jupyter-widgets/base",
      "_view_module_version": "1.2.0",
      "_view_name": "StyleView",
      "description_width": ""
     }
    },
    "381608e98b234bcd9d19a1e6bf061073": {
     "model_module": "@jupyter-widgets/controls",
     "model_module_version": "1.5.0",
     "model_name": "DescriptionStyleModel",
     "state": {
      "_model_module": "@jupyter-widgets/controls",
      "_model_module_version": "1.5.0",
      "_model_name": "DescriptionStyleModel",
      "_view_count": null,
      "_view_module": "@jupyter-widgets/base",
      "_view_module_version": "1.2.0",
      "_view_name": "StyleView",
      "description_width": ""
     }
    },
    "38aea48d00ab4b4682898e94f8ebab28": {
     "model_module": "@jupyter-widgets/controls",
     "model_module_version": "1.5.0",
     "model_name": "FloatProgressModel",
     "state": {
      "_dom_classes": [],
      "_model_module": "@jupyter-widgets/controls",
      "_model_module_version": "1.5.0",
      "_model_name": "FloatProgressModel",
      "_view_count": null,
      "_view_module": "@jupyter-widgets/controls",
      "_view_module_version": "1.5.0",
      "_view_name": "ProgressView",
      "bar_style": "",
      "description": "",
      "description_tooltip": null,
      "layout": "IPY_MODEL_c440e044b9d14296bd1bcc42d2eab9fd",
      "max": 5,
      "min": 0,
      "orientation": "horizontal",
      "style": "IPY_MODEL_5045711485d049c9b7e86d128bc8c756",
      "value": 1
     }
    },
    "3901fe62635847eda92a5cfffce73f44": {
     "model_module": "@jupyter-widgets/base",
     "model_module_version": "1.2.0",
     "model_name": "LayoutModel",
     "state": {
      "_model_module": "@jupyter-widgets/base",
      "_model_module_version": "1.2.0",
      "_model_name": "LayoutModel",
      "_view_count": null,
      "_view_module": "@jupyter-widgets/base",
      "_view_module_version": "1.2.0",
      "_view_name": "LayoutView",
      "align_content": null,
      "align_items": null,
      "align_self": null,
      "border": null,
      "bottom": null,
      "display": null,
      "flex": null,
      "flex_flow": null,
      "grid_area": null,
      "grid_auto_columns": null,
      "grid_auto_flow": null,
      "grid_auto_rows": null,
      "grid_column": null,
      "grid_gap": null,
      "grid_row": null,
      "grid_template_areas": null,
      "grid_template_columns": null,
      "grid_template_rows": null,
      "height": null,
      "justify_content": null,
      "justify_items": null,
      "left": null,
      "margin": null,
      "max_height": null,
      "max_width": null,
      "min_height": null,
      "min_width": null,
      "object_fit": null,
      "object_position": null,
      "order": null,
      "overflow": null,
      "overflow_x": null,
      "overflow_y": null,
      "padding": null,
      "right": null,
      "top": null,
      "visibility": null,
      "width": null
     }
    },
    "39aef89ba5804aca85836e41fa7c9731": {
     "model_module": "@jupyter-widgets/controls",
     "model_module_version": "1.5.0",
     "model_name": "DescriptionStyleModel",
     "state": {
      "_model_module": "@jupyter-widgets/controls",
      "_model_module_version": "1.5.0",
      "_model_name": "DescriptionStyleModel",
      "_view_count": null,
      "_view_module": "@jupyter-widgets/base",
      "_view_module_version": "1.2.0",
      "_view_name": "StyleView",
      "description_width": ""
     }
    },
    "3e15f7127c134e1b98ef6f31398a3342": {
     "model_module": "@jupyter-widgets/controls",
     "model_module_version": "1.5.0",
     "model_name": "HTMLModel",
     "state": {
      "_dom_classes": [],
      "_model_module": "@jupyter-widgets/controls",
      "_model_module_version": "1.5.0",
      "_model_name": "HTMLModel",
      "_view_count": null,
      "_view_module": "@jupyter-widgets/controls",
      "_view_module_version": "1.5.0",
      "_view_name": "HTMLView",
      "description": "",
      "description_tooltip": null,
      "layout": "IPY_MODEL_7637c633acd44741a481f6f9cc5b445c",
      "placeholder": "​",
      "style": "IPY_MODEL_96325a0347794550a2638c40015dc8b3",
      "value": "Downloading data:  24%"
     }
    },
    "450f1a08bfa54b8f8592188e641515ae": {
     "model_module": "@jupyter-widgets/controls",
     "model_module_version": "1.5.0",
     "model_name": "HTMLModel",
     "state": {
      "_dom_classes": [],
      "_model_module": "@jupyter-widgets/controls",
      "_model_module_version": "1.5.0",
      "_model_name": "HTMLModel",
      "_view_count": null,
      "_view_module": "@jupyter-widgets/controls",
      "_view_module_version": "1.5.0",
      "_view_name": "HTMLView",
      "description": "",
      "description_tooltip": null,
      "layout": "IPY_MODEL_ba092a590dbd4f26a52b6088917982a5",
      "placeholder": "​",
      "style": "IPY_MODEL_6d16cafbae064e668fb737428e527672",
      "value": " 220M/919M [00:10&lt;00:13, 50.9MB/s]"
     }
    },
    "491a11524874413495bb9bf53fe64113": {
     "model_module": "@jupyter-widgets/controls",
     "model_module_version": "1.5.0",
     "model_name": "HTMLModel",
     "state": {
      "_dom_classes": [],
      "_model_module": "@jupyter-widgets/controls",
      "_model_module_version": "1.5.0",
      "_model_name": "HTMLModel",
      "_view_count": null,
      "_view_module": "@jupyter-widgets/controls",
      "_view_module_version": "1.5.0",
      "_view_name": "HTMLView",
      "description": "",
      "description_tooltip": null,
      "layout": "IPY_MODEL_1c4cd843698a4da1b1998d83f8eb28e3",
      "placeholder": "​",
      "style": "IPY_MODEL_cff6338861b545eaac1e737f47d9315a",
      "value": "config.json: 100%"
     }
    },
    "4b99be711b9e41bbbe2b10d364979691": {
     "model_module": "@jupyter-widgets/controls",
     "model_module_version": "1.5.0",
     "model_name": "HTMLModel",
     "state": {
      "_dom_classes": [],
      "_model_module": "@jupyter-widgets/controls",
      "_model_module_version": "1.5.0",
      "_model_name": "HTMLModel",
      "_view_count": null,
      "_view_module": "@jupyter-widgets/controls",
      "_view_module_version": "1.5.0",
      "_view_name": "HTMLView",
      "description": "",
      "description_tooltip": null,
      "layout": "IPY_MODEL_10576e28acfd486ab2b6bbe778c08ca5",
      "placeholder": "​",
      "style": "IPY_MODEL_62cc4740ca2f4fa08e72278eb84e899e",
      "value": " 658M/658M [00:22&lt;00:00, 35.4MB/s]"
     }
    },
    "4ba1a752a7af4612a8c75a9974c0567c": {
     "model_module": "@jupyter-widgets/controls",
     "model_module_version": "1.5.0",
     "model_name": "ProgressStyleModel",
     "state": {
      "_model_module": "@jupyter-widgets/controls",
      "_model_module_version": "1.5.0",
      "_model_name": "ProgressStyleModel",
      "_view_count": null,
      "_view_module": "@jupyter-widgets/base",
      "_view_module_version": "1.2.0",
      "_view_name": "StyleView",
      "bar_color": null,
      "description_width": ""
     }
    },
    "4ba1d85d31cf4c73b1d2461e9ca3fa3f": {
     "model_module": "@jupyter-widgets/base",
     "model_module_version": "1.2.0",
     "model_name": "LayoutModel",
     "state": {
      "_model_module": "@jupyter-widgets/base",
      "_model_module_version": "1.2.0",
      "_model_name": "LayoutModel",
      "_view_count": null,
      "_view_module": "@jupyter-widgets/base",
      "_view_module_version": "1.2.0",
      "_view_name": "LayoutView",
      "align_content": null,
      "align_items": null,
      "align_self": null,
      "border": null,
      "bottom": null,
      "display": null,
      "flex": null,
      "flex_flow": null,
      "grid_area": null,
      "grid_auto_columns": null,
      "grid_auto_flow": null,
      "grid_auto_rows": null,
      "grid_column": null,
      "grid_gap": null,
      "grid_row": null,
      "grid_template_areas": null,
      "grid_template_columns": null,
      "grid_template_rows": null,
      "height": null,
      "justify_content": null,
      "justify_items": null,
      "left": null,
      "margin": null,
      "max_height": null,
      "max_width": null,
      "min_height": null,
      "min_width": null,
      "object_fit": null,
      "object_position": null,
      "order": null,
      "overflow": null,
      "overflow_x": null,
      "overflow_y": null,
      "padding": null,
      "right": null,
      "top": null,
      "visibility": null,
      "width": null
     }
    },
    "5045711485d049c9b7e86d128bc8c756": {
     "model_module": "@jupyter-widgets/controls",
     "model_module_version": "1.5.0",
     "model_name": "ProgressStyleModel",
     "state": {
      "_model_module": "@jupyter-widgets/controls",
      "_model_module_version": "1.5.0",
      "_model_name": "ProgressStyleModel",
      "_view_count": null,
      "_view_module": "@jupyter-widgets/base",
      "_view_module_version": "1.2.0",
      "_view_name": "StyleView",
      "bar_color": null,
      "description_width": ""
     }
    },
    "51d3ab28e0974b1989b8f8e99881f9c6": {
     "model_module": "@jupyter-widgets/controls",
     "model_module_version": "1.5.0",
     "model_name": "HTMLModel",
     "state": {
      "_dom_classes": [],
      "_model_module": "@jupyter-widgets/controls",
      "_model_module_version": "1.5.0",
      "_model_name": "HTMLModel",
      "_view_count": null,
      "_view_module": "@jupyter-widgets/controls",
      "_view_module_version": "1.5.0",
      "_view_name": "HTMLView",
      "description": "",
      "description_tooltip": null,
      "layout": "IPY_MODEL_0af9def1b5a5430590dd9534140bb311",
      "placeholder": "​",
      "style": "IPY_MODEL_7da19db5c81a46c19d60903b60a38ba7",
      "value": "Downloading data: 100%"
     }
    },
    "54fb1ae4aa104173b4f69238a988721f": {
     "model_module": "@jupyter-widgets/base",
     "model_module_version": "1.2.0",
     "model_name": "LayoutModel",
     "state": {
      "_model_module": "@jupyter-widgets/base",
      "_model_module_version": "1.2.0",
      "_model_name": "LayoutModel",
      "_view_count": null,
      "_view_module": "@jupyter-widgets/base",
      "_view_module_version": "1.2.0",
      "_view_name": "LayoutView",
      "align_content": null,
      "align_items": null,
      "align_self": null,
      "border": null,
      "bottom": null,
      "display": null,
      "flex": null,
      "flex_flow": null,
      "grid_area": null,
      "grid_auto_columns": null,
      "grid_auto_flow": null,
      "grid_auto_rows": null,
      "grid_column": null,
      "grid_gap": null,
      "grid_row": null,
      "grid_template_areas": null,
      "grid_template_columns": null,
      "grid_template_rows": null,
      "height": null,
      "justify_content": null,
      "justify_items": null,
      "left": null,
      "margin": null,
      "max_height": null,
      "max_width": null,
      "min_height": null,
      "min_width": null,
      "object_fit": null,
      "object_position": null,
      "order": null,
      "overflow": null,
      "overflow_x": null,
      "overflow_y": null,
      "padding": null,
      "right": null,
      "top": null,
      "visibility": null,
      "width": null
     }
    },
    "5589ffd2146d4283987cc21fc26ef832": {
     "model_module": "@jupyter-widgets/controls",
     "model_module_version": "1.5.0",
     "model_name": "ProgressStyleModel",
     "state": {
      "_model_module": "@jupyter-widgets/controls",
      "_model_module_version": "1.5.0",
      "_model_name": "ProgressStyleModel",
      "_view_count": null,
      "_view_module": "@jupyter-widgets/base",
      "_view_module_version": "1.2.0",
      "_view_name": "StyleView",
      "bar_color": null,
      "description_width": ""
     }
    },
    "5a6f1713a0b940bb89b95feeeea26f04": {
     "model_module": "@jupyter-widgets/controls",
     "model_module_version": "1.5.0",
     "model_name": "HTMLModel",
     "state": {
      "_dom_classes": [],
      "_model_module": "@jupyter-widgets/controls",
      "_model_module_version": "1.5.0",
      "_model_name": "HTMLModel",
      "_view_count": null,
      "_view_module": "@jupyter-widgets/controls",
      "_view_module_version": "1.5.0",
      "_view_name": "HTMLView",
      "description": "",
      "description_tooltip": null,
      "layout": "IPY_MODEL_9053436001864c11964cdf9efdb83417",
      "placeholder": "​",
      "style": "IPY_MODEL_2fa7db10a0314900a2787c4bc3b832c0",
      "value": "Downloading data files:  20%"
     }
    },
    "5dd436cb80b74a5d9ae5dea39c817b5a": {
     "model_module": "@jupyter-widgets/base",
     "model_module_version": "1.2.0",
     "model_name": "LayoutModel",
     "state": {
      "_model_module": "@jupyter-widgets/base",
      "_model_module_version": "1.2.0",
      "_model_name": "LayoutModel",
      "_view_count": null,
      "_view_module": "@jupyter-widgets/base",
      "_view_module_version": "1.2.0",
      "_view_name": "LayoutView",
      "align_content": null,
      "align_items": null,
      "align_self": null,
      "border": null,
      "bottom": null,
      "display": null,
      "flex": null,
      "flex_flow": null,
      "grid_area": null,
      "grid_auto_columns": null,
      "grid_auto_flow": null,
      "grid_auto_rows": null,
      "grid_column": null,
      "grid_gap": null,
      "grid_row": null,
      "grid_template_areas": null,
      "grid_template_columns": null,
      "grid_template_rows": null,
      "height": null,
      "justify_content": null,
      "justify_items": null,
      "left": null,
      "margin": null,
      "max_height": null,
      "max_width": null,
      "min_height": null,
      "min_width": null,
      "object_fit": null,
      "object_position": null,
      "order": null,
      "overflow": null,
      "overflow_x": null,
      "overflow_y": null,
      "padding": null,
      "right": null,
      "top": null,
      "visibility": null,
      "width": null
     }
    },
    "62cc4740ca2f4fa08e72278eb84e899e": {
     "model_module": "@jupyter-widgets/controls",
     "model_module_version": "1.5.0",
     "model_name": "DescriptionStyleModel",
     "state": {
      "_model_module": "@jupyter-widgets/controls",
      "_model_module_version": "1.5.0",
      "_model_name": "DescriptionStyleModel",
      "_view_count": null,
      "_view_module": "@jupyter-widgets/base",
      "_view_module_version": "1.2.0",
      "_view_name": "StyleView",
      "description_width": ""
     }
    },
    "66a500e84edc4fad856fa376e0221782": {
     "model_module": "@jupyter-widgets/controls",
     "model_module_version": "1.5.0",
     "model_name": "ProgressStyleModel",
     "state": {
      "_model_module": "@jupyter-widgets/controls",
      "_model_module_version": "1.5.0",
      "_model_name": "ProgressStyleModel",
      "_view_count": null,
      "_view_module": "@jupyter-widgets/base",
      "_view_module_version": "1.2.0",
      "_view_name": "StyleView",
      "bar_color": null,
      "description_width": ""
     }
    },
    "692a6632dba94a8ea1086bbc510b2398": {
     "model_module": "@jupyter-widgets/controls",
     "model_module_version": "1.5.0",
     "model_name": "ProgressStyleModel",
     "state": {
      "_model_module": "@jupyter-widgets/controls",
      "_model_module_version": "1.5.0",
      "_model_name": "ProgressStyleModel",
      "_view_count": null,
      "_view_module": "@jupyter-widgets/base",
      "_view_module_version": "1.2.0",
      "_view_name": "StyleView",
      "bar_color": null,
      "description_width": ""
     }
    },
    "6cd92474e9c24c6d8c83361521a37379": {
     "model_module": "@jupyter-widgets/base",
     "model_module_version": "1.2.0",
     "model_name": "LayoutModel",
     "state": {
      "_model_module": "@jupyter-widgets/base",
      "_model_module_version": "1.2.0",
      "_model_name": "LayoutModel",
      "_view_count": null,
      "_view_module": "@jupyter-widgets/base",
      "_view_module_version": "1.2.0",
      "_view_name": "LayoutView",
      "align_content": null,
      "align_items": null,
      "align_self": null,
      "border": null,
      "bottom": null,
      "display": null,
      "flex": null,
      "flex_flow": null,
      "grid_area": null,
      "grid_auto_columns": null,
      "grid_auto_flow": null,
      "grid_auto_rows": null,
      "grid_column": null,
      "grid_gap": null,
      "grid_row": null,
      "grid_template_areas": null,
      "grid_template_columns": null,
      "grid_template_rows": null,
      "height": null,
      "justify_content": null,
      "justify_items": null,
      "left": null,
      "margin": null,
      "max_height": null,
      "max_width": null,
      "min_height": null,
      "min_width": null,
      "object_fit": null,
      "object_position": null,
      "order": null,
      "overflow": null,
      "overflow_x": null,
      "overflow_y": null,
      "padding": null,
      "right": null,
      "top": null,
      "visibility": null,
      "width": null
     }
    },
    "6d16cafbae064e668fb737428e527672": {
     "model_module": "@jupyter-widgets/controls",
     "model_module_version": "1.5.0",
     "model_name": "DescriptionStyleModel",
     "state": {
      "_model_module": "@jupyter-widgets/controls",
      "_model_module_version": "1.5.0",
      "_model_name": "DescriptionStyleModel",
      "_view_count": null,
      "_view_module": "@jupyter-widgets/base",
      "_view_module_version": "1.2.0",
      "_view_name": "StyleView",
      "description_width": ""
     }
    },
    "6e00864c5bf349a5af4096437026c518": {
     "model_module": "@jupyter-widgets/base",
     "model_module_version": "1.2.0",
     "model_name": "LayoutModel",
     "state": {
      "_model_module": "@jupyter-widgets/base",
      "_model_module_version": "1.2.0",
      "_model_name": "LayoutModel",
      "_view_count": null,
      "_view_module": "@jupyter-widgets/base",
      "_view_module_version": "1.2.0",
      "_view_name": "LayoutView",
      "align_content": null,
      "align_items": null,
      "align_self": null,
      "border": null,
      "bottom": null,
      "display": null,
      "flex": null,
      "flex_flow": null,
      "grid_area": null,
      "grid_auto_columns": null,
      "grid_auto_flow": null,
      "grid_auto_rows": null,
      "grid_column": null,
      "grid_gap": null,
      "grid_row": null,
      "grid_template_areas": null,
      "grid_template_columns": null,
      "grid_template_rows": null,
      "height": null,
      "justify_content": null,
      "justify_items": null,
      "left": null,
      "margin": null,
      "max_height": null,
      "max_width": null,
      "min_height": null,
      "min_width": null,
      "object_fit": null,
      "object_position": null,
      "order": null,
      "overflow": null,
      "overflow_x": null,
      "overflow_y": null,
      "padding": null,
      "right": null,
      "top": null,
      "visibility": null,
      "width": null
     }
    },
    "70ce99eaf7d04b50988740078fd4b8f4": {
     "model_module": "@jupyter-widgets/base",
     "model_module_version": "1.2.0",
     "model_name": "LayoutModel",
     "state": {
      "_model_module": "@jupyter-widgets/base",
      "_model_module_version": "1.2.0",
      "_model_name": "LayoutModel",
      "_view_count": null,
      "_view_module": "@jupyter-widgets/base",
      "_view_module_version": "1.2.0",
      "_view_name": "LayoutView",
      "align_content": null,
      "align_items": null,
      "align_self": null,
      "border": null,
      "bottom": null,
      "display": null,
      "flex": null,
      "flex_flow": null,
      "grid_area": null,
      "grid_auto_columns": null,
      "grid_auto_flow": null,
      "grid_auto_rows": null,
      "grid_column": null,
      "grid_gap": null,
      "grid_row": null,
      "grid_template_areas": null,
      "grid_template_columns": null,
      "grid_template_rows": null,
      "height": null,
      "justify_content": null,
      "justify_items": null,
      "left": null,
      "margin": null,
      "max_height": null,
      "max_width": null,
      "min_height": null,
      "min_width": null,
      "object_fit": null,
      "object_position": null,
      "order": null,
      "overflow": null,
      "overflow_x": null,
      "overflow_y": null,
      "padding": null,
      "right": null,
      "top": null,
      "visibility": null,
      "width": null
     }
    },
    "727bf859ebea4654bedad901845f33af": {
     "model_module": "@jupyter-widgets/base",
     "model_module_version": "1.2.0",
     "model_name": "LayoutModel",
     "state": {
      "_model_module": "@jupyter-widgets/base",
      "_model_module_version": "1.2.0",
      "_model_name": "LayoutModel",
      "_view_count": null,
      "_view_module": "@jupyter-widgets/base",
      "_view_module_version": "1.2.0",
      "_view_name": "LayoutView",
      "align_content": null,
      "align_items": null,
      "align_self": null,
      "border": null,
      "bottom": null,
      "display": null,
      "flex": null,
      "flex_flow": null,
      "grid_area": null,
      "grid_auto_columns": null,
      "grid_auto_flow": null,
      "grid_auto_rows": null,
      "grid_column": null,
      "grid_gap": null,
      "grid_row": null,
      "grid_template_areas": null,
      "grid_template_columns": null,
      "grid_template_rows": null,
      "height": null,
      "justify_content": null,
      "justify_items": null,
      "left": null,
      "margin": null,
      "max_height": null,
      "max_width": null,
      "min_height": null,
      "min_width": null,
      "object_fit": null,
      "object_position": null,
      "order": null,
      "overflow": null,
      "overflow_x": null,
      "overflow_y": null,
      "padding": null,
      "right": null,
      "top": null,
      "visibility": null,
      "width": null
     }
    },
    "7637c633acd44741a481f6f9cc5b445c": {
     "model_module": "@jupyter-widgets/base",
     "model_module_version": "1.2.0",
     "model_name": "LayoutModel",
     "state": {
      "_model_module": "@jupyter-widgets/base",
      "_model_module_version": "1.2.0",
      "_model_name": "LayoutModel",
      "_view_count": null,
      "_view_module": "@jupyter-widgets/base",
      "_view_module_version": "1.2.0",
      "_view_name": "LayoutView",
      "align_content": null,
      "align_items": null,
      "align_self": null,
      "border": null,
      "bottom": null,
      "display": null,
      "flex": null,
      "flex_flow": null,
      "grid_area": null,
      "grid_auto_columns": null,
      "grid_auto_flow": null,
      "grid_auto_rows": null,
      "grid_column": null,
      "grid_gap": null,
      "grid_row": null,
      "grid_template_areas": null,
      "grid_template_columns": null,
      "grid_template_rows": null,
      "height": null,
      "justify_content": null,
      "justify_items": null,
      "left": null,
      "margin": null,
      "max_height": null,
      "max_width": null,
      "min_height": null,
      "min_width": null,
      "object_fit": null,
      "object_position": null,
      "order": null,
      "overflow": null,
      "overflow_x": null,
      "overflow_y": null,
      "padding": null,
      "right": null,
      "top": null,
      "visibility": null,
      "width": null
     }
    },
    "76f8e12af74741f8a16fd6659a0ec754": {
     "model_module": "@jupyter-widgets/controls",
     "model_module_version": "1.5.0",
     "model_name": "HTMLModel",
     "state": {
      "_dom_classes": [],
      "_model_module": "@jupyter-widgets/controls",
      "_model_module_version": "1.5.0",
      "_model_name": "HTMLModel",
      "_view_count": null,
      "_view_module": "@jupyter-widgets/controls",
      "_view_module_version": "1.5.0",
      "_view_name": "HTMLView",
      "description": "",
      "description_tooltip": null,
      "layout": "IPY_MODEL_3901fe62635847eda92a5cfffce73f44",
      "placeholder": "​",
      "style": "IPY_MODEL_c7ede49f0b42477fbcb78d137a1917af",
      "value": "Downloading extra modules: 100%"
     }
    },
    "78738d886a064d6fbe7ad2e990d92b2f": {
     "model_module": "@jupyter-widgets/controls",
     "model_module_version": "1.5.0",
     "model_name": "DescriptionStyleModel",
     "state": {
      "_model_module": "@jupyter-widgets/controls",
      "_model_module_version": "1.5.0",
      "_model_name": "DescriptionStyleModel",
      "_view_count": null,
      "_view_module": "@jupyter-widgets/base",
      "_view_module_version": "1.2.0",
      "_view_name": "StyleView",
      "description_width": ""
     }
    },
    "7a0eb106569a4fd88d5d300e7faf5e73": {
     "model_module": "@jupyter-widgets/base",
     "model_module_version": "1.2.0",
     "model_name": "LayoutModel",
     "state": {
      "_model_module": "@jupyter-widgets/base",
      "_model_module_version": "1.2.0",
      "_model_name": "LayoutModel",
      "_view_count": null,
      "_view_module": "@jupyter-widgets/base",
      "_view_module_version": "1.2.0",
      "_view_name": "LayoutView",
      "align_content": null,
      "align_items": null,
      "align_self": null,
      "border": null,
      "bottom": null,
      "display": null,
      "flex": null,
      "flex_flow": null,
      "grid_area": null,
      "grid_auto_columns": null,
      "grid_auto_flow": null,
      "grid_auto_rows": null,
      "grid_column": null,
      "grid_gap": null,
      "grid_row": null,
      "grid_template_areas": null,
      "grid_template_columns": null,
      "grid_template_rows": null,
      "height": null,
      "justify_content": null,
      "justify_items": null,
      "left": null,
      "margin": null,
      "max_height": null,
      "max_width": null,
      "min_height": null,
      "min_width": null,
      "object_fit": null,
      "object_position": null,
      "order": null,
      "overflow": null,
      "overflow_x": null,
      "overflow_y": null,
      "padding": null,
      "right": null,
      "top": null,
      "visibility": null,
      "width": null
     }
    },
    "7a5c80b941f342fbb72517766f8fa77b": {
     "model_module": "@jupyter-widgets/controls",
     "model_module_version": "1.5.0",
     "model_name": "HBoxModel",
     "state": {
      "_dom_classes": [],
      "_model_module": "@jupyter-widgets/controls",
      "_model_module_version": "1.5.0",
      "_model_name": "HBoxModel",
      "_view_count": null,
      "_view_module": "@jupyter-widgets/controls",
      "_view_module_version": "1.5.0",
      "_view_name": "HBoxView",
      "box_style": "",
      "children": [
       "IPY_MODEL_491a11524874413495bb9bf53fe64113",
       "IPY_MODEL_22b10384513c41ef80736828394fffd2",
       "IPY_MODEL_b6982334204845b1b3e716ae310930f8"
      ],
      "layout": "IPY_MODEL_4ba1d85d31cf4c73b1d2461e9ca3fa3f"
     }
    },
    "7a658a63bd414a8eb2a136632b0e7a70": {
     "model_module": "@jupyter-widgets/controls",
     "model_module_version": "1.5.0",
     "model_name": "FloatProgressModel",
     "state": {
      "_dom_classes": [],
      "_model_module": "@jupyter-widgets/controls",
      "_model_module_version": "1.5.0",
      "_model_name": "FloatProgressModel",
      "_view_count": null,
      "_view_module": "@jupyter-widgets/controls",
      "_view_module_version": "1.5.0",
      "_view_name": "ProgressView",
      "bar_style": "",
      "description": "",
      "description_tooltip": null,
      "layout": "IPY_MODEL_6cd92474e9c24c6d8c83361521a37379",
      "max": 918734483,
      "min": 0,
      "orientation": "horizontal",
      "style": "IPY_MODEL_c677d4d0a047489dad1b9f0ef831f9ae",
      "value": 220442624
     }
    },
    "7b81e29328af467c817bef449053bf57": {
     "model_module": "@jupyter-widgets/controls",
     "model_module_version": "1.5.0",
     "model_name": "HTMLModel",
     "state": {
      "_dom_classes": [],
      "_model_module": "@jupyter-widgets/controls",
      "_model_module_version": "1.5.0",
      "_model_name": "HTMLModel",
      "_view_count": null,
      "_view_module": "@jupyter-widgets/controls",
      "_view_module_version": "1.5.0",
      "_view_name": "HTMLView",
      "description": "",
      "description_tooltip": null,
      "layout": "IPY_MODEL_0f0ea1227b7e45898abbb5c3af8f90b1",
      "placeholder": "​",
      "style": "IPY_MODEL_34a022a1dc6f47aaab91b56ccb2b7d44",
      "value": " 1/5 [00:23&lt;01:32, 23.20s/it]"
     }
    },
    "7c5d246761cb4feebe260b6e0cd186a7": {
     "model_module": "@jupyter-widgets/controls",
     "model_module_version": "1.5.0",
     "model_name": "ProgressStyleModel",
     "state": {
      "_model_module": "@jupyter-widgets/controls",
      "_model_module_version": "1.5.0",
      "_model_name": "ProgressStyleModel",
      "_view_count": null,
      "_view_module": "@jupyter-widgets/base",
      "_view_module_version": "1.2.0",
      "_view_name": "StyleView",
      "bar_color": null,
      "description_width": ""
     }
    },
    "7c710f2d585045abac6acdea3b8d1316": {
     "model_module": "@jupyter-widgets/base",
     "model_module_version": "1.2.0",
     "model_name": "LayoutModel",
     "state": {
      "_model_module": "@jupyter-widgets/base",
      "_model_module_version": "1.2.0",
      "_model_name": "LayoutModel",
      "_view_count": null,
      "_view_module": "@jupyter-widgets/base",
      "_view_module_version": "1.2.0",
      "_view_name": "LayoutView",
      "align_content": null,
      "align_items": null,
      "align_self": null,
      "border": null,
      "bottom": null,
      "display": null,
      "flex": null,
      "flex_flow": null,
      "grid_area": null,
      "grid_auto_columns": null,
      "grid_auto_flow": null,
      "grid_auto_rows": null,
      "grid_column": null,
      "grid_gap": null,
      "grid_row": null,
      "grid_template_areas": null,
      "grid_template_columns": null,
      "grid_template_rows": null,
      "height": null,
      "justify_content": null,
      "justify_items": null,
      "left": null,
      "margin": null,
      "max_height": null,
      "max_width": null,
      "min_height": null,
      "min_width": null,
      "object_fit": null,
      "object_position": null,
      "order": null,
      "overflow": null,
      "overflow_x": null,
      "overflow_y": null,
      "padding": null,
      "right": null,
      "top": null,
      "visibility": null,
      "width": null
     }
    },
    "7da19db5c81a46c19d60903b60a38ba7": {
     "model_module": "@jupyter-widgets/controls",
     "model_module_version": "1.5.0",
     "model_name": "DescriptionStyleModel",
     "state": {
      "_model_module": "@jupyter-widgets/controls",
      "_model_module_version": "1.5.0",
      "_model_name": "DescriptionStyleModel",
      "_view_count": null,
      "_view_module": "@jupyter-widgets/base",
      "_view_module_version": "1.2.0",
      "_view_name": "StyleView",
      "description_width": ""
     }
    },
    "808b8c2b44ad47bd89365cedbedb2d9d": {
     "model_module": "@jupyter-widgets/controls",
     "model_module_version": "1.5.0",
     "model_name": "ProgressStyleModel",
     "state": {
      "_model_module": "@jupyter-widgets/controls",
      "_model_module_version": "1.5.0",
      "_model_name": "ProgressStyleModel",
      "_view_count": null,
      "_view_module": "@jupyter-widgets/base",
      "_view_module_version": "1.2.0",
      "_view_name": "StyleView",
      "bar_color": null,
      "description_width": ""
     }
    },
    "8713fb7cd12c4841b38aa62742123263": {
     "model_module": "@jupyter-widgets/controls",
     "model_module_version": "1.5.0",
     "model_name": "FloatProgressModel",
     "state": {
      "_dom_classes": [],
      "_model_module": "@jupyter-widgets/controls",
      "_model_module_version": "1.5.0",
      "_model_name": "FloatProgressModel",
      "_view_count": null,
      "_view_module": "@jupyter-widgets/controls",
      "_view_module_version": "1.5.0",
      "_view_name": "ProgressView",
      "bar_style": "success",
      "description": "",
      "description_tooltip": null,
      "layout": "IPY_MODEL_ef478c4a0e1448a5a205fda30c30a158",
      "max": 9368,
      "min": 0,
      "orientation": "horizontal",
      "style": "IPY_MODEL_dc850ae789a349be8c04f0dca90a3e83",
      "value": 9368
     }
    },
    "8748dff6f42e4752936c56f0edffe82e": {
     "model_module": "@jupyter-widgets/base",
     "model_module_version": "1.2.0",
     "model_name": "LayoutModel",
     "state": {
      "_model_module": "@jupyter-widgets/base",
      "_model_module_version": "1.2.0",
      "_model_name": "LayoutModel",
      "_view_count": null,
      "_view_module": "@jupyter-widgets/base",
      "_view_module_version": "1.2.0",
      "_view_name": "LayoutView",
      "align_content": null,
      "align_items": null,
      "align_self": null,
      "border": null,
      "bottom": null,
      "display": null,
      "flex": null,
      "flex_flow": null,
      "grid_area": null,
      "grid_auto_columns": null,
      "grid_auto_flow": null,
      "grid_auto_rows": null,
      "grid_column": null,
      "grid_gap": null,
      "grid_row": null,
      "grid_template_areas": null,
      "grid_template_columns": null,
      "grid_template_rows": null,
      "height": null,
      "justify_content": null,
      "justify_items": null,
      "left": null,
      "margin": null,
      "max_height": null,
      "max_width": null,
      "min_height": null,
      "min_width": null,
      "object_fit": null,
      "object_position": null,
      "order": null,
      "overflow": null,
      "overflow_x": null,
      "overflow_y": null,
      "padding": null,
      "right": null,
      "top": null,
      "visibility": null,
      "width": null
     }
    },
    "88c33479cf3b4aa2aa4594657ed081d8": {
     "model_module": "@jupyter-widgets/controls",
     "model_module_version": "1.5.0",
     "model_name": "DescriptionStyleModel",
     "state": {
      "_model_module": "@jupyter-widgets/controls",
      "_model_module_version": "1.5.0",
      "_model_name": "DescriptionStyleModel",
      "_view_count": null,
      "_view_module": "@jupyter-widgets/base",
      "_view_module_version": "1.2.0",
      "_view_name": "StyleView",
      "description_width": ""
     }
    },
    "8c8f82b94a7d4439bd966e4ac6372243": {
     "model_module": "@jupyter-widgets/controls",
     "model_module_version": "1.5.0",
     "model_name": "FloatProgressModel",
     "state": {
      "_dom_classes": [],
      "_model_module": "@jupyter-widgets/controls",
      "_model_module_version": "1.5.0",
      "_model_name": "FloatProgressModel",
      "_view_count": null,
      "_view_module": "@jupyter-widgets/controls",
      "_view_module_version": "1.5.0",
      "_view_name": "ProgressView",
      "bar_style": "success",
      "description": "",
      "description_tooltip": null,
      "layout": "IPY_MODEL_727bf859ebea4654bedad901845f33af",
      "max": 658092427,
      "min": 0,
      "orientation": "horizontal",
      "style": "IPY_MODEL_66a500e84edc4fad856fa376e0221782",
      "value": 658092427
     }
    },
    "8f60f6c0a8f44b0ab78bcdee3b6eee32": {
     "model_module": "@jupyter-widgets/controls",
     "model_module_version": "1.5.0",
     "model_name": "HBoxModel",
     "state": {
      "_dom_classes": [],
      "_model_module": "@jupyter-widgets/controls",
      "_model_module_version": "1.5.0",
      "_model_name": "HBoxModel",
      "_view_count": null,
      "_view_module": "@jupyter-widgets/controls",
      "_view_module_version": "1.5.0",
      "_view_name": "HBoxView",
      "box_style": "",
      "children": [
       "IPY_MODEL_76f8e12af74741f8a16fd6659a0ec754",
       "IPY_MODEL_29e7b43f1947403bb7c4c75cd68a2a3d",
       "IPY_MODEL_26acace78c764ebe9467d3bc29bb0919"
      ],
      "layout": "IPY_MODEL_26108e809d4b4869b659d64255af4f69"
     }
    },
    "9053436001864c11964cdf9efdb83417": {
     "model_module": "@jupyter-widgets/base",
     "model_module_version": "1.2.0",
     "model_name": "LayoutModel",
     "state": {
      "_model_module": "@jupyter-widgets/base",
      "_model_module_version": "1.2.0",
      "_model_name": "LayoutModel",
      "_view_count": null,
      "_view_module": "@jupyter-widgets/base",
      "_view_module_version": "1.2.0",
      "_view_name": "LayoutView",
      "align_content": null,
      "align_items": null,
      "align_self": null,
      "border": null,
      "bottom": null,
      "display": null,
      "flex": null,
      "flex_flow": null,
      "grid_area": null,
      "grid_auto_columns": null,
      "grid_auto_flow": null,
      "grid_auto_rows": null,
      "grid_column": null,
      "grid_gap": null,
      "grid_row": null,
      "grid_template_areas": null,
      "grid_template_columns": null,
      "grid_template_rows": null,
      "height": null,
      "justify_content": null,
      "justify_items": null,
      "left": null,
      "margin": null,
      "max_height": null,
      "max_width": null,
      "min_height": null,
      "min_width": null,
      "object_fit": null,
      "object_position": null,
      "order": null,
      "overflow": null,
      "overflow_x": null,
      "overflow_y": null,
      "padding": null,
      "right": null,
      "top": null,
      "visibility": null,
      "width": null
     }
    },
    "96325a0347794550a2638c40015dc8b3": {
     "model_module": "@jupyter-widgets/controls",
     "model_module_version": "1.5.0",
     "model_name": "DescriptionStyleModel",
     "state": {
      "_model_module": "@jupyter-widgets/controls",
      "_model_module_version": "1.5.0",
      "_model_name": "DescriptionStyleModel",
      "_view_count": null,
      "_view_module": "@jupyter-widgets/base",
      "_view_module_version": "1.2.0",
      "_view_name": "StyleView",
      "description_width": ""
     }
    },
    "98e7f7013edf4be0b750f4a46ca5a68e": {
     "model_module": "@jupyter-widgets/base",
     "model_module_version": "1.2.0",
     "model_name": "LayoutModel",
     "state": {
      "_model_module": "@jupyter-widgets/base",
      "_model_module_version": "1.2.0",
      "_model_name": "LayoutModel",
      "_view_count": null,
      "_view_module": "@jupyter-widgets/base",
      "_view_module_version": "1.2.0",
      "_view_name": "LayoutView",
      "align_content": null,
      "align_items": null,
      "align_self": null,
      "border": null,
      "bottom": null,
      "display": null,
      "flex": null,
      "flex_flow": null,
      "grid_area": null,
      "grid_auto_columns": null,
      "grid_auto_flow": null,
      "grid_auto_rows": null,
      "grid_column": null,
      "grid_gap": null,
      "grid_row": null,
      "grid_template_areas": null,
      "grid_template_columns": null,
      "grid_template_rows": null,
      "height": null,
      "justify_content": null,
      "justify_items": null,
      "left": null,
      "margin": null,
      "max_height": null,
      "max_width": null,
      "min_height": null,
      "min_width": null,
      "object_fit": null,
      "object_position": null,
      "order": null,
      "overflow": null,
      "overflow_x": null,
      "overflow_y": null,
      "padding": null,
      "right": null,
      "top": null,
      "visibility": null,
      "width": null
     }
    },
    "9a4aa6084bfd4910a3f87c8190fd3fc3": {
     "model_module": "@jupyter-widgets/controls",
     "model_module_version": "1.5.0",
     "model_name": "DescriptionStyleModel",
     "state": {
      "_model_module": "@jupyter-widgets/controls",
      "_model_module_version": "1.5.0",
      "_model_name": "DescriptionStyleModel",
      "_view_count": null,
      "_view_module": "@jupyter-widgets/base",
      "_view_module_version": "1.2.0",
      "_view_name": "StyleView",
      "description_width": ""
     }
    },
    "9d8eae6755a143c5836314781fcabf1a": {
     "model_module": "@jupyter-widgets/controls",
     "model_module_version": "1.5.0",
     "model_name": "FloatProgressModel",
     "state": {
      "_dom_classes": [],
      "_model_module": "@jupyter-widgets/controls",
      "_model_module_version": "1.5.0",
      "_model_name": "FloatProgressModel",
      "_view_count": null,
      "_view_module": "@jupyter-widgets/controls",
      "_view_module_version": "1.5.0",
      "_view_name": "ProgressView",
      "bar_style": "success",
      "description": "",
      "description_tooltip": null,
      "layout": "IPY_MODEL_a099a43058d14eb39cb50705f1eb719c",
      "max": 2966,
      "min": 0,
      "orientation": "horizontal",
      "style": "IPY_MODEL_808b8c2b44ad47bd89365cedbedb2d9d",
      "value": 2966
     }
    },
    "a099a43058d14eb39cb50705f1eb719c": {
     "model_module": "@jupyter-widgets/base",
     "model_module_version": "1.2.0",
     "model_name": "LayoutModel",
     "state": {
      "_model_module": "@jupyter-widgets/base",
      "_model_module_version": "1.2.0",
      "_model_name": "LayoutModel",
      "_view_count": null,
      "_view_module": "@jupyter-widgets/base",
      "_view_module_version": "1.2.0",
      "_view_name": "LayoutView",
      "align_content": null,
      "align_items": null,
      "align_self": null,
      "border": null,
      "bottom": null,
      "display": null,
      "flex": null,
      "flex_flow": null,
      "grid_area": null,
      "grid_auto_columns": null,
      "grid_auto_flow": null,
      "grid_auto_rows": null,
      "grid_column": null,
      "grid_gap": null,
      "grid_row": null,
      "grid_template_areas": null,
      "grid_template_columns": null,
      "grid_template_rows": null,
      "height": null,
      "justify_content": null,
      "justify_items": null,
      "left": null,
      "margin": null,
      "max_height": null,
      "max_width": null,
      "min_height": null,
      "min_width": null,
      "object_fit": null,
      "object_position": null,
      "order": null,
      "overflow": null,
      "overflow_x": null,
      "overflow_y": null,
      "padding": null,
      "right": null,
      "top": null,
      "visibility": null,
      "width": null
     }
    },
    "ae8070cb99784bab9229e8a91c092085": {
     "model_module": "@jupyter-widgets/controls",
     "model_module_version": "1.5.0",
     "model_name": "DescriptionStyleModel",
     "state": {
      "_model_module": "@jupyter-widgets/controls",
      "_model_module_version": "1.5.0",
      "_model_name": "DescriptionStyleModel",
      "_view_count": null,
      "_view_module": "@jupyter-widgets/base",
      "_view_module_version": "1.2.0",
      "_view_name": "StyleView",
      "description_width": ""
     }
    },
    "b2e5f8bb65f945fc98f1671694c6750b": {
     "model_module": "@jupyter-widgets/base",
     "model_module_version": "1.2.0",
     "model_name": "LayoutModel",
     "state": {
      "_model_module": "@jupyter-widgets/base",
      "_model_module_version": "1.2.0",
      "_model_name": "LayoutModel",
      "_view_count": null,
      "_view_module": "@jupyter-widgets/base",
      "_view_module_version": "1.2.0",
      "_view_name": "LayoutView",
      "align_content": null,
      "align_items": null,
      "align_self": null,
      "border": null,
      "bottom": null,
      "display": null,
      "flex": null,
      "flex_flow": null,
      "grid_area": null,
      "grid_auto_columns": null,
      "grid_auto_flow": null,
      "grid_auto_rows": null,
      "grid_column": null,
      "grid_gap": null,
      "grid_row": null,
      "grid_template_areas": null,
      "grid_template_columns": null,
      "grid_template_rows": null,
      "height": null,
      "justify_content": null,
      "justify_items": null,
      "left": null,
      "margin": null,
      "max_height": null,
      "max_width": null,
      "min_height": null,
      "min_width": null,
      "object_fit": null,
      "object_position": null,
      "order": null,
      "overflow": null,
      "overflow_x": null,
      "overflow_y": null,
      "padding": null,
      "right": null,
      "top": null,
      "visibility": null,
      "width": null
     }
    },
    "b379d3eabb7049e1b222f8082bc16b57": {
     "model_module": "@jupyter-widgets/base",
     "model_module_version": "1.2.0",
     "model_name": "LayoutModel",
     "state": {
      "_model_module": "@jupyter-widgets/base",
      "_model_module_version": "1.2.0",
      "_model_name": "LayoutModel",
      "_view_count": null,
      "_view_module": "@jupyter-widgets/base",
      "_view_module_version": "1.2.0",
      "_view_name": "LayoutView",
      "align_content": null,
      "align_items": null,
      "align_self": null,
      "border": null,
      "bottom": null,
      "display": null,
      "flex": null,
      "flex_flow": null,
      "grid_area": null,
      "grid_auto_columns": null,
      "grid_auto_flow": null,
      "grid_auto_rows": null,
      "grid_column": null,
      "grid_gap": null,
      "grid_row": null,
      "grid_template_areas": null,
      "grid_template_columns": null,
      "grid_template_rows": null,
      "height": null,
      "justify_content": null,
      "justify_items": null,
      "left": null,
      "margin": null,
      "max_height": null,
      "max_width": null,
      "min_height": null,
      "min_width": null,
      "object_fit": null,
      "object_position": null,
      "order": null,
      "overflow": null,
      "overflow_x": null,
      "overflow_y": null,
      "padding": null,
      "right": null,
      "top": null,
      "visibility": null,
      "width": null
     }
    },
    "b6982334204845b1b3e716ae310930f8": {
     "model_module": "@jupyter-widgets/controls",
     "model_module_version": "1.5.0",
     "model_name": "HTMLModel",
     "state": {
      "_dom_classes": [],
      "_model_module": "@jupyter-widgets/controls",
      "_model_module_version": "1.5.0",
      "_model_name": "HTMLModel",
      "_view_count": null,
      "_view_module": "@jupyter-widgets/controls",
      "_view_module_version": "1.5.0",
      "_view_name": "HTMLView",
      "description": "",
      "description_tooltip": null,
      "layout": "IPY_MODEL_0b9a357a642b474da4765d7c80dfe07f",
      "placeholder": "​",
      "style": "IPY_MODEL_b8cc31cc50ff42f094173caa2e790c1d",
      "value": " 491/491 [00:00&lt;00:00, 16.1kB/s]"
     }
    },
    "b7fd619b3cad4b3cae5f58ba5e268a3a": {
     "model_module": "@jupyter-widgets/controls",
     "model_module_version": "1.5.0",
     "model_name": "HTMLModel",
     "state": {
      "_dom_classes": [],
      "_model_module": "@jupyter-widgets/controls",
      "_model_module_version": "1.5.0",
      "_model_name": "HTMLModel",
      "_view_count": null,
      "_view_module": "@jupyter-widgets/controls",
      "_view_module_version": "1.5.0",
      "_view_name": "HTMLView",
      "description": "",
      "description_tooltip": null,
      "layout": "IPY_MODEL_70ce99eaf7d04b50988740078fd4b8f4",
      "placeholder": "​",
      "style": "IPY_MODEL_39aef89ba5804aca85836e41fa7c9731",
      "value": " 9.37k/9.37k [00:00&lt;00:00, 372kB/s]"
     }
    },
    "b8cc31cc50ff42f094173caa2e790c1d": {
     "model_module": "@jupyter-widgets/controls",
     "model_module_version": "1.5.0",
     "model_name": "DescriptionStyleModel",
     "state": {
      "_model_module": "@jupyter-widgets/controls",
      "_model_module_version": "1.5.0",
      "_model_name": "DescriptionStyleModel",
      "_view_count": null,
      "_view_module": "@jupyter-widgets/base",
      "_view_module_version": "1.2.0",
      "_view_name": "StyleView",
      "description_width": ""
     }
    },
    "ba092a590dbd4f26a52b6088917982a5": {
     "model_module": "@jupyter-widgets/base",
     "model_module_version": "1.2.0",
     "model_name": "LayoutModel",
     "state": {
      "_model_module": "@jupyter-widgets/base",
      "_model_module_version": "1.2.0",
      "_model_name": "LayoutModel",
      "_view_count": null,
      "_view_module": "@jupyter-widgets/base",
      "_view_module_version": "1.2.0",
      "_view_name": "LayoutView",
      "align_content": null,
      "align_items": null,
      "align_self": null,
      "border": null,
      "bottom": null,
      "display": null,
      "flex": null,
      "flex_flow": null,
      "grid_area": null,
      "grid_auto_columns": null,
      "grid_auto_flow": null,
      "grid_auto_rows": null,
      "grid_column": null,
      "grid_gap": null,
      "grid_row": null,
      "grid_template_areas": null,
      "grid_template_columns": null,
      "grid_template_rows": null,
      "height": null,
      "justify_content": null,
      "justify_items": null,
      "left": null,
      "margin": null,
      "max_height": null,
      "max_width": null,
      "min_height": null,
      "min_width": null,
      "object_fit": null,
      "object_position": null,
      "order": null,
      "overflow": null,
      "overflow_x": null,
      "overflow_y": null,
      "padding": null,
      "right": null,
      "top": null,
      "visibility": null,
      "width": null
     }
    },
    "bdc7493e9837480a9eeff1803470aff0": {
     "model_module": "@jupyter-widgets/base",
     "model_module_version": "1.2.0",
     "model_name": "LayoutModel",
     "state": {
      "_model_module": "@jupyter-widgets/base",
      "_model_module_version": "1.2.0",
      "_model_name": "LayoutModel",
      "_view_count": null,
      "_view_module": "@jupyter-widgets/base",
      "_view_module_version": "1.2.0",
      "_view_name": "LayoutView",
      "align_content": null,
      "align_items": null,
      "align_self": null,
      "border": null,
      "bottom": null,
      "display": null,
      "flex": null,
      "flex_flow": null,
      "grid_area": null,
      "grid_auto_columns": null,
      "grid_auto_flow": null,
      "grid_auto_rows": null,
      "grid_column": null,
      "grid_gap": null,
      "grid_row": null,
      "grid_template_areas": null,
      "grid_template_columns": null,
      "grid_template_rows": null,
      "height": null,
      "justify_content": null,
      "justify_items": null,
      "left": null,
      "margin": null,
      "max_height": null,
      "max_width": null,
      "min_height": null,
      "min_width": null,
      "object_fit": null,
      "object_position": null,
      "order": null,
      "overflow": null,
      "overflow_x": null,
      "overflow_y": null,
      "padding": null,
      "right": null,
      "top": null,
      "visibility": null,
      "width": null
     }
    },
    "c440e044b9d14296bd1bcc42d2eab9fd": {
     "model_module": "@jupyter-widgets/base",
     "model_module_version": "1.2.0",
     "model_name": "LayoutModel",
     "state": {
      "_model_module": "@jupyter-widgets/base",
      "_model_module_version": "1.2.0",
      "_model_name": "LayoutModel",
      "_view_count": null,
      "_view_module": "@jupyter-widgets/base",
      "_view_module_version": "1.2.0",
      "_view_name": "LayoutView",
      "align_content": null,
      "align_items": null,
      "align_self": null,
      "border": null,
      "bottom": null,
      "display": null,
      "flex": null,
      "flex_flow": null,
      "grid_area": null,
      "grid_auto_columns": null,
      "grid_auto_flow": null,
      "grid_auto_rows": null,
      "grid_column": null,
      "grid_gap": null,
      "grid_row": null,
      "grid_template_areas": null,
      "grid_template_columns": null,
      "grid_template_rows": null,
      "height": null,
      "justify_content": null,
      "justify_items": null,
      "left": null,
      "margin": null,
      "max_height": null,
      "max_width": null,
      "min_height": null,
      "min_width": null,
      "object_fit": null,
      "object_position": null,
      "order": null,
      "overflow": null,
      "overflow_x": null,
      "overflow_y": null,
      "padding": null,
      "right": null,
      "top": null,
      "visibility": null,
      "width": null
     }
    },
    "c677d4d0a047489dad1b9f0ef831f9ae": {
     "model_module": "@jupyter-widgets/controls",
     "model_module_version": "1.5.0",
     "model_name": "ProgressStyleModel",
     "state": {
      "_model_module": "@jupyter-widgets/controls",
      "_model_module_version": "1.5.0",
      "_model_name": "ProgressStyleModel",
      "_view_count": null,
      "_view_module": "@jupyter-widgets/base",
      "_view_module_version": "1.2.0",
      "_view_name": "StyleView",
      "bar_color": null,
      "description_width": ""
     }
    },
    "c7ede49f0b42477fbcb78d137a1917af": {
     "model_module": "@jupyter-widgets/controls",
     "model_module_version": "1.5.0",
     "model_name": "DescriptionStyleModel",
     "state": {
      "_model_module": "@jupyter-widgets/controls",
      "_model_module_version": "1.5.0",
      "_model_name": "DescriptionStyleModel",
      "_view_count": null,
      "_view_module": "@jupyter-widgets/base",
      "_view_module_version": "1.2.0",
      "_view_name": "StyleView",
      "description_width": ""
     }
    },
    "cd56ef2fa995468da63246db5fb1583f": {
     "model_module": "@jupyter-widgets/controls",
     "model_module_version": "1.5.0",
     "model_name": "HBoxModel",
     "state": {
      "_dom_classes": [],
      "_model_module": "@jupyter-widgets/controls",
      "_model_module_version": "1.5.0",
      "_model_name": "HBoxModel",
      "_view_count": null,
      "_view_module": "@jupyter-widgets/controls",
      "_view_module_version": "1.5.0",
      "_view_name": "HBoxView",
      "box_style": "",
      "children": [
       "IPY_MODEL_5a6f1713a0b940bb89b95feeeea26f04",
       "IPY_MODEL_38aea48d00ab4b4682898e94f8ebab28",
       "IPY_MODEL_7b81e29328af467c817bef449053bf57"
      ],
      "layout": "IPY_MODEL_54fb1ae4aa104173b4f69238a988721f"
     }
    },
    "cf4a941da2ee4eb8af2fafda64eeafc8": {
     "model_module": "@jupyter-widgets/controls",
     "model_module_version": "1.5.0",
     "model_name": "HTMLModel",
     "state": {
      "_dom_classes": [],
      "_model_module": "@jupyter-widgets/controls",
      "_model_module_version": "1.5.0",
      "_model_name": "HTMLModel",
      "_view_count": null,
      "_view_module": "@jupyter-widgets/controls",
      "_view_module_version": "1.5.0",
      "_view_name": "HTMLView",
      "description": "",
      "description_tooltip": null,
      "layout": "IPY_MODEL_6e00864c5bf349a5af4096437026c518",
      "placeholder": "​",
      "style": "IPY_MODEL_381608e98b234bcd9d19a1e6bf061073",
      "value": "vocab.txt: 100%"
     }
    },
    "cff6338861b545eaac1e737f47d9315a": {
     "model_module": "@jupyter-widgets/controls",
     "model_module_version": "1.5.0",
     "model_name": "DescriptionStyleModel",
     "state": {
      "_model_module": "@jupyter-widgets/controls",
      "_model_module_version": "1.5.0",
      "_model_name": "DescriptionStyleModel",
      "_view_count": null,
      "_view_module": "@jupyter-widgets/base",
      "_view_module_version": "1.2.0",
      "_view_name": "StyleView",
      "description_width": ""
     }
    },
    "d701bffb7667487cb135914125f3e246": {
     "model_module": "@jupyter-widgets/base",
     "model_module_version": "1.2.0",
     "model_name": "LayoutModel",
     "state": {
      "_model_module": "@jupyter-widgets/base",
      "_model_module_version": "1.2.0",
      "_model_name": "LayoutModel",
      "_view_count": null,
      "_view_module": "@jupyter-widgets/base",
      "_view_module_version": "1.2.0",
      "_view_name": "LayoutView",
      "align_content": null,
      "align_items": null,
      "align_self": null,
      "border": null,
      "bottom": null,
      "display": null,
      "flex": null,
      "flex_flow": null,
      "grid_area": null,
      "grid_auto_columns": null,
      "grid_auto_flow": null,
      "grid_auto_rows": null,
      "grid_column": null,
      "grid_gap": null,
      "grid_row": null,
      "grid_template_areas": null,
      "grid_template_columns": null,
      "grid_template_rows": null,
      "height": null,
      "justify_content": null,
      "justify_items": null,
      "left": null,
      "margin": null,
      "max_height": null,
      "max_width": null,
      "min_height": null,
      "min_width": null,
      "object_fit": null,
      "object_position": null,
      "order": null,
      "overflow": null,
      "overflow_x": null,
      "overflow_y": null,
      "padding": null,
      "right": null,
      "top": null,
      "visibility": null,
      "width": null
     }
    },
    "d95b5b55270046d19f60588c530bac27": {
     "model_module": "@jupyter-widgets/controls",
     "model_module_version": "1.5.0",
     "model_name": "DescriptionStyleModel",
     "state": {
      "_model_module": "@jupyter-widgets/controls",
      "_model_module_version": "1.5.0",
      "_model_name": "DescriptionStyleModel",
      "_view_count": null,
      "_view_module": "@jupyter-widgets/base",
      "_view_module_version": "1.2.0",
      "_view_name": "StyleView",
      "description_width": ""
     }
    },
    "dc850ae789a349be8c04f0dca90a3e83": {
     "model_module": "@jupyter-widgets/controls",
     "model_module_version": "1.5.0",
     "model_name": "ProgressStyleModel",
     "state": {
      "_model_module": "@jupyter-widgets/controls",
      "_model_module_version": "1.5.0",
      "_model_name": "ProgressStyleModel",
      "_view_count": null,
      "_view_module": "@jupyter-widgets/base",
      "_view_module_version": "1.2.0",
      "_view_name": "StyleView",
      "bar_color": null,
      "description_width": ""
     }
    },
    "e13d24cf22bb4e7f928ab579f7a1f142": {
     "model_module": "@jupyter-widgets/base",
     "model_module_version": "1.2.0",
     "model_name": "LayoutModel",
     "state": {
      "_model_module": "@jupyter-widgets/base",
      "_model_module_version": "1.2.0",
      "_model_name": "LayoutModel",
      "_view_count": null,
      "_view_module": "@jupyter-widgets/base",
      "_view_module_version": "1.2.0",
      "_view_name": "LayoutView",
      "align_content": null,
      "align_items": null,
      "align_self": null,
      "border": null,
      "bottom": null,
      "display": null,
      "flex": null,
      "flex_flow": null,
      "grid_area": null,
      "grid_auto_columns": null,
      "grid_auto_flow": null,
      "grid_auto_rows": null,
      "grid_column": null,
      "grid_gap": null,
      "grid_row": null,
      "grid_template_areas": null,
      "grid_template_columns": null,
      "grid_template_rows": null,
      "height": null,
      "justify_content": null,
      "justify_items": null,
      "left": null,
      "margin": null,
      "max_height": null,
      "max_width": null,
      "min_height": null,
      "min_width": null,
      "object_fit": null,
      "object_position": null,
      "order": null,
      "overflow": null,
      "overflow_x": null,
      "overflow_y": null,
      "padding": null,
      "right": null,
      "top": null,
      "visibility": null,
      "width": null
     }
    },
    "e90c87dbea76481c8af18b6b6e4f4df5": {
     "model_module": "@jupyter-widgets/controls",
     "model_module_version": "1.5.0",
     "model_name": "HBoxModel",
     "state": {
      "_dom_classes": [],
      "_model_module": "@jupyter-widgets/controls",
      "_model_module_version": "1.5.0",
      "_model_name": "HBoxModel",
      "_view_count": null,
      "_view_module": "@jupyter-widgets/controls",
      "_view_module_version": "1.5.0",
      "_view_name": "HBoxView",
      "box_style": "",
      "children": [
       "IPY_MODEL_2cbb39cef00a4496b7370f974715dbda",
       "IPY_MODEL_9d8eae6755a143c5836314781fcabf1a",
       "IPY_MODEL_17671d286f2e441686795786b2de4dfa"
      ],
      "layout": "IPY_MODEL_7a0eb106569a4fd88d5d300e7faf5e73"
     }
    },
    "e9ef9633f0a84971a56dc34584f1137e": {
     "model_module": "@jupyter-widgets/controls",
     "model_module_version": "1.5.0",
     "model_name": "HBoxModel",
     "state": {
      "_dom_classes": [],
      "_model_module": "@jupyter-widgets/controls",
      "_model_module_version": "1.5.0",
      "_model_name": "HBoxModel",
      "_view_count": null,
      "_view_module": "@jupyter-widgets/controls",
      "_view_module_version": "1.5.0",
      "_view_name": "HBoxView",
      "box_style": "",
      "children": [
       "IPY_MODEL_0cd087f4e8644bdda827d7afb3819721",
       "IPY_MODEL_8713fb7cd12c4841b38aa62742123263",
       "IPY_MODEL_b7fd619b3cad4b3cae5f58ba5e268a3a"
      ],
      "layout": "IPY_MODEL_eb8af5f7dc8341e7976dc796016731f2"
     }
    },
    "eb8af5f7dc8341e7976dc796016731f2": {
     "model_module": "@jupyter-widgets/base",
     "model_module_version": "1.2.0",
     "model_name": "LayoutModel",
     "state": {
      "_model_module": "@jupyter-widgets/base",
      "_model_module_version": "1.2.0",
      "_model_name": "LayoutModel",
      "_view_count": null,
      "_view_module": "@jupyter-widgets/base",
      "_view_module_version": "1.2.0",
      "_view_name": "LayoutView",
      "align_content": null,
      "align_items": null,
      "align_self": null,
      "border": null,
      "bottom": null,
      "display": null,
      "flex": null,
      "flex_flow": null,
      "grid_area": null,
      "grid_auto_columns": null,
      "grid_auto_flow": null,
      "grid_auto_rows": null,
      "grid_column": null,
      "grid_gap": null,
      "grid_row": null,
      "grid_template_areas": null,
      "grid_template_columns": null,
      "grid_template_rows": null,
      "height": null,
      "justify_content": null,
      "justify_items": null,
      "left": null,
      "margin": null,
      "max_height": null,
      "max_width": null,
      "min_height": null,
      "min_width": null,
      "object_fit": null,
      "object_position": null,
      "order": null,
      "overflow": null,
      "overflow_x": null,
      "overflow_y": null,
      "padding": null,
      "right": null,
      "top": null,
      "visibility": null,
      "width": null
     }
    },
    "eb941070343a4ac89b8bab686e5fcbce": {
     "model_module": "@jupyter-widgets/base",
     "model_module_version": "1.2.0",
     "model_name": "LayoutModel",
     "state": {
      "_model_module": "@jupyter-widgets/base",
      "_model_module_version": "1.2.0",
      "_model_name": "LayoutModel",
      "_view_count": null,
      "_view_module": "@jupyter-widgets/base",
      "_view_module_version": "1.2.0",
      "_view_name": "LayoutView",
      "align_content": null,
      "align_items": null,
      "align_self": null,
      "border": null,
      "bottom": null,
      "display": null,
      "flex": null,
      "flex_flow": null,
      "grid_area": null,
      "grid_auto_columns": null,
      "grid_auto_flow": null,
      "grid_auto_rows": null,
      "grid_column": null,
      "grid_gap": null,
      "grid_row": null,
      "grid_template_areas": null,
      "grid_template_columns": null,
      "grid_template_rows": null,
      "height": null,
      "justify_content": null,
      "justify_items": null,
      "left": null,
      "margin": null,
      "max_height": null,
      "max_width": null,
      "min_height": null,
      "min_width": null,
      "object_fit": null,
      "object_position": null,
      "order": null,
      "overflow": null,
      "overflow_x": null,
      "overflow_y": null,
      "padding": null,
      "right": null,
      "top": null,
      "visibility": null,
      "width": null
     }
    },
    "ec110440398f407684aec417c09ae206": {
     "model_module": "@jupyter-widgets/controls",
     "model_module_version": "1.5.0",
     "model_name": "FloatProgressModel",
     "state": {
      "_dom_classes": [],
      "_model_module": "@jupyter-widgets/controls",
      "_model_module_version": "1.5.0",
      "_model_name": "FloatProgressModel",
      "_view_count": null,
      "_view_module": "@jupyter-widgets/controls",
      "_view_module_version": "1.5.0",
      "_view_name": "ProgressView",
      "bar_style": "success",
      "description": "",
      "description_tooltip": null,
      "layout": "IPY_MODEL_8748dff6f42e4752936c56f0edffe82e",
      "max": 2237676,
      "min": 0,
      "orientation": "horizontal",
      "style": "IPY_MODEL_692a6632dba94a8ea1086bbc510b2398",
      "value": 2237676
     }
    },
    "ef478c4a0e1448a5a205fda30c30a158": {
     "model_module": "@jupyter-widgets/base",
     "model_module_version": "1.2.0",
     "model_name": "LayoutModel",
     "state": {
      "_model_module": "@jupyter-widgets/base",
      "_model_module_version": "1.2.0",
      "_model_name": "LayoutModel",
      "_view_count": null,
      "_view_module": "@jupyter-widgets/base",
      "_view_module_version": "1.2.0",
      "_view_name": "LayoutView",
      "align_content": null,
      "align_items": null,
      "align_self": null,
      "border": null,
      "bottom": null,
      "display": null,
      "flex": null,
      "flex_flow": null,
      "grid_area": null,
      "grid_auto_columns": null,
      "grid_auto_flow": null,
      "grid_auto_rows": null,
      "grid_column": null,
      "grid_gap": null,
      "grid_row": null,
      "grid_template_areas": null,
      "grid_template_columns": null,
      "grid_template_rows": null,
      "height": null,
      "justify_content": null,
      "justify_items": null,
      "left": null,
      "margin": null,
      "max_height": null,
      "max_width": null,
      "min_height": null,
      "min_width": null,
      "object_fit": null,
      "object_position": null,
      "order": null,
      "overflow": null,
      "overflow_x": null,
      "overflow_y": null,
      "padding": null,
      "right": null,
      "top": null,
      "visibility": null,
      "width": null
     }
    },
    "f21cca247d694081b3d9a2f73202e7a2": {
     "model_module": "@jupyter-widgets/controls",
     "model_module_version": "1.5.0",
     "model_name": "HBoxModel",
     "state": {
      "_dom_classes": [],
      "_model_module": "@jupyter-widgets/controls",
      "_model_module_version": "1.5.0",
      "_model_name": "HBoxModel",
      "_view_count": null,
      "_view_module": "@jupyter-widgets/controls",
      "_view_module_version": "1.5.0",
      "_view_name": "HBoxView",
      "box_style": "",
      "children": [
       "IPY_MODEL_51d3ab28e0974b1989b8f8e99881f9c6",
       "IPY_MODEL_8c8f82b94a7d4439bd966e4ac6372243",
       "IPY_MODEL_4b99be711b9e41bbbe2b10d364979691"
      ],
      "layout": "IPY_MODEL_ff83edcb77544cb9ab296939a77ad52c"
     }
    },
    "f4f18a32eb1b4b39a9e6daa48b8472e6": {
     "model_module": "@jupyter-widgets/controls",
     "model_module_version": "1.5.0",
     "model_name": "HBoxModel",
     "state": {
      "_dom_classes": [],
      "_model_module": "@jupyter-widgets/controls",
      "_model_module_version": "1.5.0",
      "_model_name": "HBoxModel",
      "_view_count": null,
      "_view_module": "@jupyter-widgets/controls",
      "_view_module_version": "1.5.0",
      "_view_name": "HBoxView",
      "box_style": "",
      "children": [
       "IPY_MODEL_1935ac8d946a4290aa359912f80fd727",
       "IPY_MODEL_0267e016165b4c5dabf327e445149a73",
       "IPY_MODEL_1a4f4b36b3f24d5fbf387fae8e5aa969"
      ],
      "layout": "IPY_MODEL_1baa85de93944db0b2ab53892a4aa06e"
     }
    },
    "ff83edcb77544cb9ab296939a77ad52c": {
     "model_module": "@jupyter-widgets/base",
     "model_module_version": "1.2.0",
     "model_name": "LayoutModel",
     "state": {
      "_model_module": "@jupyter-widgets/base",
      "_model_module_version": "1.2.0",
      "_model_name": "LayoutModel",
      "_view_count": null,
      "_view_module": "@jupyter-widgets/base",
      "_view_module_version": "1.2.0",
      "_view_name": "LayoutView",
      "align_content": null,
      "align_items": null,
      "align_self": null,
      "border": null,
      "bottom": null,
      "display": null,
      "flex": null,
      "flex_flow": null,
      "grid_area": null,
      "grid_auto_columns": null,
      "grid_auto_flow": null,
      "grid_auto_rows": null,
      "grid_column": null,
      "grid_gap": null,
      "grid_row": null,
      "grid_template_areas": null,
      "grid_template_columns": null,
      "grid_template_rows": null,
      "height": null,
      "justify_content": null,
      "justify_items": null,
      "left": null,
      "margin": null,
      "max_height": null,
      "max_width": null,
      "min_height": null,
      "min_width": null,
      "object_fit": null,
      "object_position": null,
      "order": null,
      "overflow": null,
      "overflow_x": null,
      "overflow_y": null,
      "padding": null,
      "right": null,
      "top": null,
      "visibility": null,
      "width": null
     }
    }
   }
  }
 },
 "nbformat": 4,
 "nbformat_minor": 4
}
