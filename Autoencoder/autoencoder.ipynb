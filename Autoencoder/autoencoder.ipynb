{
 "cells": [
  {
   "cell_type": "code",
   "execution_count": 1,
   "id": "f7ed8d7e",
   "metadata": {},
   "outputs": [],
   "source": [
    "import torch\n",
    "import torch.nn as nn\n",
    "import torch.nn.functional as F\n",
    "import numpy as np\n",
    "import matplotlib.pyplot as plt\n",
    "from keras.datasets import cifar100\n",
    "from tqdm import tqdm\n",
    "from torch.optim.lr_scheduler import StepLR\n",
    "import pytorch_lightning\n",
    "from pytorch_lightning.callbacks import EarlyStopping\n",
    "# from torch.optim"
   ]
  },
  {
   "cell_type": "code",
   "execution_count": 6,
   "id": "bdab1694",
   "metadata": {},
   "outputs": [
    {
     "name": "stdout",
     "output_type": "stream",
     "text": [
      "x_train.shape: (50000, 32, 32, 3)\n",
      "y_train.shape: (50000, 1)\n",
      "x_test.shape: (10000, 32, 32, 3)\n",
      "y_test.shape: (10000, 1)\n"
     ]
    },
    {
     "name": "stderr",
     "output_type": "stream",
     "text": [
      "  1%|          | 1/100 [00:14<24:07, 14.62s/it]"
     ]
    },
    {
     "name": "stdout",
     "output_type": "stream",
     "text": [
      "Epoch [1/100], Loss: 0.6929\n"
     ]
    },
    {
     "name": "stderr",
     "output_type": "stream",
     "text": [
      " 11%|█         | 11/100 [01:11<05:38,  3.80s/it]"
     ]
    },
    {
     "name": "stdout",
     "output_type": "stream",
     "text": [
      "Epoch [11/100], Loss: 0.6948\n"
     ]
    },
    {
     "name": "stderr",
     "output_type": "stream",
     "text": [
      " 21%|██        | 21/100 [01:50<06:06,  4.64s/it]"
     ]
    },
    {
     "name": "stdout",
     "output_type": "stream",
     "text": [
      "Epoch [21/100], Loss: 0.6948\n"
     ]
    },
    {
     "name": "stderr",
     "output_type": "stream",
     "text": [
      " 31%|███       | 31/100 [03:11<09:14,  8.04s/it]"
     ]
    },
    {
     "name": "stdout",
     "output_type": "stream",
     "text": [
      "Epoch [31/100], Loss: 0.6949\n"
     ]
    },
    {
     "name": "stderr",
     "output_type": "stream",
     "text": [
      " 41%|████      | 41/100 [12:20<1:21:03, 82.43s/it]"
     ]
    },
    {
     "name": "stdout",
     "output_type": "stream",
     "text": [
      "Epoch [41/100], Loss: 0.6949\n"
     ]
    },
    {
     "name": "stderr",
     "output_type": "stream",
     "text": [
      " 51%|█████     | 51/100 [27:41<57:38, 70.58s/it]   "
     ]
    },
    {
     "name": "stdout",
     "output_type": "stream",
     "text": [
      "Epoch [51/100], Loss: 0.6949\n"
     ]
    },
    {
     "name": "stderr",
     "output_type": "stream",
     "text": [
      " 61%|██████    | 61/100 [28:15<03:31,  5.41s/it]"
     ]
    },
    {
     "name": "stdout",
     "output_type": "stream",
     "text": [
      "Epoch [61/100], Loss: 0.6949\n"
     ]
    },
    {
     "name": "stderr",
     "output_type": "stream",
     "text": [
      " 71%|███████   | 71/100 [29:19<04:11,  8.68s/it]"
     ]
    },
    {
     "name": "stdout",
     "output_type": "stream",
     "text": [
      "Epoch [71/100], Loss: 0.6949\n"
     ]
    },
    {
     "name": "stderr",
     "output_type": "stream",
     "text": [
      " 81%|████████  | 81/100 [31:12<03:35, 11.36s/it]"
     ]
    },
    {
     "name": "stdout",
     "output_type": "stream",
     "text": [
      "Epoch [81/100], Loss: 0.6949\n"
     ]
    },
    {
     "name": "stderr",
     "output_type": "stream",
     "text": [
      " 91%|█████████ | 91/100 [33:38<02:51, 19.04s/it]"
     ]
    },
    {
     "name": "stdout",
     "output_type": "stream",
     "text": [
      "Epoch [91/100], Loss: 0.6949\n"
     ]
    },
    {
     "name": "stderr",
     "output_type": "stream",
     "text": [
      "100%|██████████| 100/100 [36:41<00:00, 22.01s/it]\n"
     ]
    }
   ],
   "source": [
    "data = cifar100.load_data(label_mode='fine')\n",
    "(x_train, y_train), (x_test, y_test) = data\n",
    "print(\"x_train.shape:\", x_train.shape)\n",
    "print(\"y_train.shape:\", y_train.shape)\n",
    "print(\"x_test.shape:\", x_test.shape)\n",
    "print(\"y_test.shape:\", y_test.shape)\n",
    "\n",
    "\n",
    "class AutoEncoder(nn.Module):\n",
    "    def __init__(self, latent_dim): # input_dim is not used for this Conv architecture\n",
    "        super(AutoEncoder, self).__init__()\n",
    "        self.encoder_feature_dim = 64 * 4 * 4 # Calculate this based on conv output\n",
    "\n",
    "        self.encoder = nn.Sequential(\n",
    "            nn.Conv2d(3, 64, kernel_size=3, stride=2, padding=1),  # Output: (64, 16, 16)\n",
    "            nn.ReLU(),\n",
    "            nn.Conv2d(64, 128, kernel_size=3, stride=2, padding=1),  # Output: (128, 8, 8)\n",
    "            nn.ReLU(),\n",
    "            nn.Conv2d(128, 256, kernel_size=3, stride=2, padding=1),  # Output: (256, 4, 4)\n",
    "            nn.ReLU(),\n",
    "            nn.Conv2d(256, 512, kernel_size=3, stride=2, padding=1),  # Output: (512, 2, 2)\n",
    "            nn.Flatten(),  # Flatten to (batch_size, 128 * 8 * 8)\n",
    "            nn.Linear(512 * 2 * 2, latent_dim),  # Linear layer to latent space\n",
    "        )\n",
    "        self.decoder = nn.Sequential(\n",
    "            nn.Linear(latent_dim, 512 * 2 * 2),  # Linear layer to reshape to (128, 8, 8)\n",
    "            nn.Unflatten(dim=1, unflattened_size=(512 ,2 ,2)),  # Unflatten to (batch_size, 128, 8, 8)\n",
    "            nn.ConvTranspose2d(512, 256, kernel_size=3, stride=2, padding=1, output_padding=1),  # Output: (256, 4, 4)\n",
    "            nn.ReLU(),\n",
    "            nn.ConvTranspose2d(256, 128, kernel_size=3, stride=2, padding=1, output_padding=1),  # Output: (128, 8, 8)\n",
    "            nn.ReLU(),\n",
    "            nn.ConvTranspose2d(128, 64, kernel_size=3, stride=2, padding=1, output_padding=1),  # Output: (64, 16, 16)\n",
    "            nn.ReLU(),\n",
    "            nn.ConvTranspose2d(64, 3, kernel_size=3, stride=2, padding=1, output_padding=1),  # Output: (3, 32, 32)\n",
    "            nn.Sigmoid()  # Sigmoid to normalize output to [0, 1]\n",
    "        )\n",
    "\n",
    "    def forward(self, x):\n",
    "        x = self.encoder(x)\n",
    "        x = self.decoder(x)\n",
    "        return x\n",
    "\n",
    "\n",
    "autoencoder = AutoEncoder(latent_dim=64)\n",
    "autoencoder = autoencoder.cuda()\n",
    "optimizer = torch.optim.Adam(autoencoder.parameters(), lr=0.001)\n",
    "# optimizer = torch.optim.SGD(autoencoder.parameters(), lr=0.1, momentum=0.9)\n",
    "scheduler = StepLR(optimizer, step_size=5, gamma=0.1)\n",
    "# loss = nn.MSELoss()\n",
    "loss = nn.BCELoss()\n",
    "\n",
    "\n",
    "def train_autoencoder(model, data, epochs=100, batch_size=64):\n",
    "    model.train()\n",
    "    num_samples = data.shape[0]\n",
    "    num_batches = num_samples // batch_size\n",
    "    for epoch in tqdm(range(epochs)):\n",
    "        loss_value = 0\n",
    "        for i in range(num_batches):\n",
    "            batch_data = data[i * batch_size:(i + 1) * batch_size]\n",
    "            batch_data = torch.tensor(batch_data).permute(0, 3, 1, 2).cuda()  # Convert to tensor and permute to (N, C, H, W)\n",
    "            optimizer.zero_grad()\n",
    "            reconstructed = model(batch_data)\n",
    "            loss_value = loss(reconstructed, batch_data)\n",
    "            loss_value.backward()\n",
    "            optimizer.step()\n",
    "            # scheduler.step()\n",
    "\n",
    "        if (epoch) % 10 == 0:\n",
    "            print(f'Epoch [{epoch + 1}/{epochs}], Loss: {loss_value.item():.4f}')\n",
    "            \n",
    "\n",
    "def predict(model, data):\n",
    "    model.eval()\n",
    "    with torch.no_grad():\n",
    "        data_tensor = torch.tensor(data).permute(0, 3, 1, 2).cuda()  # Convert to tensor and permute to (N, C, H, W)\n",
    "        reconstructed = model(data_tensor)\n",
    "        return reconstructed.cpu().numpy().transpose(0, 2, 3, 1)  # Convert back to (N, H, W, C)\n",
    "\n",
    "x_test = x_test.astype(np.float32) / 255.0  # Normalize the data\n",
    "np.random.shuffle(x_test)  # Shuffle the test data\n",
    "train_autoencoder(autoencoder, x_test)\n"
   ]
  },
  {
   "cell_type": "code",
   "execution_count": 3,
   "id": "bc59e85b",
   "metadata": {},
   "outputs": [
    {
     "name": "stdout",
     "output_type": "stream",
     "text": [
      "0.0 1.0 0.47937745\n"
     ]
    }
   ],
   "source": [
    "print(x_test.min(), x_test.max(), x_test.mean())\n"
   ]
  },
  {
   "cell_type": "code",
   "execution_count": 4,
   "id": "9618ad72",
   "metadata": {},
   "outputs": [
    {
     "data": {
      "text/plain": [
       "<matplotlib.image.AxesImage at 0x1f0ae7fb760>"
      ]
     },
     "execution_count": 4,
     "metadata": {},
     "output_type": "execute_result"
    },
    {
     "data": {
      "image/png": "[encoded data removed]",
      "text/plain": [
       "<Figure size 640x480 with 1 Axes>"
      ]
     },
     "metadata": {},
     "output_type": "display_data"
    }
   ],
   "source": [
    "plt.imshow(x_train[100])"
   ]
  },
  {
   "cell_type": "code",
   "execution_count": 5,
   "id": "fe35790f",
   "metadata": {},
   "outputs": [
    {
     "data": {
      "text/plain": [
       "<matplotlib.image.AxesImage at 0x1f0aeb84760>"
      ]
     },
     "execution_count": 5,
     "metadata": {},
     "output_type": "execute_result"
    },
    {
     "data": {
      "image/png": "[encoded data removed]",
      "text/plain": [
       "<Figure size 640x480 with 1 Axes>"
      ]
     },
     "metadata": {},
     "output_type": "display_data"
    }
   ],
   "source": [
    "x_100 = x_train[100].astype(np.float32) / 255.0  # Normalize the single image\n",
    "x_100 = x_100.reshape(1, 32, 32, 3)  # Reshape to (1, H, W, C)\n",
    "reconstructed_image = predict(autoencoder, x_100)\n",
    "plt.imshow(reconstructed_image[0])"
   ]
  },
  {
   "cell_type": "code",
   "execution_count": null,
   "id": "4633180f",
   "metadata": {},
   "outputs": [],
   "source": []
  }
 ],
 "metadata": {
  "kernelspec": {
   "display_name": "summer",
   "language": "python",
   "name": "python3"
  },
  "language_info": {
   "codemirror_mode": {
    "name": "ipython",
    "version": 3
   },
   "file_extension": ".py",
   "mimetype": "text/x-python",
   "name": "python",
   "nbconvert_exporter": "python",
   "pygments_lexer": "ipython3",
   "version": "3.10.16"
  }
 },
 "nbformat": 4,
 "nbformat_minor": 5
}
